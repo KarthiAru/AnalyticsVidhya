{
 "cells": [
  {
   "cell_type": "markdown",
   "metadata": {},
   "source": [
    "# Problem Statement"
   ]
  },
  {
   "cell_type": "markdown",
   "metadata": {},
   "source": [
    "Shakespeare probably saw a world expressing itself on Twitter before any one did! And he would have known if any one made a sarcastic tweet or not. But for our machines and bots, they need help from data scientists to help them decipher sarcasm. \n",
    "\n",
    "Your ask for this competition is to build a machine learning model that, given a tweet, can classify it correctly as sarcastic or non-sarcastic. This problem is one of the most interesting problems in Natural Language Processing and Text Mining. You never know - the next generation of bots might come and thank you for making them smarter! \n",
    "\n",
    "The prediction has to be made using only the text of the tweet."
   ]
  },
  {
   "cell_type": "markdown",
   "metadata": {},
   "source": [
    "# Dataset"
   ]
  },
  {
   "cell_type": "markdown",
   "metadata": {},
   "source": [
    "Two files - one each for training and testing - are provided.\n",
    "\n",
    "**training.csv**: This file contains three columns -\n",
    "    - ID: ID for each tweet\n",
    "    - tweet: contains the text of the tweet\n",
    "    - label: the label for the tweet (‘sarcastic’ or ‘non-sarcastic’)\n",
    "\n",
    "**test.csv**: This file has two columns containing the ID and tweets. The predictions on this set would be judged.\n",
    "\n",
    "**submission.csv**: This contains the predictions of the model on the test file. The file has to contain a two columns (ID and label). Each label takes one of the two string values, ‘sarcastic’ or ‘non-sarcastic’."
   ]
  },
  {
   "cell_type": "markdown",
   "metadata": {},
   "source": [
    "# Evauation"
   ]
  },
  {
   "cell_type": "markdown",
   "metadata": {},
   "source": [
    "The metric used for evaluating the predictions for this problem is simply the F1-score.\n",
    "\n",
    "Public : Private leaderboard split on test data is 25:75"
   ]
  },
  {
   "cell_type": "markdown",
   "metadata": {},
   "source": [
    "# Import packages"
   ]
  },
  {
   "cell_type": "code",
   "execution_count": 1,
   "metadata": {
    "collapsed": false
   },
   "outputs": [],
   "source": [
    "import graphlab as gl\n",
    "import graphlab.aggregate as agg"
   ]
  },
  {
   "cell_type": "code",
   "execution_count": 2,
   "metadata": {
    "collapsed": false
   },
   "outputs": [
    {
     "name": "stderr",
     "output_type": "stream",
     "text": [
      "/Users/Karthik/anaconda/envs/py27/lib/python2.7/site-packages/nltk/twitter/__init__.py:20: UserWarning: The twython library has not been installed. Some functionality from the twitter package will not be available.\n",
      "  warnings.warn(\"The twython library has not been installed. \"\n"
     ]
    }
   ],
   "source": [
    "import nltk\n",
    "#nltk.download()\n",
    "#install the following\n",
    "#1. Models > Averaged Perceptron Tagger (2.4 MB)\n",
    "#2. Models > VADER sentiment lexicon (88.4 KB)\n",
    "#3. Corpora > Stopwords corpus (10.2 KB)\n",
    "\n",
    "from nltk.sentiment.vader import SentimentIntensityAnalyzer\n",
    "from nltk.tokenize import RegexpTokenizer\n",
    "from nltk.corpus import stopwords\n",
    "stops = set(stopwords.words(\"english\"))\n",
    "from nltk.stem.snowball import SnowballStemmer\n",
    "stemmer = SnowballStemmer(\"english\")\n",
    "sent = SentimentIntensityAnalyzer() #Create a sentiment transformer\n",
    "tokenizer = RegexpTokenizer(r'\\w+') #Create a tokenizer transformer\n",
    "from nltk.probability import FreqDist\n",
    "\n",
    "from collections import Counter\n",
    "import itertools"
   ]
  },
  {
   "cell_type": "markdown",
   "metadata": {},
   "source": [
    "# Import Data"
   ]
  },
  {
   "cell_type": "code",
   "execution_count": 3,
   "metadata": {
    "collapsed": false
   },
   "outputs": [
    {
     "name": "stderr",
     "output_type": "stream",
     "text": [
      "[INFO] graphlab.cython.cy_server: GraphLab Create v2.1 started. Logging: /tmp/graphlab_server_1488344803.log\n"
     ]
    },
    {
     "name": "stdout",
     "output_type": "stream",
     "text": [
      "This non-commercial license of GraphLab Create for academic use is assigned to karthi.aru@gmail.com and will expire on May 31, 2017.\n"
     ]
    },
    {
     "data": {
      "text/html": [
       "<pre>Finished parsing file /Users/Karthik/Documents/Contest/AnalyticsVidhya/AnalyticsVidhya/mlware-1/data/train_MLWARE1.csv</pre>"
      ],
      "text/plain": [
       "Finished parsing file /Users/Karthik/Documents/Contest/AnalyticsVidhya/AnalyticsVidhya/mlware-1/data/train_MLWARE1.csv"
      ]
     },
     "metadata": {},
     "output_type": "display_data"
    },
    {
     "data": {
      "text/html": [
       "<pre>Parsing completed. Parsed 100 lines in 0.210101 secs.</pre>"
      ],
      "text/plain": [
       "Parsing completed. Parsed 100 lines in 0.210101 secs."
      ]
     },
     "metadata": {},
     "output_type": "display_data"
    },
    {
     "name": "stdout",
     "output_type": "stream",
     "text": [
      "------------------------------------------------------\n",
      "Inferred types from first 100 line(s) of file as \n",
      "column_type_hints=[str,str,str]\n",
      "If parsing fails due to incorrect types, you can correct\n",
      "the inferred type list above and pass it to read_csv in\n",
      "the column_type_hints argument\n",
      "------------------------------------------------------\n"
     ]
    },
    {
     "data": {
      "text/html": [
       "<pre>Finished parsing file /Users/Karthik/Documents/Contest/AnalyticsVidhya/AnalyticsVidhya/mlware-1/data/train_MLWARE1.csv</pre>"
      ],
      "text/plain": [
       "Finished parsing file /Users/Karthik/Documents/Contest/AnalyticsVidhya/AnalyticsVidhya/mlware-1/data/train_MLWARE1.csv"
      ]
     },
     "metadata": {},
     "output_type": "display_data"
    },
    {
     "data": {
      "text/html": [
       "<pre>Parsing completed. Parsed 91298 lines in 0.241489 secs.</pre>"
      ],
      "text/plain": [
       "Parsing completed. Parsed 91298 lines in 0.241489 secs."
      ]
     },
     "metadata": {},
     "output_type": "display_data"
    },
    {
     "data": {
      "text/html": [
       "<pre>Finished parsing file /Users/Karthik/Documents/Contest/AnalyticsVidhya/AnalyticsVidhya/mlware-1/data/test_MLWARE1.csv</pre>"
      ],
      "text/plain": [
       "Finished parsing file /Users/Karthik/Documents/Contest/AnalyticsVidhya/AnalyticsVidhya/mlware-1/data/test_MLWARE1.csv"
      ]
     },
     "metadata": {},
     "output_type": "display_data"
    },
    {
     "data": {
      "text/html": [
       "<pre>Parsing completed. Parsed 100 lines in 0.079393 secs.</pre>"
      ],
      "text/plain": [
       "Parsing completed. Parsed 100 lines in 0.079393 secs."
      ]
     },
     "metadata": {},
     "output_type": "display_data"
    },
    {
     "name": "stdout",
     "output_type": "stream",
     "text": [
      "------------------------------------------------------\n",
      "Inferred types from first 100 line(s) of file as \n",
      "column_type_hints=[str,str]\n",
      "If parsing fails due to incorrect types, you can correct\n",
      "the inferred type list above and pass it to read_csv in\n",
      "the column_type_hints argument\n",
      "------------------------------------------------------\n"
     ]
    },
    {
     "data": {
      "text/html": [
       "<pre>Finished parsing file /Users/Karthik/Documents/Contest/AnalyticsVidhya/AnalyticsVidhya/mlware-1/data/test_MLWARE1.csv</pre>"
      ],
      "text/plain": [
       "Finished parsing file /Users/Karthik/Documents/Contest/AnalyticsVidhya/AnalyticsVidhya/mlware-1/data/test_MLWARE1.csv"
      ]
     },
     "metadata": {},
     "output_type": "display_data"
    },
    {
     "data": {
      "text/html": [
       "<pre>Parsing completed. Parsed 39392 lines in 0.130277 secs.</pre>"
      ],
      "text/plain": [
       "Parsing completed. Parsed 39392 lines in 0.130277 secs."
      ]
     },
     "metadata": {},
     "output_type": "display_data"
    }
   ],
   "source": [
    "train = gl.SFrame('data/train_MLWARE1.csv')\n",
    "test = gl.SFrame('data/test_MLWARE1.csv')"
   ]
  },
  {
   "cell_type": "markdown",
   "metadata": {},
   "source": [
    "# Extract required cols"
   ]
  },
  {
   "cell_type": "code",
   "execution_count": 4,
   "metadata": {
    "collapsed": false
   },
   "outputs": [],
   "source": [
    "id = test['ID']\n",
    "train['set'] = 'train'\n",
    "test['set'] = 'test'\n",
    "test['label'] = 'None'\n",
    "train = train.select_columns(['tweet','set','label'])\n",
    "test = test.select_columns(['tweet','set','label'])"
   ]
  },
  {
   "cell_type": "markdown",
   "metadata": {},
   "source": [
    "# Feature Engineering"
   ]
  },
  {
   "cell_type": "code",
   "execution_count": 5,
   "metadata": {
    "collapsed": false
   },
   "outputs": [],
   "source": [
    "# Join Train-Test\n",
    "df = train.append(test)"
   ]
  },
  {
   "cell_type": "code",
   "execution_count": 6,
   "metadata": {
    "collapsed": true
   },
   "outputs": [],
   "source": [
    "df['senti_score'] = df['tweet'].apply(lambda x: sent.polarity_scores(x)['pos']) - df['tweet'].apply(lambda x: sent.polarity_scores(x)['neg'])\n",
    "df['tweet_length'] = df['tweet'].apply(lambda x: len(x))\n",
    "df['caps_count'] = df['tweet'].apply(lambda x: sum(1 for c in x if c.isupper()))\n",
    "df['exclaim_count'] = df['tweet'].apply(lambda x: x.count(\"!\"))\n",
    "df['ques_count'] = df['tweet'].apply(lambda x: x.count(\"?\"))\n",
    "df['comma_count'] = df['tweet'].apply(lambda x: x.count(\",\"))\n",
    "df['quote_count'] = df['tweet'].apply(lambda x: x.count(\"'\")) + df['tweet'].apply(lambda x: x.count('\"'))"
   ]
  },
  {
   "cell_type": "code",
   "execution_count": 7,
   "metadata": {
    "collapsed": false
   },
   "outputs": [],
   "source": [
    "def pos_ratio(pos_tag):\n",
    "    '''\n",
    "    Function to find the ratio of POS tokens to total tokens\n",
    "    '''\n",
    "    counts = Counter(tag for word,tag in pos_tag)\n",
    "    total = len(pos_tag)\n",
    "    return dict((word, float(count)/total) for word,count in counts.items())\n",
    "\n",
    "def tokens_count(tokens):\n",
    "    '''\n",
    "    Function to count the tokens\n",
    "    '''\n",
    "    counts = Counter(word for word in tokens)\n",
    "    return dict((word, float(count)) for word,count in counts.items())"
   ]
  },
  {
   "cell_type": "code",
   "execution_count": 8,
   "metadata": {
    "collapsed": true
   },
   "outputs": [],
   "source": [
    "df['tokens'] = df['tweet'].apply(lambda x: tokenizer.tokenize(x)) #tokenize\n",
    "df['tokens'] = df['tokens'].apply(lambda x: [token.lower() for token in x if token.lower() not in stops]) #lower case & remove stop words\n",
    "df['pos_tag'] = df['tokens'].apply(lambda x: nltk.pos_tag(x)) #Parts of Speech (POS) tags\n",
    "df['pos_ratio'] = df['pos_tag'].apply(lambda x: pos_ratio(x))\n",
    "df['tokens'] = df['tokens'].apply(lambda x: [stemmer.stem(w) for w in x]) #Stem the tokens\n",
    "df['tokens_count'] = df['tokens'].apply(lambda x: tokens_count(x))"
   ]
  },
  {
   "cell_type": "code",
   "execution_count": 9,
   "metadata": {
    "collapsed": false
   },
   "outputs": [
    {
     "data": {
      "text/html": [
       "<div style=\"max-height:1000px;max-width:1500px;overflow:auto;\"><table frame=\"box\" rules=\"cols\">\n",
       "    <tr>\n",
       "        <th style=\"padding-left: 1em; padding-right: 1em; text-align: center\">tweet</th>\n",
       "        <th style=\"padding-left: 1em; padding-right: 1em; text-align: center\">set</th>\n",
       "        <th style=\"padding-left: 1em; padding-right: 1em; text-align: center\">label</th>\n",
       "        <th style=\"padding-left: 1em; padding-right: 1em; text-align: center\">senti_score</th>\n",
       "        <th style=\"padding-left: 1em; padding-right: 1em; text-align: center\">tweet_length</th>\n",
       "        <th style=\"padding-left: 1em; padding-right: 1em; text-align: center\">caps_count</th>\n",
       "        <th style=\"padding-left: 1em; padding-right: 1em; text-align: center\">exclaim_count</th>\n",
       "        <th style=\"padding-left: 1em; padding-right: 1em; text-align: center\">ques_count</th>\n",
       "    </tr>\n",
       "    <tr>\n",
       "        <td style=\"padding-left: 1em; padding-right: 1em; text-align: center; vertical-align: top\">b'oh yea that makes sense<br>' ...</td>\n",
       "        <td style=\"padding-left: 1em; padding-right: 1em; text-align: center; vertical-align: top\">train</td>\n",
       "        <td style=\"padding-left: 1em; padding-right: 1em; text-align: center; vertical-align: top\">sarcastic</td>\n",
       "        <td style=\"padding-left: 1em; padding-right: 1em; text-align: center; vertical-align: top\">0.0</td>\n",
       "        <td style=\"padding-left: 1em; padding-right: 1em; text-align: center; vertical-align: top\">27</td>\n",
       "        <td style=\"padding-left: 1em; padding-right: 1em; text-align: center; vertical-align: top\">0</td>\n",
       "        <td style=\"padding-left: 1em; padding-right: 1em; text-align: center; vertical-align: top\">0</td>\n",
       "        <td style=\"padding-left: 1em; padding-right: 1em; text-align: center; vertical-align: top\">0</td>\n",
       "    </tr>\n",
       "    <tr>\n",
       "        <td style=\"padding-left: 1em; padding-right: 1em; text-align: center; vertical-align: top\">Estas enfermedad a un<br>cargo poltico tu como ...</td>\n",
       "        <td style=\"padding-left: 1em; padding-right: 1em; text-align: center; vertical-align: top\">train</td>\n",
       "        <td style=\"padding-left: 1em; padding-right: 1em; text-align: center; vertical-align: top\">sarcastic</td>\n",
       "        <td style=\"padding-left: 1em; padding-right: 1em; text-align: center; vertical-align: top\">0.0</td>\n",
       "        <td style=\"padding-left: 1em; padding-right: 1em; text-align: center; vertical-align: top\">70</td>\n",
       "        <td style=\"padding-left: 1em; padding-right: 1em; text-align: center; vertical-align: top\">1</td>\n",
       "        <td style=\"padding-left: 1em; padding-right: 1em; text-align: center; vertical-align: top\">0</td>\n",
       "        <td style=\"padding-left: 1em; padding-right: 1em; text-align: center; vertical-align: top\">0</td>\n",
       "    </tr>\n",
       "    <tr>\n",
       "        <td style=\"padding-left: 1em; padding-right: 1em; text-align: center; vertical-align: top\">@alleygirl2409 until i\\'m<br>and all the old men will ...</td>\n",
       "        <td style=\"padding-left: 1em; padding-right: 1em; text-align: center; vertical-align: top\">train</td>\n",
       "        <td style=\"padding-left: 1em; padding-right: 1em; text-align: center; vertical-align: top\">sarcastic</td>\n",
       "        <td style=\"padding-left: 1em; padding-right: 1em; text-align: center; vertical-align: top\">0.0</td>\n",
       "        <td style=\"padding-left: 1em; padding-right: 1em; text-align: center; vertical-align: top\">93</td>\n",
       "        <td style=\"padding-left: 1em; padding-right: 1em; text-align: center; vertical-align: top\">0</td>\n",
       "        <td style=\"padding-left: 1em; padding-right: 1em; text-align: center; vertical-align: top\">0</td>\n",
       "        <td style=\"padding-left: 1em; padding-right: 1em; text-align: center; vertical-align: top\">0</td>\n",
       "    </tr>\n",
       "    <tr>\n",
       "        <td style=\"padding-left: 1em; padding-right: 1em; text-align: center; vertical-align: top\">b\"@sarinas it had been<br>chanted peacefully you ...</td>\n",
       "        <td style=\"padding-left: 1em; padding-right: 1em; text-align: center; vertical-align: top\">train</td>\n",
       "        <td style=\"padding-left: 1em; padding-right: 1em; text-align: center; vertical-align: top\">sarcastic</td>\n",
       "        <td style=\"padding-left: 1em; padding-right: 1em; text-align: center; vertical-align: top\">0.331</td>\n",
       "        <td style=\"padding-left: 1em; padding-right: 1em; text-align: center; vertical-align: top\">85</td>\n",
       "        <td style=\"padding-left: 1em; padding-right: 1em; text-align: center; vertical-align: top\">0</td>\n",
       "        <td style=\"padding-left: 1em; padding-right: 1em; text-align: center; vertical-align: top\">0</td>\n",
       "        <td style=\"padding-left: 1em; padding-right: 1em; text-align: center; vertical-align: top\">0</td>\n",
       "    </tr>\n",
       "    <tr>\n",
       "        <td style=\"padding-left: 1em; padding-right: 1em; text-align: center; vertical-align: top\">b\"there's nothing like<br>being on vacation and ...</td>\n",
       "        <td style=\"padding-left: 1em; padding-right: 1em; text-align: center; vertical-align: top\">train</td>\n",
       "        <td style=\"padding-left: 1em; padding-right: 1em; text-align: center; vertical-align: top\">sarcastic</td>\n",
       "        <td style=\"padding-left: 1em; padding-right: 1em; text-align: center; vertical-align: top\">-0.161</td>\n",
       "        <td style=\"padding-left: 1em; padding-right: 1em; text-align: center; vertical-align: top\">71</td>\n",
       "        <td style=\"padding-left: 1em; padding-right: 1em; text-align: center; vertical-align: top\">0</td>\n",
       "        <td style=\"padding-left: 1em; padding-right: 1em; text-align: center; vertical-align: top\">0</td>\n",
       "        <td style=\"padding-left: 1em; padding-right: 1em; text-align: center; vertical-align: top\">0</td>\n",
       "    </tr>\n",
       "    <tr>\n",
       "        <td style=\"padding-left: 1em; padding-right: 1em; text-align: center; vertical-align: top\">People who are sarcastic<br>tend to be better pro ...</td>\n",
       "        <td style=\"padding-left: 1em; padding-right: 1em; text-align: center; vertical-align: top\">train</td>\n",
       "        <td style=\"padding-left: 1em; padding-right: 1em; text-align: center; vertical-align: top\">sarcastic</td>\n",
       "        <td style=\"padding-left: 1em; padding-right: 1em; text-align: center; vertical-align: top\">0.0</td>\n",
       "        <td style=\"padding-left: 1em; padding-right: 1em; text-align: center; vertical-align: top\">81</td>\n",
       "        <td style=\"padding-left: 1em; padding-right: 1em; text-align: center; vertical-align: top\">2</td>\n",
       "        <td style=\"padding-left: 1em; padding-right: 1em; text-align: center; vertical-align: top\">0</td>\n",
       "        <td style=\"padding-left: 1em; padding-right: 1em; text-align: center; vertical-align: top\">0</td>\n",
       "    </tr>\n",
       "    <tr>\n",
       "        <td style=\"padding-left: 1em; padding-right: 1em; text-align: center; vertical-align: top\">b'May I block you too RT<br>But what if he or she ...</td>\n",
       "        <td style=\"padding-left: 1em; padding-right: 1em; text-align: center; vertical-align: top\">train</td>\n",
       "        <td style=\"padding-left: 1em; padding-right: 1em; text-align: center; vertical-align: top\">sarcastic</td>\n",
       "        <td style=\"padding-left: 1em; padding-right: 1em; text-align: center; vertical-align: top\">-0.252</td>\n",
       "        <td style=\"padding-left: 1em; padding-right: 1em; text-align: center; vertical-align: top\">100</td>\n",
       "        <td style=\"padding-left: 1em; padding-right: 1em; text-align: center; vertical-align: top\">5</td>\n",
       "        <td style=\"padding-left: 1em; padding-right: 1em; text-align: center; vertical-align: top\">0</td>\n",
       "        <td style=\"padding-left: 1em; padding-right: 1em; text-align: center; vertical-align: top\">0</td>\n",
       "    </tr>\n",
       "    <tr>\n",
       "        <td style=\"padding-left: 1em; padding-right: 1em; text-align: center; vertical-align: top\">b'Wow I really forgot how<br>much I love the traffic ...</td>\n",
       "        <td style=\"padding-left: 1em; padding-right: 1em; text-align: center; vertical-align: top\">train</td>\n",
       "        <td style=\"padding-left: 1em; padding-right: 1em; text-align: center; vertical-align: top\">sarcastic</td>\n",
       "        <td style=\"padding-left: 1em; padding-right: 1em; text-align: center; vertical-align: top\">0.344</td>\n",
       "        <td style=\"padding-left: 1em; padding-right: 1em; text-align: center; vertical-align: top\">55</td>\n",
       "        <td style=\"padding-left: 1em; padding-right: 1em; text-align: center; vertical-align: top\">3</td>\n",
       "        <td style=\"padding-left: 1em; padding-right: 1em; text-align: center; vertical-align: top\">0</td>\n",
       "        <td style=\"padding-left: 1em; padding-right: 1em; text-align: center; vertical-align: top\">0</td>\n",
       "    </tr>\n",
       "    <tr>\n",
       "        <td style=\"padding-left: 1em; padding-right: 1em; text-align: center; vertical-align: top\">b'How perfect my internet<br>just went out thanks  ...</td>\n",
       "        <td style=\"padding-left: 1em; padding-right: 1em; text-align: center; vertical-align: top\">train</td>\n",
       "        <td style=\"padding-left: 1em; padding-right: 1em; text-align: center; vertical-align: top\">sarcastic</td>\n",
       "        <td style=\"padding-left: 1em; padding-right: 1em; text-align: center; vertical-align: top\">0.485</td>\n",
       "        <td style=\"padding-left: 1em; padding-right: 1em; text-align: center; vertical-align: top\">53</td>\n",
       "        <td style=\"padding-left: 1em; padding-right: 1em; text-align: center; vertical-align: top\">1</td>\n",
       "        <td style=\"padding-left: 1em; padding-right: 1em; text-align: center; vertical-align: top\">0</td>\n",
       "        <td style=\"padding-left: 1em; padding-right: 1em; text-align: center; vertical-align: top\">0</td>\n",
       "    </tr>\n",
       "    <tr>\n",
       "        <td style=\"padding-left: 1em; padding-right: 1em; text-align: center; vertical-align: top\">b'Love having no voice<br>$$SAR$$' ...</td>\n",
       "        <td style=\"padding-left: 1em; padding-right: 1em; text-align: center; vertical-align: top\">train</td>\n",
       "        <td style=\"padding-left: 1em; padding-right: 1em; text-align: center; vertical-align: top\">sarcastic</td>\n",
       "        <td style=\"padding-left: 1em; padding-right: 1em; text-align: center; vertical-align: top\">-0.355</td>\n",
       "        <td style=\"padding-left: 1em; padding-right: 1em; text-align: center; vertical-align: top\">31</td>\n",
       "        <td style=\"padding-left: 1em; padding-right: 1em; text-align: center; vertical-align: top\">4</td>\n",
       "        <td style=\"padding-left: 1em; padding-right: 1em; text-align: center; vertical-align: top\">0</td>\n",
       "        <td style=\"padding-left: 1em; padding-right: 1em; text-align: center; vertical-align: top\">0</td>\n",
       "    </tr>\n",
       "</table>\n",
       "<table frame=\"box\" rules=\"cols\">\n",
       "    <tr>\n",
       "        <th style=\"padding-left: 1em; padding-right: 1em; text-align: center\">comma_count</th>\n",
       "        <th style=\"padding-left: 1em; padding-right: 1em; text-align: center\">quote_count</th>\n",
       "        <th style=\"padding-left: 1em; padding-right: 1em; text-align: center\">tokens</th>\n",
       "        <th style=\"padding-left: 1em; padding-right: 1em; text-align: center\">pos_tag</th>\n",
       "        <th style=\"padding-left: 1em; padding-right: 1em; text-align: center\">pos_ratio</th>\n",
       "    </tr>\n",
       "    <tr>\n",
       "        <td style=\"padding-left: 1em; padding-right: 1em; text-align: center; vertical-align: top\">0</td>\n",
       "        <td style=\"padding-left: 1em; padding-right: 1em; text-align: center; vertical-align: top\">2</td>\n",
       "        <td style=\"padding-left: 1em; padding-right: 1em; text-align: center; vertical-align: top\">[b, oh, yea, make, sens]</td>\n",
       "        <td style=\"padding-left: 1em; padding-right: 1em; text-align: center; vertical-align: top\">[[b, NN], [oh, MD], [yea,<br>VB], [makes, VBZ], ...</td>\n",
       "        <td style=\"padding-left: 1em; padding-right: 1em; text-align: center; vertical-align: top\">{'MD': 0.2, 'VB': 0.2,<br>'NN': 0.4, 'VBZ': 0.2} ...</td>\n",
       "    </tr>\n",
       "    <tr>\n",
       "        <td style=\"padding-left: 1em; padding-right: 1em; text-align: center; vertical-align: top\">0</td>\n",
       "        <td style=\"padding-left: 1em; padding-right: 1em; text-align: center; vertical-align: top\">1</td>\n",
       "        <td style=\"padding-left: 1em; padding-right: 1em; text-align: center; vertical-align: top\">[esta, enfermedad, un,<br>cargo, poltico, tu, c ...</td>\n",
       "        <td style=\"padding-left: 1em; padding-right: 1em; text-align: center; vertical-align: top\">[[estas, NNS],<br>[enfermedad, VBP], [un, ...</td>\n",
       "        <td style=\"padding-left: 1em; padding-right: 1em; text-align: center; vertical-align: top\">{'VBP':<br>0.1111111111111111, ...</td>\n",
       "    </tr>\n",
       "    <tr>\n",
       "        <td style=\"padding-left: 1em; padding-right: 1em; text-align: center; vertical-align: top\">0</td>\n",
       "        <td style=\"padding-left: 1em; padding-right: 1em; text-align: center; vertical-align: top\">1</td>\n",
       "        <td style=\"padding-left: 1em; padding-right: 1em; text-align: center; vertical-align: top\">[alleygirl2409, old, men,<br>final, date, sarcasmsun, ...</td>\n",
       "        <td style=\"padding-left: 1em; padding-right: 1em; text-align: center; vertical-align: top\">[[alleygirl2409, JJ],<br>[old, JJ], [men, NNS], ...</td>\n",
       "        <td style=\"padding-left: 1em; padding-right: 1em; text-align: center; vertical-align: top\">{'NN':<br>0.4444444444444444, ...</td>\n",
       "    </tr>\n",
       "    <tr>\n",
       "        <td style=\"padding-left: 1em; padding-right: 1em; text-align: center; vertical-align: top\">0</td>\n",
       "        <td style=\"padding-left: 1em; padding-right: 1em; text-align: center; vertical-align: top\">2</td>\n",
       "        <td style=\"padding-left: 1em; padding-right: 1em; text-align: center; vertical-align: top\">[b, sarina, chant, peac,<br>deni, hypocrisysat, mar, ...</td>\n",
       "        <td style=\"padding-left: 1em; padding-right: 1em; text-align: center; vertical-align: top\">[[b, NN], [sarinas, NNS],<br>[chanted, VBD], ...</td>\n",
       "        <td style=\"padding-left: 1em; padding-right: 1em; text-align: center; vertical-align: top\">{'RB':<br>0.1111111111111111, ' ...</td>\n",
       "    </tr>\n",
       "    <tr>\n",
       "        <td style=\"padding-left: 1em; padding-right: 1em; text-align: center; vertical-align: top\">0</td>\n",
       "        <td style=\"padding-left: 1em; padding-right: 1em; text-align: center; vertical-align: top\">2</td>\n",
       "        <td style=\"padding-left: 1em; padding-right: 1em; text-align: center; vertical-align: top\">[b, noth, like, vacat,<br>homework] ...</td>\n",
       "        <td style=\"padding-left: 1em; padding-right: 1em; text-align: center; vertical-align: top\">[[b, NN], [nothing, NN],<br>[like, IN], [vacation, ...</td>\n",
       "        <td style=\"padding-left: 1em; padding-right: 1em; text-align: center; vertical-align: top\">{'NN': 0.8, 'IN': 0.2}</td>\n",
       "    </tr>\n",
       "    <tr>\n",
       "        <td style=\"padding-left: 1em; padding-right: 1em; text-align: center; vertical-align: top\">0</td>\n",
       "        <td style=\"padding-left: 1em; padding-right: 1em; text-align: center; vertical-align: top\">1</td>\n",
       "        <td style=\"padding-left: 1em; padding-right: 1em; text-align: center; vertical-align: top\">[peopl, sarcast, tend,<br>better, problem, solver, ...</td>\n",
       "        <td style=\"padding-left: 1em; padding-right: 1em; text-align: center; vertical-align: top\">[[people, NNS],<br>[sarcastic, JJ], [tend, ...</td>\n",
       "        <td style=\"padding-left: 1em; padding-right: 1em; text-align: center; vertical-align: top\">{'VBP': 0.25, 'NNS':<br>0.25, 'JJR': 0.125, ' ...</td>\n",
       "    </tr>\n",
       "    <tr>\n",
       "        <td style=\"padding-left: 1em; padding-right: 1em; text-align: center; vertical-align: top\">0</td>\n",
       "        <td style=\"padding-left: 1em; padding-right: 1em; text-align: center; vertical-align: top\">4</td>\n",
       "        <td style=\"padding-left: 1em; padding-right: 1em; text-align: center; vertical-align: top\">[b, may, block, rt,<br>understand, say, fuck] ...</td>\n",
       "        <td style=\"padding-left: 1em; padding-right: 1em; text-align: center; vertical-align: top\">[[b, NN], [may, MD],<br>[block, VB], [rt, NN], ...</td>\n",
       "        <td style=\"padding-left: 1em; padding-right: 1em; text-align: center; vertical-align: top\">{'MD':<br>0.14285714285714285, ...</td>\n",
       "    </tr>\n",
       "    <tr>\n",
       "        <td style=\"padding-left: 1em; padding-right: 1em; text-align: center; vertical-align: top\">0</td>\n",
       "        <td style=\"padding-left: 1em; padding-right: 1em; text-align: center; vertical-align: top\">1</td>\n",
       "        <td style=\"padding-left: 1em; padding-right: 1em; text-align: center; vertical-align: top\">[b, wow, realli, forgot,<br>much, love, traffic, ...</td>\n",
       "        <td style=\"padding-left: 1em; padding-right: 1em; text-align: center; vertical-align: top\">[[b, NN], [wow, NN],<br>[really, RB], [forgot, ...</td>\n",
       "        <td style=\"padding-left: 1em; padding-right: 1em; text-align: center; vertical-align: top\">{'JJ': 0.125, 'RB':<br>0.125, 'NN': 0.625, ...</td>\n",
       "    </tr>\n",
       "    <tr>\n",
       "        <td style=\"padding-left: 1em; padding-right: 1em; text-align: center; vertical-align: top\">0</td>\n",
       "        <td style=\"padding-left: 1em; padding-right: 1em; text-align: center; vertical-align: top\">2</td>\n",
       "        <td style=\"padding-left: 1em; padding-right: 1em; text-align: center; vertical-align: top\">[b, perfect, internet,<br>went, thank, time] ...</td>\n",
       "        <td style=\"padding-left: 1em; padding-right: 1em; text-align: center; vertical-align: top\">[[b, NN], [perfect, NN],<br>[internet, NN], [went, ...</td>\n",
       "        <td style=\"padding-left: 1em; padding-right: 1em; text-align: center; vertical-align: top\">{'NNS':<br>0.16666666666666666, ...</td>\n",
       "    </tr>\n",
       "    <tr>\n",
       "        <td style=\"padding-left: 1em; padding-right: 1em; text-align: center; vertical-align: top\">0</td>\n",
       "        <td style=\"padding-left: 1em; padding-right: 1em; text-align: center; vertical-align: top\">2</td>\n",
       "        <td style=\"padding-left: 1em; padding-right: 1em; text-align: center; vertical-align: top\">[b, love, voic, sar]</td>\n",
       "        <td style=\"padding-left: 1em; padding-right: 1em; text-align: center; vertical-align: top\">[[b, NN], [love, NN],<br>[voice, NN], [sar, NN]] ...</td>\n",
       "        <td style=\"padding-left: 1em; padding-right: 1em; text-align: center; vertical-align: top\">{'NN': 1.0}</td>\n",
       "    </tr>\n",
       "</table>\n",
       "<table frame=\"box\" rules=\"cols\">\n",
       "    <tr>\n",
       "        <th style=\"padding-left: 1em; padding-right: 1em; text-align: center\">tokens_count</th>\n",
       "    </tr>\n",
       "    <tr>\n",
       "        <td style=\"padding-left: 1em; padding-right: 1em; text-align: center; vertical-align: top\">{'yea': 1.0, 'sens': 1.0,<br>'make': 1.0, 'b': 1.0, ...</td>\n",
       "    </tr>\n",
       "    <tr>\n",
       "        <td style=\"padding-left: 1em; padding-right: 1em; text-align: center; vertical-align: top\">{'cargo': 1.0, 'pblico':<br>1.0, 'esta': 1.0, 'tu': ...</td>\n",
       "    </tr>\n",
       "    <tr>\n",
       "        <td style=\"padding-left: 1em; padding-right: 1em; text-align: center; vertical-align: top\">{'mar': 1.0, 'old': 1.0,<br>'men': 1.0, 'ist': 1.0, ...</td>\n",
       "    </tr>\n",
       "    <tr>\n",
       "        <td style=\"padding-left: 1em; padding-right: 1em; text-align: center; vertical-align: top\">{'b': 1.0,<br>'hypocrisysat': 1.0, ...</td>\n",
       "    </tr>\n",
       "    <tr>\n",
       "        <td style=\"padding-left: 1em; padding-right: 1em; text-align: center; vertical-align: top\">{'b': 1.0, 'vacat': 1.0,<br>'noth': 1.0, 'homework': ...</td>\n",
       "    </tr>\n",
       "    <tr>\n",
       "        <td style=\"padding-left: 1em; padding-right: 1em; text-align: center; vertical-align: top\">{'better': 1.0, 'solver':<br>1.0, 'peopl': 1.0, ...</td>\n",
       "    </tr>\n",
       "    <tr>\n",
       "        <td style=\"padding-left: 1em; padding-right: 1em; text-align: center; vertical-align: top\">{'rt': 1.0, 'b': 1.0,<br>'may': 1.0, 'fuck': 1.0, ...</td>\n",
       "    </tr>\n",
       "    <tr>\n",
       "        <td style=\"padding-left: 1em; padding-right: 1em; text-align: center; vertical-align: top\">{'b': 1.0, 'love': 1.0,<br>'wow': 1.0, 'scene':  ...</td>\n",
       "    </tr>\n",
       "    <tr>\n",
       "        <td style=\"padding-left: 1em; padding-right: 1em; text-align: center; vertical-align: top\">{'perfect': 1.0, 'b':<br>1.0, 'thank': 1.0, ...</td>\n",
       "    </tr>\n",
       "    <tr>\n",
       "        <td style=\"padding-left: 1em; padding-right: 1em; text-align: center; vertical-align: top\">{'sar': 1.0, 'b': 1.0,<br>'love': 1.0, 'voic':  ...</td>\n",
       "    </tr>\n",
       "</table>\n",
       "[130690 rows x 14 columns]<br/>Note: Only the head of the SFrame is printed.<br/>You can use print_rows(num_rows=m, num_columns=n) to print more rows and columns.\n",
       "</div>"
      ],
      "text/plain": [
       "Columns:\n",
       "\ttweet\tstr\n",
       "\tset\tstr\n",
       "\tlabel\tstr\n",
       "\tsenti_score\tfloat\n",
       "\ttweet_length\tint\n",
       "\tcaps_count\tint\n",
       "\texclaim_count\tint\n",
       "\tques_count\tint\n",
       "\tcomma_count\tint\n",
       "\tquote_count\tint\n",
       "\ttokens\tlist\n",
       "\tpos_tag\tlist\n",
       "\tpos_ratio\tdict\n",
       "\ttokens_count\tdict\n",
       "\n",
       "Rows: 130690\n",
       "\n",
       "Data:\n",
       "+-------------------------------+-------+-----------+-------------+--------------+\n",
       "|             tweet             |  set  |   label   | senti_score | tweet_length |\n",
       "+-------------------------------+-------+-----------+-------------+--------------+\n",
       "|  b'oh yea that makes sense '  | train | sarcastic |     0.0     |      27      |\n",
       "| Estas enfermedad a un carg... | train | sarcastic |     0.0     |      70      |\n",
       "| @alleygirl2409 until i\\'m ... | train | sarcastic |     0.0     |      93      |\n",
       "| b\"@sarinas it had been cha... | train | sarcastic |    0.331    |      85      |\n",
       "| b\"there's nothing like bei... | train | sarcastic |    -0.161   |      71      |\n",
       "| People who are sarcastic t... | train | sarcastic |     0.0     |      81      |\n",
       "| b'May I block you too RT B... | train | sarcastic |    -0.252   |     100      |\n",
       "| b'Wow I really forgot how ... | train | sarcastic |    0.344    |      55      |\n",
       "| b'How perfect my internet ... | train | sarcastic |    0.485    |      53      |\n",
       "| b'Love having no voice $$S... | train | sarcastic |    -0.355   |      31      |\n",
       "+-------------------------------+-------+-----------+-------------+--------------+\n",
       "+------------+---------------+------------+-------------+-------------+\n",
       "| caps_count | exclaim_count | ques_count | comma_count | quote_count |\n",
       "+------------+---------------+------------+-------------+-------------+\n",
       "|     0      |       0       |     0      |      0      |      2      |\n",
       "|     1      |       0       |     0      |      0      |      1      |\n",
       "|     0      |       0       |     0      |      0      |      1      |\n",
       "|     0      |       0       |     0      |      0      |      2      |\n",
       "|     0      |       0       |     0      |      0      |      2      |\n",
       "|     2      |       0       |     0      |      0      |      1      |\n",
       "|     5      |       0       |     0      |      0      |      4      |\n",
       "|     3      |       0       |     0      |      0      |      1      |\n",
       "|     1      |       0       |     0      |      0      |      2      |\n",
       "|     4      |       0       |     0      |      0      |      2      |\n",
       "+------------+---------------+------------+-------------+-------------+\n",
       "+-------------------------------+-------------------------------+\n",
       "|             tokens            |            pos_tag            |\n",
       "+-------------------------------+-------------------------------+\n",
       "|    [b, oh, yea, make, sens]   | [[b, NN], [oh, MD], [yea, ... |\n",
       "| [esta, enfermedad, un, car... | [[estas, NNS], [enfermedad... |\n",
       "| [alleygirl2409, old, men, ... | [[alleygirl2409, JJ], [old... |\n",
       "| [b, sarina, chant, peac, d... | [[b, NN], [sarinas, NNS], ... |\n",
       "| [b, noth, like, vacat, hom... | [[b, NN], [nothing, NN], [... |\n",
       "| [peopl, sarcast, tend, bet... | [[people, NNS], [sarcastic... |\n",
       "| [b, may, block, rt, unders... | [[b, NN], [may, MD], [bloc... |\n",
       "| [b, wow, realli, forgot, m... | [[b, NN], [wow, NN], [real... |\n",
       "| [b, perfect, internet, wen... | [[b, NN], [perfect, NN], [... |\n",
       "|      [b, love, voic, sar]     | [[b, NN], [love, NN], [voi... |\n",
       "+-------------------------------+-------------------------------+\n",
       "+-------------------------------+-------------------------------+\n",
       "|           pos_ratio           |          tokens_count         |\n",
       "+-------------------------------+-------------------------------+\n",
       "| {'MD': 0.2, 'VB': 0.2, 'NN... | {'yea': 1.0, 'sens': 1.0, ... |\n",
       "| {'VBP': 0.1111111111111111... | {'cargo': 1.0, 'pblico': 1... |\n",
       "| {'NN': 0.4444444444444444,... | {'mar': 1.0, 'old': 1.0, '... |\n",
       "| {'RB': 0.1111111111111111,... | {'b': 1.0, 'hypocrisysat':... |\n",
       "|     {'NN': 0.8, 'IN': 0.2}    | {'b': 1.0, 'vacat': 1.0, '... |\n",
       "| {'VBP': 0.25, 'NNS': 0.25,... | {'better': 1.0, 'solver': ... |\n",
       "| {'MD': 0.14285714285714285... | {'rt': 1.0, 'b': 1.0, 'may... |\n",
       "| {'JJ': 0.125, 'RB': 0.125,... | {'b': 1.0, 'love': 1.0, 'w... |\n",
       "| {'NNS': 0.1666666666666666... | {'perfect': 1.0, 'b': 1.0,... |\n",
       "|          {'NN': 1.0}          | {'sar': 1.0, 'b': 1.0, 'lo... |\n",
       "+-------------------------------+-------------------------------+\n",
       "[130690 rows x 14 columns]\n",
       "Note: Only the head of the SFrame is printed.\n",
       "You can use print_rows(num_rows=m, num_columns=n) to print more rows and columns."
      ]
     },
     "execution_count": 9,
     "metadata": {},
     "output_type": "execute_result"
    }
   ],
   "source": [
    "df"
   ]
  },
  {
   "cell_type": "code",
   "execution_count": 10,
   "metadata": {
    "collapsed": false
   },
   "outputs": [],
   "source": [
    "# Extract the tokens for sarcastic and non-sarcastic\n",
    "sarcasm = list(df.filter_by(['sarcastic'], 'label')['tokens'])\n",
    "non_sarcasm = list(df.filter_by(['non-sarcastic'], 'label')['tokens'])"
   ]
  },
  {
   "cell_type": "code",
   "execution_count": 11,
   "metadata": {
    "collapsed": false
   },
   "outputs": [],
   "source": [
    "# Find the frequency distribution\n",
    "sarcasm_dist = FreqDist(list(itertools.chain(*sarcasm)))\n",
    "non_sarcasm_dist = FreqDist(list(itertools.chain(*non_sarcasm)))"
   ]
  },
  {
   "cell_type": "code",
   "execution_count": 12,
   "metadata": {
    "collapsed": false
   },
   "outputs": [
    {
     "name": "stdout",
     "output_type": "stream",
     "text": [
      "[('b', 38877), ('love', 5509), ('sarcasm', 4905), ('get', 3282), ('like', 3097), ('go', 3058), ('day', 3057), ('great', 2666), ('mar', 2447), ('sar', 2257), ('good', 2194), ('thank', 2149), ('peopl', 2013), ('know', 1983), ('realli', 1958), ('oh', 1946), ('serious', 1894), ('work', 1890), ('today', 1786), ('time', 1737), ('well', 1717), ('make', 1710), ('one', 1617), ('pkt', 1455), ('fun', 1390), ('feel', 1349), ('night', 1346), ('look', 1320), ('see', 1319), ('thing', 1313), ('right', 1276), ('much', 1260), ('think', 1211), ('want', 1205), ('start', 1201), ('wait', 1156), ('back', 1142), ('would', 1129), ('better', 1117), ('wow', 1111), ('got', 1079), ('say', 1075), ('need', 1067), ('best', 1051), ('morn', 1046), ('school', 1039), ('yay', 1009), ('ist', 989), ('come', 986), ('hour', 963)]\n"
     ]
    }
   ],
   "source": [
    "print sarcasm_dist.most_common(50)"
   ]
  },
  {
   "cell_type": "code",
   "execution_count": 13,
   "metadata": {
    "collapsed": false
   },
   "outputs": [
    {
     "name": "stdout",
     "output_type": "stream",
     "text": [
      "[('b', 31919), ('rt', 6701), ('day', 5414), ('happi', 3915), ('love', 3477), ('thank', 2566), ('today', 2137), ('father', 2063), ('new', 2036), ('go', 1945), ('amp', 1877), ('get', 1848), ('see', 1822), ('time', 1805), ('make', 1733), ('wait', 1621), ('birthday', 1604), ('life', 1497), ('good', 1456), ('week', 1393), ('one', 1315), ('look', 1261), ('u', 1247), ('great', 1208), ('tomorrow', 1183), ('come', 1143), ('first', 1068), ('work', 1042), ('start', 1030), ('got', 1003), ('like', 973), ('weekend', 971), ('feel', 944), ('best', 886), ('friday', 861), ('smile', 859), ('final', 819), ('excit', 800), ('us', 790), ('next', 786), ('dad', 774), ('friend', 773), ('readi', 773), ('year', 770), ('morn', 768), ('back', 752), ('tonight', 751), ('take', 711), ('beauti', 701), ('bless', 679)]\n"
     ]
    }
   ],
   "source": [
    "print non_sarcasm_dist.most_common(50)"
   ]
  },
  {
   "cell_type": "markdown",
   "metadata": {},
   "source": [
    "Few words like 'sarcasm', 'sar', 'oh', 'realli', 'serious' seem to stand out in the sarcastic tweets compared to non-sarcastic tweets. Words 'sarcasm', 'sar' might be a leakage due to the way the tweets were scraped."
   ]
  },
  {
   "cell_type": "markdown",
   "metadata": {},
   "source": [
    "# Modelling"
   ]
  },
  {
   "cell_type": "code",
   "execution_count": 14,
   "metadata": {
    "collapsed": true
   },
   "outputs": [],
   "source": [
    "# Train-Test Split\n",
    "train_data = df.filter_by(['train'], 'set')\n",
    "test_data = df.filter_by(['test'], 'set')"
   ]
  },
  {
   "cell_type": "code",
   "execution_count": 15,
   "metadata": {
    "collapsed": true
   },
   "outputs": [],
   "source": [
    "# Train-Validation Split\n",
    "train_data,val_data = train_data.random_split(.8, seed=123)"
   ]
  },
  {
   "cell_type": "code",
   "execution_count": 16,
   "metadata": {
    "collapsed": false
   },
   "outputs": [
    {
     "data": {
      "text/html": [
       "<pre>WARNING: Detected extremely low variance for feature(s) 'exclaim_count', 'comma_count' because all entries are nearly the same.\n",
       "Proceeding with model training using all features. If the model does not provide results of adequate quality, exclude the above mentioned feature(s) from the input dataset.</pre>"
      ],
      "text/plain": [
       "WARNING: Detected extremely low variance for feature(s) 'exclaim_count', 'comma_count' because all entries are nearly the same.\n",
       "Proceeding with model training using all features. If the model does not provide results of adequate quality, exclude the above mentioned feature(s) from the input dataset."
      ]
     },
     "metadata": {},
     "output_type": "display_data"
    },
    {
     "data": {
      "text/html": [
       "<pre>Boosted trees classifier:</pre>"
      ],
      "text/plain": [
       "Boosted trees classifier:"
      ]
     },
     "metadata": {},
     "output_type": "display_data"
    },
    {
     "data": {
      "text/html": [
       "<pre>--------------------------------------------------------</pre>"
      ],
      "text/plain": [
       "--------------------------------------------------------"
      ]
     },
     "metadata": {},
     "output_type": "display_data"
    },
    {
     "data": {
      "text/html": [
       "<pre>Number of examples          : 73155</pre>"
      ],
      "text/plain": [
       "Number of examples          : 73155"
      ]
     },
     "metadata": {},
     "output_type": "display_data"
    },
    {
     "data": {
      "text/html": [
       "<pre>Number of classes           : 2</pre>"
      ],
      "text/plain": [
       "Number of classes           : 2"
      ]
     },
     "metadata": {},
     "output_type": "display_data"
    },
    {
     "data": {
      "text/html": [
       "<pre>Number of feature columns   : 9</pre>"
      ],
      "text/plain": [
       "Number of feature columns   : 9"
      ]
     },
     "metadata": {},
     "output_type": "display_data"
    },
    {
     "data": {
      "text/html": [
       "<pre>Number of unpacked features : 29769</pre>"
      ],
      "text/plain": [
       "Number of unpacked features : 29769"
      ]
     },
     "metadata": {},
     "output_type": "display_data"
    },
    {
     "data": {
      "text/html": [
       "<pre>+-----------+--------------+-------------------+---------------------+-------------------+---------------------+</pre>"
      ],
      "text/plain": [
       "+-----------+--------------+-------------------+---------------------+-------------------+---------------------+"
      ]
     },
     "metadata": {},
     "output_type": "display_data"
    },
    {
     "data": {
      "text/html": [
       "<pre>| Iteration | Elapsed Time | Training-accuracy | Validation-accuracy | Training-log_loss | Validation-log_loss |</pre>"
      ],
      "text/plain": [
       "| Iteration | Elapsed Time | Training-accuracy | Validation-accuracy | Training-log_loss | Validation-log_loss |"
      ]
     },
     "metadata": {},
     "output_type": "display_data"
    },
    {
     "data": {
      "text/html": [
       "<pre>+-----------+--------------+-------------------+---------------------+-------------------+---------------------+</pre>"
      ],
      "text/plain": [
       "+-----------+--------------+-------------------+---------------------+-------------------+---------------------+"
      ]
     },
     "metadata": {},
     "output_type": "display_data"
    },
    {
     "data": {
      "text/html": [
       "<pre>| 1         | 0.235704     | 0.934468          | 0.934741            | 0.492544          | 0.492248            |</pre>"
      ],
      "text/plain": [
       "| 1         | 0.235704     | 0.934468          | 0.934741            | 0.492544          | 0.492248            |"
      ]
     },
     "metadata": {},
     "output_type": "display_data"
    },
    {
     "data": {
      "text/html": [
       "<pre>| 2         | 0.420372     | 0.934017          | 0.934300            | 0.383358          | 0.382747            |</pre>"
      ],
      "text/plain": [
       "| 2         | 0.420372     | 0.934017          | 0.934300            | 0.383358          | 0.382747            |"
      ]
     },
     "metadata": {},
     "output_type": "display_data"
    },
    {
     "data": {
      "text/html": [
       "<pre>| 3         | 0.516635     | 0.934577          | 0.934520            | 0.315287          | 0.314467            |</pre>"
      ],
      "text/plain": [
       "| 3         | 0.516635     | 0.934577          | 0.934520            | 0.315287          | 0.314467            |"
      ]
     },
     "metadata": {},
     "output_type": "display_data"
    },
    {
     "data": {
      "text/html": [
       "<pre>| 4         | 0.615305     | 0.933716          | 0.933749            | 0.272250          | 0.271401            |</pre>"
      ],
      "text/plain": [
       "| 4         | 0.615305     | 0.933716          | 0.933749            | 0.272250          | 0.271401            |"
      ]
     },
     "metadata": {},
     "output_type": "display_data"
    },
    {
     "data": {
      "text/html": [
       "<pre>| 5         | 0.710344     | 0.933675          | 0.933749            | 0.242105          | 0.241077            |</pre>"
      ],
      "text/plain": [
       "| 5         | 0.710344     | 0.933675          | 0.933749            | 0.242105          | 0.241077            |"
      ]
     },
     "metadata": {},
     "output_type": "display_data"
    },
    {
     "data": {
      "text/html": [
       "<pre>| 6         | 1.030760     | 0.934755          | 0.934686            | 0.231051          | 0.230094            |</pre>"
      ],
      "text/plain": [
       "| 6         | 1.030760     | 0.934755          | 0.934686            | 0.231051          | 0.230094            |"
      ]
     },
     "metadata": {},
     "output_type": "display_data"
    },
    {
     "data": {
      "text/html": [
       "<pre>| 10        | 1.510995     | 0.936026          | 0.935567            | 0.184569          | 0.183997            |</pre>"
      ],
      "text/plain": [
       "| 10        | 1.510995     | 0.936026          | 0.935567            | 0.184569          | 0.183997            |"
      ]
     },
     "metadata": {},
     "output_type": "display_data"
    },
    {
     "data": {
      "text/html": [
       "<pre>| 11        | 1.610131     | 0.936532          | 0.935567            | 0.177325          | 0.177166            |</pre>"
      ],
      "text/plain": [
       "| 11        | 1.610131     | 0.936532          | 0.935567            | 0.177325          | 0.177166            |"
      ]
     },
     "metadata": {},
     "output_type": "display_data"
    },
    {
     "data": {
      "text/html": [
       "<pre>| 20        | 2.709768     | 0.939949          | 0.938213            | 0.151610          | 0.154483            |</pre>"
      ],
      "text/plain": [
       "| 20        | 2.709768     | 0.939949          | 0.938213            | 0.151610          | 0.154483            |"
      ]
     },
     "metadata": {},
     "output_type": "display_data"
    },
    {
     "data": {
      "text/html": [
       "<pre>| 30        | 3.625614     | 0.943941          | 0.940583            | 0.139824          | 0.145370            |</pre>"
      ],
      "text/plain": [
       "| 30        | 3.625614     | 0.943941          | 0.940583            | 0.139824          | 0.145370            |"
      ]
     },
     "metadata": {},
     "output_type": "display_data"
    },
    {
     "data": {
      "text/html": [
       "<pre>| 40        | 4.757083     | 0.946675          | 0.942237            | 0.132329          | 0.139842            |</pre>"
      ],
      "text/plain": [
       "| 40        | 4.757083     | 0.946675          | 0.942237            | 0.132329          | 0.139842            |"
      ]
     },
     "metadata": {},
     "output_type": "display_data"
    },
    {
     "data": {
      "text/html": [
       "<pre>| 50        | 5.796971     | 0.948493          | 0.943725            | 0.126816          | 0.136466            |</pre>"
      ],
      "text/plain": [
       "| 50        | 5.796971     | 0.948493          | 0.943725            | 0.126816          | 0.136466            |"
      ]
     },
     "metadata": {},
     "output_type": "display_data"
    },
    {
     "data": {
      "text/html": [
       "<pre>| 51        | 5.900663     | 0.948575          | 0.943780            | 0.126387          | 0.136191            |</pre>"
      ],
      "text/plain": [
       "| 51        | 5.900663     | 0.948575          | 0.943780            | 0.126387          | 0.136191            |"
      ]
     },
     "metadata": {},
     "output_type": "display_data"
    },
    {
     "data": {
      "text/html": [
       "<pre>| 60        | 6.685927     | 0.950161          | 0.945268            | 0.122617          | 0.133588            |</pre>"
      ],
      "text/plain": [
       "| 60        | 6.685927     | 0.950161          | 0.945268            | 0.122617          | 0.133588            |"
      ]
     },
     "metadata": {},
     "output_type": "display_data"
    },
    {
     "data": {
      "text/html": [
       "<pre>| 70        | 7.548813     | 0.951856          | 0.946646            | 0.118150          | 0.131241            |</pre>"
      ],
      "text/plain": [
       "| 70        | 7.548813     | 0.951856          | 0.946646            | 0.118150          | 0.131241            |"
      ]
     },
     "metadata": {},
     "output_type": "display_data"
    },
    {
     "data": {
      "text/html": [
       "<pre>| 80        | 8.409950     | 0.953291          | 0.946701            | 0.114979          | 0.129408            |</pre>"
      ],
      "text/plain": [
       "| 80        | 8.409950     | 0.953291          | 0.946701            | 0.114979          | 0.129408            |"
      ]
     },
     "metadata": {},
     "output_type": "display_data"
    },
    {
     "data": {
      "text/html": [
       "<pre>| 90        | 9.356599     | 0.954644          | 0.946922            | 0.111930          | 0.127862            |</pre>"
      ],
      "text/plain": [
       "| 90        | 9.356599     | 0.954644          | 0.946922            | 0.111930          | 0.127862            |"
      ]
     },
     "metadata": {},
     "output_type": "display_data"
    },
    {
     "data": {
      "text/html": [
       "<pre>| 100       | 10.611684    | 0.955888          | 0.947748            | 0.109593          | 0.126827            |</pre>"
      ],
      "text/plain": [
       "| 100       | 10.611684    | 0.955888          | 0.947748            | 0.109593          | 0.126827            |"
      ]
     },
     "metadata": {},
     "output_type": "display_data"
    },
    {
     "data": {
      "text/html": [
       "<pre>| 101       | 10.714820    | 0.955970          | 0.947804            | 0.109356          | 0.126733            |</pre>"
      ],
      "text/plain": [
       "| 101       | 10.714820    | 0.955970          | 0.947804            | 0.109356          | 0.126733            |"
      ]
     },
     "metadata": {},
     "output_type": "display_data"
    },
    {
     "data": {
      "text/html": [
       "<pre>| 110       | 11.685555    | 0.956927          | 0.947804            | 0.107264          | 0.125722            |</pre>"
      ],
      "text/plain": [
       "| 110       | 11.685555    | 0.956927          | 0.947804            | 0.107264          | 0.125722            |"
      ]
     },
     "metadata": {},
     "output_type": "display_data"
    },
    {
     "data": {
      "text/html": [
       "<pre>| 120       | 12.755635    | 0.958130          | 0.948189            | 0.104699          | 0.124568            |</pre>"
      ],
      "text/plain": [
       "| 120       | 12.755635    | 0.958130          | 0.948189            | 0.104699          | 0.124568            |"
      ]
     },
     "metadata": {},
     "output_type": "display_data"
    },
    {
     "data": {
      "text/html": [
       "<pre>| 130       | 13.632999    | 0.959101          | 0.948961            | 0.102638          | 0.123620            |</pre>"
      ],
      "text/plain": [
       "| 130       | 13.632999    | 0.959101          | 0.948961            | 0.102638          | 0.123620            |"
      ]
     },
     "metadata": {},
     "output_type": "display_data"
    },
    {
     "data": {
      "text/html": [
       "<pre>| 140       | 14.501152    | 0.960030          | 0.949237            | 0.100527          | 0.122785            |</pre>"
      ],
      "text/plain": [
       "| 140       | 14.501152    | 0.960030          | 0.949237            | 0.100527          | 0.122785            |"
      ]
     },
     "metadata": {},
     "output_type": "display_data"
    },
    {
     "data": {
      "text/html": [
       "<pre>| 150       | 15.405958    | 0.960987          | 0.949457            | 0.098894          | 0.122216            |</pre>"
      ],
      "text/plain": [
       "| 150       | 15.405958    | 0.960987          | 0.949457            | 0.098894          | 0.122216            |"
      ]
     },
     "metadata": {},
     "output_type": "display_data"
    },
    {
     "data": {
      "text/html": [
       "<pre>| 160       | 16.506180    | 0.961807          | 0.949292            | 0.097185          | 0.121601            |</pre>"
      ],
      "text/plain": [
       "| 160       | 16.506180    | 0.961807          | 0.949292            | 0.097185          | 0.121601            |"
      ]
     },
     "metadata": {},
     "output_type": "display_data"
    },
    {
     "data": {
      "text/html": [
       "<pre>| 170       | 17.598097    | 0.962463          | 0.949512            | 0.095684          | 0.121096            |</pre>"
      ],
      "text/plain": [
       "| 170       | 17.598097    | 0.962463          | 0.949512            | 0.095684          | 0.121096            |"
      ]
     },
     "metadata": {},
     "output_type": "display_data"
    },
    {
     "data": {
      "text/html": [
       "<pre>| 180       | 18.659226    | 0.963147          | 0.949953            | 0.094254          | 0.120487            |</pre>"
      ],
      "text/plain": [
       "| 180       | 18.659226    | 0.963147          | 0.949953            | 0.094254          | 0.120487            |"
      ]
     },
     "metadata": {},
     "output_type": "display_data"
    },
    {
     "data": {
      "text/html": [
       "<pre>| 190       | 19.519877    | 0.963680          | 0.950339            | 0.093096          | 0.120004            |</pre>"
      ],
      "text/plain": [
       "| 190       | 19.519877    | 0.963680          | 0.950339            | 0.093096          | 0.120004            |"
      ]
     },
     "metadata": {},
     "output_type": "display_data"
    },
    {
     "data": {
      "text/html": [
       "<pre>| 200       | 20.391372    | 0.964391          | 0.950615            | 0.091635          | 0.119576            |</pre>"
      ],
      "text/plain": [
       "| 200       | 20.391372    | 0.964391          | 0.950615            | 0.091635          | 0.119576            |"
      ]
     },
     "metadata": {},
     "output_type": "display_data"
    },
    {
     "data": {
      "text/html": [
       "<pre>| 210       | 21.244940    | 0.965088          | 0.951111            | 0.090428          | 0.119150            |</pre>"
      ],
      "text/plain": [
       "| 210       | 21.244940    | 0.965088          | 0.951111            | 0.090428          | 0.119150            |"
      ]
     },
     "metadata": {},
     "output_type": "display_data"
    },
    {
     "data": {
      "text/html": [
       "<pre>| 220       | 22.119291    | 0.965676          | 0.951221            | 0.089124          | 0.118402            |</pre>"
      ],
      "text/plain": [
       "| 220       | 22.119291    | 0.965676          | 0.951221            | 0.089124          | 0.118402            |"
      ]
     },
     "metadata": {},
     "output_type": "display_data"
    },
    {
     "data": {
      "text/html": [
       "<pre>| 230       | 22.977567    | 0.966332          | 0.950945            | 0.087912          | 0.118146            |</pre>"
      ],
      "text/plain": [
       "| 230       | 22.977567    | 0.966332          | 0.950945            | 0.087912          | 0.118146            |"
      ]
     },
     "metadata": {},
     "output_type": "display_data"
    },
    {
     "data": {
      "text/html": [
       "<pre>| 240       | 23.838622    | 0.966701          | 0.950725            | 0.086939          | 0.117658            |</pre>"
      ],
      "text/plain": [
       "| 240       | 23.838622    | 0.966701          | 0.950725            | 0.086939          | 0.117658            |"
      ]
     },
     "metadata": {},
     "output_type": "display_data"
    },
    {
     "data": {
      "text/html": [
       "<pre>| 250       | 24.698290    | 0.967220          | 0.950890            | 0.085933          | 0.117261            |</pre>"
      ],
      "text/plain": [
       "| 250       | 24.698290    | 0.967220          | 0.950890            | 0.085933          | 0.117261            |"
      ]
     },
     "metadata": {},
     "output_type": "display_data"
    },
    {
     "data": {
      "text/html": [
       "<pre>| 260       | 25.546168    | 0.967562          | 0.950780            | 0.085212          | 0.117154            |</pre>"
      ],
      "text/plain": [
       "| 260       | 25.546168    | 0.967562          | 0.950780            | 0.085212          | 0.117154            |"
      ]
     },
     "metadata": {},
     "output_type": "display_data"
    },
    {
     "data": {
      "text/html": [
       "<pre>| 270       | 26.749257    | 0.967835          | 0.951386            | 0.084269          | 0.117131            |</pre>"
      ],
      "text/plain": [
       "| 270       | 26.749257    | 0.967835          | 0.951386            | 0.084269          | 0.117131            |"
      ]
     },
     "metadata": {},
     "output_type": "display_data"
    },
    {
     "data": {
      "text/html": [
       "<pre>| 280       | 27.666501    | 0.968163          | 0.951441            | 0.083525          | 0.116900            |</pre>"
      ],
      "text/plain": [
       "| 280       | 27.666501    | 0.968163          | 0.951441            | 0.083525          | 0.116900            |"
      ]
     },
     "metadata": {},
     "output_type": "display_data"
    },
    {
     "data": {
      "text/html": [
       "<pre>| 290       | 28.951106    | 0.968601          | 0.951662            | 0.082683          | 0.116552            |</pre>"
      ],
      "text/plain": [
       "| 290       | 28.951106    | 0.968601          | 0.951662            | 0.082683          | 0.116552            |"
      ]
     },
     "metadata": {},
     "output_type": "display_data"
    },
    {
     "data": {
      "text/html": [
       "<pre>| 300       | 30.289608    | 0.969148          | 0.951882            | 0.081844          | 0.116202            |</pre>"
      ],
      "text/plain": [
       "| 300       | 30.289608    | 0.969148          | 0.951882            | 0.081844          | 0.116202            |"
      ]
     },
     "metadata": {},
     "output_type": "display_data"
    },
    {
     "data": {
      "text/html": [
       "<pre>| 310       | 31.136158    | 0.969407          | 0.951882            | 0.081213          | 0.115962            |</pre>"
      ],
      "text/plain": [
       "| 310       | 31.136158    | 0.969407          | 0.951882            | 0.081213          | 0.115962            |"
      ]
     },
     "metadata": {},
     "output_type": "display_data"
    },
    {
     "data": {
      "text/html": [
       "<pre>| 320       | 31.984737    | 0.969831          | 0.951662            | 0.080425          | 0.115698            |</pre>"
      ],
      "text/plain": [
       "| 320       | 31.984737    | 0.969831          | 0.951662            | 0.080425          | 0.115698            |"
      ]
     },
     "metadata": {},
     "output_type": "display_data"
    },
    {
     "data": {
      "text/html": [
       "<pre>| 330       | 32.848500    | 0.970105          | 0.951937            | 0.079606          | 0.115295            |</pre>"
      ],
      "text/plain": [
       "| 330       | 32.848500    | 0.970105          | 0.951937            | 0.079606          | 0.115295            |"
      ]
     },
     "metadata": {},
     "output_type": "display_data"
    },
    {
     "data": {
      "text/html": [
       "<pre>| 340       | 33.701993    | 0.970870          | 0.952103            | 0.078716          | 0.115002            |</pre>"
      ],
      "text/plain": [
       "| 340       | 33.701993    | 0.970870          | 0.952103            | 0.078716          | 0.115002            |"
      ]
     },
     "metadata": {},
     "output_type": "display_data"
    },
    {
     "data": {
      "text/html": [
       "<pre>| 350       | 34.570962    | 0.971198          | 0.951662            | 0.077966          | 0.114841            |</pre>"
      ],
      "text/plain": [
       "| 350       | 34.570962    | 0.971198          | 0.951662            | 0.077966          | 0.114841            |"
      ]
     },
     "metadata": {},
     "output_type": "display_data"
    },
    {
     "data": {
      "text/html": [
       "<pre>| 360       | 35.413524    | 0.971499          | 0.951937            | 0.077399          | 0.114682            |</pre>"
      ],
      "text/plain": [
       "| 360       | 35.413524    | 0.971499          | 0.951937            | 0.077399          | 0.114682            |"
      ]
     },
     "metadata": {},
     "output_type": "display_data"
    },
    {
     "data": {
      "text/html": [
       "<pre>| 370       | 36.292436    | 0.971663          | 0.952103            | 0.076664          | 0.114432            |</pre>"
      ],
      "text/plain": [
       "| 370       | 36.292436    | 0.971663          | 0.952103            | 0.076664          | 0.114432            |"
      ]
     },
     "metadata": {},
     "output_type": "display_data"
    },
    {
     "data": {
      "text/html": [
       "<pre>| 380       | 37.153399    | 0.972155          | 0.952103            | 0.075825          | 0.114309            |</pre>"
      ],
      "text/plain": [
       "| 380       | 37.153399    | 0.972155          | 0.952103            | 0.075825          | 0.114309            |"
      ]
     },
     "metadata": {},
     "output_type": "display_data"
    },
    {
     "data": {
      "text/html": [
       "<pre>| 390       | 38.006392    | 0.972592          | 0.952378            | 0.075185          | 0.114063            |</pre>"
      ],
      "text/plain": [
       "| 390       | 38.006392    | 0.972592          | 0.952378            | 0.075185          | 0.114063            |"
      ]
     },
     "metadata": {},
     "output_type": "display_data"
    },
    {
     "data": {
      "text/html": [
       "<pre>| 400       | 39.109900    | 0.972825          | 0.952323            | 0.074627          | 0.113894            |</pre>"
      ],
      "text/plain": [
       "| 400       | 39.109900    | 0.972825          | 0.952323            | 0.074627          | 0.113894            |"
      ]
     },
     "metadata": {},
     "output_type": "display_data"
    },
    {
     "data": {
      "text/html": [
       "<pre>| 410       | 40.063151    | 0.973126          | 0.952433            | 0.074042          | 0.113782            |</pre>"
      ],
      "text/plain": [
       "| 410       | 40.063151    | 0.973126          | 0.952433            | 0.074042          | 0.113782            |"
      ]
     },
     "metadata": {},
     "output_type": "display_data"
    },
    {
     "data": {
      "text/html": [
       "<pre>| 420       | 41.029769    | 0.973481          | 0.952654            | 0.073507          | 0.113777            |</pre>"
      ],
      "text/plain": [
       "| 420       | 41.029769    | 0.973481          | 0.952654            | 0.073507          | 0.113777            |"
      ]
     },
     "metadata": {},
     "output_type": "display_data"
    },
    {
     "data": {
      "text/html": [
       "<pre>| 430       | 42.022685    | 0.973959          | 0.952819            | 0.072851          | 0.113535            |</pre>"
      ],
      "text/plain": [
       "| 430       | 42.022685    | 0.973959          | 0.952819            | 0.072851          | 0.113535            |"
      ]
     },
     "metadata": {},
     "output_type": "display_data"
    },
    {
     "data": {
      "text/html": [
       "<pre>| 440       | 42.975069    | 0.974438          | 0.952544            | 0.071916          | 0.113469            |</pre>"
      ],
      "text/plain": [
       "| 440       | 42.975069    | 0.974438          | 0.952544            | 0.071916          | 0.113469            |"
      ]
     },
     "metadata": {},
     "output_type": "display_data"
    },
    {
     "data": {
      "text/html": [
       "<pre>| 450       | 43.858616    | 0.974629          | 0.952433            | 0.071379          | 0.113337            |</pre>"
      ],
      "text/plain": [
       "| 450       | 43.858616    | 0.974629          | 0.952433            | 0.071379          | 0.113337            |"
      ]
     },
     "metadata": {},
     "output_type": "display_data"
    },
    {
     "data": {
      "text/html": [
       "<pre>| 460       | 44.799841    | 0.974889          | 0.952819            | 0.070734          | 0.113073            |</pre>"
      ],
      "text/plain": [
       "| 460       | 44.799841    | 0.974889          | 0.952819            | 0.070734          | 0.113073            |"
      ]
     },
     "metadata": {},
     "output_type": "display_data"
    },
    {
     "data": {
      "text/html": [
       "<pre>| 470       | 45.781538    | 0.975436          | 0.952599            | 0.069915          | 0.112816            |</pre>"
      ],
      "text/plain": [
       "| 470       | 45.781538    | 0.975436          | 0.952599            | 0.069915          | 0.112816            |"
      ]
     },
     "metadata": {},
     "output_type": "display_data"
    },
    {
     "data": {
      "text/html": [
       "<pre>| 480       | 46.758417    | 0.975764          | 0.952764            | 0.069263          | 0.112682            |</pre>"
      ],
      "text/plain": [
       "| 480       | 46.758417    | 0.975764          | 0.952764            | 0.069263          | 0.112682            |"
      ]
     },
     "metadata": {},
     "output_type": "display_data"
    },
    {
     "data": {
      "text/html": [
       "<pre>| 490       | 47.730029    | 0.976188          | 0.952709            | 0.068832          | 0.112662            |</pre>"
      ],
      "text/plain": [
       "| 490       | 47.730029    | 0.976188          | 0.952709            | 0.068832          | 0.112662            |"
      ]
     },
     "metadata": {},
     "output_type": "display_data"
    },
    {
     "data": {
      "text/html": [
       "<pre>| 500       | 48.591775    | 0.976379          | 0.952819            | 0.068455          | 0.112689            |</pre>"
      ],
      "text/plain": [
       "| 500       | 48.591775    | 0.976379          | 0.952819            | 0.068455          | 0.112689            |"
      ]
     },
     "metadata": {},
     "output_type": "display_data"
    },
    {
     "data": {
      "text/html": [
       "<pre>| 501       | 48.677749    | 0.976379          | 0.952764            | 0.068426          | 0.112705            |</pre>"
      ],
      "text/plain": [
       "| 501       | 48.677749    | 0.976379          | 0.952764            | 0.068426          | 0.112705            |"
      ]
     },
     "metadata": {},
     "output_type": "display_data"
    },
    {
     "data": {
      "text/html": [
       "<pre>| 510       | 49.440053    | 0.976652          | 0.953040            | 0.067892          | 0.112592            |</pre>"
      ],
      "text/plain": [
       "| 510       | 49.440053    | 0.976652          | 0.953040            | 0.067892          | 0.112592            |"
      ]
     },
     "metadata": {},
     "output_type": "display_data"
    },
    {
     "data": {
      "text/html": [
       "<pre>| 520       | 50.303757    | 0.976748          | 0.953370            | 0.067328          | 0.112495            |</pre>"
      ],
      "text/plain": [
       "| 520       | 50.303757    | 0.976748          | 0.953370            | 0.067328          | 0.112495            |"
      ]
     },
     "metadata": {},
     "output_type": "display_data"
    },
    {
     "data": {
      "text/html": [
       "<pre>| 530       | 51.177434    | 0.977336          | 0.953205            | 0.066537          | 0.112319            |</pre>"
      ],
      "text/plain": [
       "| 530       | 51.177434    | 0.977336          | 0.953205            | 0.066537          | 0.112319            |"
      ]
     },
     "metadata": {},
     "output_type": "display_data"
    },
    {
     "data": {
      "text/html": [
       "<pre>| 540       | 52.014240    | 0.977664          | 0.953756            | 0.065948          | 0.112217            |</pre>"
      ],
      "text/plain": [
       "| 540       | 52.014240    | 0.977664          | 0.953756            | 0.065948          | 0.112217            |"
      ]
     },
     "metadata": {},
     "output_type": "display_data"
    },
    {
     "data": {
      "text/html": [
       "<pre>| 550       | 52.866143    | 0.977787          | 0.953922            | 0.065514          | 0.112082            |</pre>"
      ],
      "text/plain": [
       "| 550       | 52.866143    | 0.977787          | 0.953922            | 0.065514          | 0.112082            |"
      ]
     },
     "metadata": {},
     "output_type": "display_data"
    },
    {
     "data": {
      "text/html": [
       "<pre>| 560       | 53.727816    | 0.978252          | 0.953756            | 0.064907          | 0.111981            |</pre>"
      ],
      "text/plain": [
       "| 560       | 53.727816    | 0.978252          | 0.953756            | 0.064907          | 0.111981            |"
      ]
     },
     "metadata": {},
     "output_type": "display_data"
    },
    {
     "data": {
      "text/html": [
       "<pre>| 570       | 54.558615    | 0.978429          | 0.953811            | 0.064590          | 0.112013            |</pre>"
      ],
      "text/plain": [
       "| 570       | 54.558615    | 0.978429          | 0.953811            | 0.064590          | 0.112013            |"
      ]
     },
     "metadata": {},
     "output_type": "display_data"
    },
    {
     "data": {
      "text/html": [
       "<pre>| 580       | 55.396811    | 0.978566          | 0.953701            | 0.064283          | 0.111900            |</pre>"
      ],
      "text/plain": [
       "| 580       | 55.396811    | 0.978566          | 0.953701            | 0.064283          | 0.111900            |"
      ]
     },
     "metadata": {},
     "output_type": "display_data"
    },
    {
     "data": {
      "text/html": [
       "<pre>| 590       | 56.245032    | 0.978634          | 0.953646            | 0.063801          | 0.111948            |</pre>"
      ],
      "text/plain": [
       "| 590       | 56.245032    | 0.978634          | 0.953646            | 0.063801          | 0.111948            |"
      ]
     },
     "metadata": {},
     "output_type": "display_data"
    },
    {
     "data": {
      "text/html": [
       "<pre>| 600       | 57.094172    | 0.979086          | 0.953977            | 0.063229          | 0.111780            |</pre>"
      ],
      "text/plain": [
       "| 600       | 57.094172    | 0.979086          | 0.953977            | 0.063229          | 0.111780            |"
      ]
     },
     "metadata": {},
     "output_type": "display_data"
    },
    {
     "data": {
      "text/html": [
       "<pre>| 610       | 57.956636    | 0.979250          | 0.953977            | 0.062946          | 0.111741            |</pre>"
      ],
      "text/plain": [
       "| 610       | 57.956636    | 0.979250          | 0.953977            | 0.062946          | 0.111741            |"
      ]
     },
     "metadata": {},
     "output_type": "display_data"
    },
    {
     "data": {
      "text/html": [
       "<pre>| 620       | 58.835016    | 0.979414          | 0.954032            | 0.062618          | 0.111685            |</pre>"
      ],
      "text/plain": [
       "| 620       | 58.835016    | 0.979414          | 0.954032            | 0.062618          | 0.111685            |"
      ]
     },
     "metadata": {},
     "output_type": "display_data"
    },
    {
     "data": {
      "text/html": [
       "<pre>| 630       | 59.666830    | 0.979687          | 0.954087            | 0.062205          | 0.111396            |</pre>"
      ],
      "text/plain": [
       "| 630       | 59.666830    | 0.979687          | 0.954087            | 0.062205          | 0.111396            |"
      ]
     },
     "metadata": {},
     "output_type": "display_data"
    },
    {
     "data": {
      "text/html": [
       "<pre>| 640       | 60.506253    | 0.979878          | 0.954032            | 0.061661          | 0.111357            |</pre>"
      ],
      "text/plain": [
       "| 640       | 60.506253    | 0.979878          | 0.954032            | 0.061661          | 0.111357            |"
      ]
     },
     "metadata": {},
     "output_type": "display_data"
    },
    {
     "data": {
      "text/html": [
       "<pre>| 650       | 61.333422    | 0.980398          | 0.954418            | 0.060989          | 0.111465            |</pre>"
      ],
      "text/plain": [
       "| 650       | 61.333422    | 0.980398          | 0.954418            | 0.060989          | 0.111465            |"
      ]
     },
     "metadata": {},
     "output_type": "display_data"
    },
    {
     "data": {
      "text/html": [
       "<pre>| 660       | 62.185083    | 0.980521          | 0.954528            | 0.060666          | 0.111451            |</pre>"
      ],
      "text/plain": [
       "| 660       | 62.185083    | 0.980521          | 0.954528            | 0.060666          | 0.111451            |"
      ]
     },
     "metadata": {},
     "output_type": "display_data"
    },
    {
     "data": {
      "text/html": [
       "<pre>| 670       | 63.040354    | 0.980753          | 0.954583            | 0.060374          | 0.111344            |</pre>"
      ],
      "text/plain": [
       "| 670       | 63.040354    | 0.980753          | 0.954583            | 0.060374          | 0.111344            |"
      ]
     },
     "metadata": {},
     "output_type": "display_data"
    },
    {
     "data": {
      "text/html": [
       "<pre>| 680       | 63.912175    | 0.981068          | 0.954748            | 0.059774          | 0.111327            |</pre>"
      ],
      "text/plain": [
       "| 680       | 63.912175    | 0.981068          | 0.954748            | 0.059774          | 0.111327            |"
      ]
     },
     "metadata": {},
     "output_type": "display_data"
    },
    {
     "data": {
      "text/html": [
       "<pre>| 690       | 64.745045    | 0.981191          | 0.954748            | 0.059394          | 0.111352            |</pre>"
      ],
      "text/plain": [
       "| 690       | 64.745045    | 0.981191          | 0.954748            | 0.059394          | 0.111352            |"
      ]
     },
     "metadata": {},
     "output_type": "display_data"
    },
    {
     "data": {
      "text/html": [
       "<pre>| 700       | 65.593858    | 0.981245          | 0.954748            | 0.059122          | 0.111393            |</pre>"
      ],
      "text/plain": [
       "| 700       | 65.593858    | 0.981245          | 0.954748            | 0.059122          | 0.111393            |"
      ]
     },
     "metadata": {},
     "output_type": "display_data"
    },
    {
     "data": {
      "text/html": [
       "<pre>| 710       | 66.552400    | 0.981464          | 0.955024            | 0.058766          | 0.111283            |</pre>"
      ],
      "text/plain": [
       "| 710       | 66.552400    | 0.981464          | 0.955024            | 0.058766          | 0.111283            |"
      ]
     },
     "metadata": {},
     "output_type": "display_data"
    },
    {
     "data": {
      "text/html": [
       "<pre>| 720       | 67.430785    | 0.981573          | 0.954914            | 0.058537          | 0.111335            |</pre>"
      ],
      "text/plain": [
       "| 720       | 67.430785    | 0.981573          | 0.954914            | 0.058537          | 0.111335            |"
      ]
     },
     "metadata": {},
     "output_type": "display_data"
    },
    {
     "data": {
      "text/html": [
       "<pre>| 730       | 68.366209    | 0.981683          | 0.954859            | 0.058241          | 0.111208            |</pre>"
      ],
      "text/plain": [
       "| 730       | 68.366209    | 0.981683          | 0.954859            | 0.058241          | 0.111208            |"
      ]
     },
     "metadata": {},
     "output_type": "display_data"
    },
    {
     "data": {
      "text/html": [
       "<pre>| 740       | 69.228786    | 0.981792          | 0.954914            | 0.058018          | 0.111242            |</pre>"
      ],
      "text/plain": [
       "| 740       | 69.228786    | 0.981792          | 0.954914            | 0.058018          | 0.111242            |"
      ]
     },
     "metadata": {},
     "output_type": "display_data"
    },
    {
     "data": {
      "text/html": [
       "<pre>| 750       | 70.058595    | 0.981942          | 0.955024            | 0.057722          | 0.111281            |</pre>"
      ],
      "text/plain": [
       "| 750       | 70.058595    | 0.981942          | 0.955024            | 0.057722          | 0.111281            |"
      ]
     },
     "metadata": {},
     "output_type": "display_data"
    },
    {
     "data": {
      "text/html": [
       "<pre>| 760       | 70.920470    | 0.982052          | 0.954804            | 0.057508          | 0.111214            |</pre>"
      ],
      "text/plain": [
       "| 760       | 70.920470    | 0.982052          | 0.954804            | 0.057508          | 0.111214            |"
      ]
     },
     "metadata": {},
     "output_type": "display_data"
    },
    {
     "data": {
      "text/html": [
       "<pre>| 770       | 71.857227    | 0.982216          | 0.954969            | 0.057228          | 0.111114            |</pre>"
      ],
      "text/plain": [
       "| 770       | 71.857227    | 0.982216          | 0.954969            | 0.057228          | 0.111114            |"
      ]
     },
     "metadata": {},
     "output_type": "display_data"
    },
    {
     "data": {
      "text/html": [
       "<pre>| 780       | 72.690770    | 0.982271          | 0.954969            | 0.056999          | 0.111021            |</pre>"
      ],
      "text/plain": [
       "| 780       | 72.690770    | 0.982271          | 0.954969            | 0.056999          | 0.111021            |"
      ]
     },
     "metadata": {},
     "output_type": "display_data"
    },
    {
     "data": {
      "text/html": [
       "<pre>| 790       | 73.522616    | 0.982407          | 0.955244            | 0.056642          | 0.110882            |</pre>"
      ],
      "text/plain": [
       "| 790       | 73.522616    | 0.982407          | 0.955244            | 0.056642          | 0.110882            |"
      ]
     },
     "metadata": {},
     "output_type": "display_data"
    },
    {
     "data": {
      "text/html": [
       "<pre>| 800       | 74.574916    | 0.982749          | 0.955134            | 0.056149          | 0.110890            |</pre>"
      ],
      "text/plain": [
       "| 800       | 74.574916    | 0.982749          | 0.955134            | 0.056149          | 0.110890            |"
      ]
     },
     "metadata": {},
     "output_type": "display_data"
    },
    {
     "data": {
      "text/html": [
       "<pre>| 810       | 75.432507    | 0.982872          | 0.955244            | 0.055846          | 0.110765            |</pre>"
      ],
      "text/plain": [
       "| 810       | 75.432507    | 0.982872          | 0.955244            | 0.055846          | 0.110765            |"
      ]
     },
     "metadata": {},
     "output_type": "display_data"
    },
    {
     "data": {
      "text/html": [
       "<pre>| 820       | 76.470028    | 0.983104          | 0.955410            | 0.055470          | 0.110728            |</pre>"
      ],
      "text/plain": [
       "| 820       | 76.470028    | 0.983104          | 0.955410            | 0.055470          | 0.110728            |"
      ]
     },
     "metadata": {},
     "output_type": "display_data"
    },
    {
     "data": {
      "text/html": [
       "<pre>| 830       | 77.764981    | 0.983173          | 0.955465            | 0.055299          | 0.110761            |</pre>"
      ],
      "text/plain": [
       "| 830       | 77.764981    | 0.983173          | 0.955465            | 0.055299          | 0.110761            |"
      ]
     },
     "metadata": {},
     "output_type": "display_data"
    },
    {
     "data": {
      "text/html": [
       "<pre>| 840       | 78.938212    | 0.983268          | 0.955465            | 0.055020          | 0.110767            |</pre>"
      ],
      "text/plain": [
       "| 840       | 78.938212    | 0.983268          | 0.955465            | 0.055020          | 0.110767            |"
      ]
     },
     "metadata": {},
     "output_type": "display_data"
    },
    {
     "data": {
      "text/html": [
       "<pre>| 850       | 80.065984    | 0.983446          | 0.955410            | 0.054718          | 0.110778            |</pre>"
      ],
      "text/plain": [
       "| 850       | 80.065984    | 0.983446          | 0.955410            | 0.054718          | 0.110778            |"
      ]
     },
     "metadata": {},
     "output_type": "display_data"
    },
    {
     "data": {
      "text/html": [
       "<pre>| 860       | 80.991966    | 0.983528          | 0.955520            | 0.054496          | 0.110743            |</pre>"
      ],
      "text/plain": [
       "| 860       | 80.991966    | 0.983528          | 0.955520            | 0.054496          | 0.110743            |"
      ]
     },
     "metadata": {},
     "output_type": "display_data"
    },
    {
     "data": {
      "text/html": [
       "<pre>| 870       | 81.861894    | 0.983637          | 0.955410            | 0.054166          | 0.110751            |</pre>"
      ],
      "text/plain": [
       "| 870       | 81.861894    | 0.983637          | 0.955410            | 0.054166          | 0.110751            |"
      ]
     },
     "metadata": {},
     "output_type": "display_data"
    },
    {
     "data": {
      "text/html": [
       "<pre>| 880       | 82.735781    | 0.983692          | 0.955244            | 0.053953          | 0.110736            |</pre>"
      ],
      "text/plain": [
       "| 880       | 82.735781    | 0.983692          | 0.955244            | 0.053953          | 0.110736            |"
      ]
     },
     "metadata": {},
     "output_type": "display_data"
    },
    {
     "data": {
      "text/html": [
       "<pre>| 890       | 83.576245    | 0.983774          | 0.955355            | 0.053719          | 0.110708            |</pre>"
      ],
      "text/plain": [
       "| 890       | 83.576245    | 0.983774          | 0.955355            | 0.053719          | 0.110708            |"
      ]
     },
     "metadata": {},
     "output_type": "display_data"
    },
    {
     "data": {
      "text/html": [
       "<pre>| 900       | 84.419146    | 0.983884          | 0.955575            | 0.053377          | 0.110650            |</pre>"
      ],
      "text/plain": [
       "| 900       | 84.419146    | 0.983884          | 0.955575            | 0.053377          | 0.110650            |"
      ]
     },
     "metadata": {},
     "output_type": "display_data"
    },
    {
     "data": {
      "text/html": [
       "<pre>| 910       | 85.249756    | 0.983993          | 0.955741            | 0.053105          | 0.110555            |</pre>"
      ],
      "text/plain": [
       "| 910       | 85.249756    | 0.983993          | 0.955741            | 0.053105          | 0.110555            |"
      ]
     },
     "metadata": {},
     "output_type": "display_data"
    },
    {
     "data": {
      "text/html": [
       "<pre>| 920       | 86.113328    | 0.984034          | 0.955741            | 0.052963          | 0.110489            |</pre>"
      ],
      "text/plain": [
       "| 920       | 86.113328    | 0.984034          | 0.955741            | 0.052963          | 0.110489            |"
      ]
     },
     "metadata": {},
     "output_type": "display_data"
    },
    {
     "data": {
      "text/html": [
       "<pre>| 930       | 87.020845    | 0.984089          | 0.955851            | 0.052695          | 0.110382            |</pre>"
      ],
      "text/plain": [
       "| 930       | 87.020845    | 0.984089          | 0.955851            | 0.052695          | 0.110382            |"
      ]
     },
     "metadata": {},
     "output_type": "display_data"
    },
    {
     "data": {
      "text/html": [
       "<pre>| 940       | 88.230824    | 0.984266          | 0.955796            | 0.052348          | 0.110313            |</pre>"
      ],
      "text/plain": [
       "| 940       | 88.230824    | 0.984266          | 0.955796            | 0.052348          | 0.110313            |"
      ]
     },
     "metadata": {},
     "output_type": "display_data"
    },
    {
     "data": {
      "text/html": [
       "<pre>| 950       | 89.625531    | 0.984376          | 0.955741            | 0.052092          | 0.110334            |</pre>"
      ],
      "text/plain": [
       "| 950       | 89.625531    | 0.984376          | 0.955741            | 0.052092          | 0.110334            |"
      ]
     },
     "metadata": {},
     "output_type": "display_data"
    },
    {
     "data": {
      "text/html": [
       "<pre>| 960       | 90.689163    | 0.984594          | 0.955906            | 0.051622          | 0.110246            |</pre>"
      ],
      "text/plain": [
       "| 960       | 90.689163    | 0.984594          | 0.955906            | 0.051622          | 0.110246            |"
      ]
     },
     "metadata": {},
     "output_type": "display_data"
    },
    {
     "data": {
      "text/html": [
       "<pre>| 970       | 91.665216    | 0.984827          | 0.956016            | 0.051404          | 0.110259            |</pre>"
      ],
      "text/plain": [
       "| 970       | 91.665216    | 0.984827          | 0.956016            | 0.051404          | 0.110259            |"
      ]
     },
     "metadata": {},
     "output_type": "display_data"
    },
    {
     "data": {
      "text/html": [
       "<pre>| 980       | 92.863840    | 0.985004          | 0.956347            | 0.050982          | 0.110170            |</pre>"
      ],
      "text/plain": [
       "| 980       | 92.863840    | 0.985004          | 0.956347            | 0.050982          | 0.110170            |"
      ]
     },
     "metadata": {},
     "output_type": "display_data"
    },
    {
     "data": {
      "text/html": [
       "<pre>| 990       | 93.825746    | 0.985018          | 0.956292            | 0.050780          | 0.110128            |</pre>"
      ],
      "text/plain": [
       "| 990       | 93.825746    | 0.985018          | 0.956292            | 0.050780          | 0.110128            |"
      ]
     },
     "metadata": {},
     "output_type": "display_data"
    },
    {
     "data": {
      "text/html": [
       "<pre>| 1000      | 94.678443    | 0.985073          | 0.956292            | 0.050593          | 0.110135            |</pre>"
      ],
      "text/plain": [
       "| 1000      | 94.678443    | 0.985073          | 0.956292            | 0.050593          | 0.110135            |"
      ]
     },
     "metadata": {},
     "output_type": "display_data"
    },
    {
     "data": {
      "text/html": [
       "<pre>| 1001      | 94.769041    | 0.985059          | 0.956347            | 0.050581          | 0.110112            |</pre>"
      ],
      "text/plain": [
       "| 1001      | 94.769041    | 0.985059          | 0.956347            | 0.050581          | 0.110112            |"
      ]
     },
     "metadata": {},
     "output_type": "display_data"
    },
    {
     "data": {
      "text/html": [
       "<pre>| 1010      | 95.550420    | 0.985141          | 0.956347            | 0.050412          | 0.110074            |</pre>"
      ],
      "text/plain": [
       "| 1010      | 95.550420    | 0.985141          | 0.956347            | 0.050412          | 0.110074            |"
      ]
     },
     "metadata": {},
     "output_type": "display_data"
    },
    {
     "data": {
      "text/html": [
       "<pre>| 1020      | 96.391728    | 0.985155          | 0.956457            | 0.050137          | 0.110122            |</pre>"
      ],
      "text/plain": [
       "| 1020      | 96.391728    | 0.985155          | 0.956457            | 0.050137          | 0.110122            |"
      ]
     },
     "metadata": {},
     "output_type": "display_data"
    },
    {
     "data": {
      "text/html": [
       "<pre>| 1030      | 97.251123    | 0.985196          | 0.956512            | 0.049945          | 0.110112            |</pre>"
      ],
      "text/plain": [
       "| 1030      | 97.251123    | 0.985196          | 0.956512            | 0.049945          | 0.110112            |"
      ]
     },
     "metadata": {},
     "output_type": "display_data"
    },
    {
     "data": {
      "text/html": [
       "<pre>| 1040      | 98.125369    | 0.985237          | 0.956512            | 0.049782          | 0.110116            |</pre>"
      ],
      "text/plain": [
       "| 1040      | 98.125369    | 0.985237          | 0.956512            | 0.049782          | 0.110116            |"
      ]
     },
     "metadata": {},
     "output_type": "display_data"
    },
    {
     "data": {
      "text/html": [
       "<pre>| 1050      | 98.991225    | 0.985387          | 0.956567            | 0.049555          | 0.110088            |</pre>"
      ],
      "text/plain": [
       "| 1050      | 98.991225    | 0.985387          | 0.956567            | 0.049555          | 0.110088            |"
      ]
     },
     "metadata": {},
     "output_type": "display_data"
    },
    {
     "data": {
      "text/html": [
       "<pre>| 1060      | 99.824932    | 0.985538          | 0.956457            | 0.049370          | 0.110169            |</pre>"
      ],
      "text/plain": [
       "| 1060      | 99.824932    | 0.985538          | 0.956457            | 0.049370          | 0.110169            |"
      ]
     },
     "metadata": {},
     "output_type": "display_data"
    },
    {
     "data": {
      "text/html": [
       "<pre>| 1070      | 100.674446   | 0.985674          | 0.956567            | 0.049091          | 0.110137            |</pre>"
      ],
      "text/plain": [
       "| 1070      | 100.674446   | 0.985674          | 0.956567            | 0.049091          | 0.110137            |"
      ]
     },
     "metadata": {},
     "output_type": "display_data"
    },
    {
     "data": {
      "text/html": [
       "<pre>| 1080      | 101.501613   | 0.985729          | 0.956512            | 0.048907          | 0.110220            |</pre>"
      ],
      "text/plain": [
       "| 1080      | 101.501613   | 0.985729          | 0.956512            | 0.048907          | 0.110220            |"
      ]
     },
     "metadata": {},
     "output_type": "display_data"
    },
    {
     "data": {
      "text/html": [
       "<pre>| 1090      | 102.341952   | 0.985893          | 0.956512            | 0.048540          | 0.110249            |</pre>"
      ],
      "text/plain": [
       "| 1090      | 102.341952   | 0.985893          | 0.956512            | 0.048540          | 0.110249            |"
      ]
     },
     "metadata": {},
     "output_type": "display_data"
    },
    {
     "data": {
      "text/html": [
       "<pre>| 1100      | 103.178552   | 0.985989          | 0.956457            | 0.048349          | 0.110297            |</pre>"
      ],
      "text/plain": [
       "| 1100      | 103.178552   | 0.985989          | 0.956457            | 0.048349          | 0.110297            |"
      ]
     },
     "metadata": {},
     "output_type": "display_data"
    },
    {
     "data": {
      "text/html": [
       "<pre>| 1110      | 104.041984   | 0.986139          | 0.956347            | 0.048164          | 0.110438            |</pre>"
      ],
      "text/plain": [
       "| 1110      | 104.041984   | 0.986139          | 0.956347            | 0.048164          | 0.110438            |"
      ]
     },
     "metadata": {},
     "output_type": "display_data"
    },
    {
     "data": {
      "text/html": [
       "<pre>| 1120      | 104.897070   | 0.986385          | 0.956457            | 0.047874          | 0.110453            |</pre>"
      ],
      "text/plain": [
       "| 1120      | 104.897070   | 0.986385          | 0.956457            | 0.047874          | 0.110453            |"
      ]
     },
     "metadata": {},
     "output_type": "display_data"
    },
    {
     "data": {
      "text/html": [
       "<pre>| 1130      | 105.757298   | 0.986412          | 0.956512            | 0.047715          | 0.110424            |</pre>"
      ],
      "text/plain": [
       "| 1130      | 105.757298   | 0.986412          | 0.956512            | 0.047715          | 0.110424            |"
      ]
     },
     "metadata": {},
     "output_type": "display_data"
    },
    {
     "data": {
      "text/html": [
       "<pre>| 1140      | 106.611138   | 0.986535          | 0.956512            | 0.047485          | 0.110359            |</pre>"
      ],
      "text/plain": [
       "| 1140      | 106.611138   | 0.986535          | 0.956512            | 0.047485          | 0.110359            |"
      ]
     },
     "metadata": {},
     "output_type": "display_data"
    },
    {
     "data": {
      "text/html": [
       "<pre>| 1150      | 107.486853   | 0.986508          | 0.956457            | 0.047333          | 0.110430            |</pre>"
      ],
      "text/plain": [
       "| 1150      | 107.486853   | 0.986508          | 0.956457            | 0.047333          | 0.110430            |"
      ]
     },
     "metadata": {},
     "output_type": "display_data"
    },
    {
     "data": {
      "text/html": [
       "<pre>| 1160      | 108.318632   | 0.986535          | 0.956567            | 0.047176          | 0.110408            |</pre>"
      ],
      "text/plain": [
       "| 1160      | 108.318632   | 0.986535          | 0.956567            | 0.047176          | 0.110408            |"
      ]
     },
     "metadata": {},
     "output_type": "display_data"
    },
    {
     "data": {
      "text/html": [
       "<pre>| 1170      | 109.169988   | 0.986576          | 0.956512            | 0.047017          | 0.110370            |</pre>"
      ],
      "text/plain": [
       "| 1170      | 109.169988   | 0.986576          | 0.956512            | 0.047017          | 0.110370            |"
      ]
     },
     "metadata": {},
     "output_type": "display_data"
    },
    {
     "data": {
      "text/html": [
       "<pre>| 1180      | 110.023762   | 0.986768          | 0.956622            | 0.046831          | 0.110478            |</pre>"
      ],
      "text/plain": [
       "| 1180      | 110.023762   | 0.986768          | 0.956622            | 0.046831          | 0.110478            |"
      ]
     },
     "metadata": {},
     "output_type": "display_data"
    },
    {
     "data": {
      "text/html": [
       "<pre>| 1190      | 110.882492   | 0.986850          | 0.956512            | 0.046616          | 0.110643            |</pre>"
      ],
      "text/plain": [
       "| 1190      | 110.882492   | 0.986850          | 0.956512            | 0.046616          | 0.110643            |"
      ]
     },
     "metadata": {},
     "output_type": "display_data"
    },
    {
     "data": {
      "text/html": [
       "<pre>| 1200      | 111.735485   | 0.986877          | 0.956512            | 0.046490          | 0.110683            |</pre>"
      ],
      "text/plain": [
       "| 1200      | 111.735485   | 0.986877          | 0.956512            | 0.046490          | 0.110683            |"
      ]
     },
     "metadata": {},
     "output_type": "display_data"
    },
    {
     "data": {
      "text/html": [
       "<pre>| 1210      | 112.581071   | 0.986987          | 0.956512            | 0.046304          | 0.110735            |</pre>"
      ],
      "text/plain": [
       "| 1210      | 112.581071   | 0.986987          | 0.956512            | 0.046304          | 0.110735            |"
      ]
     },
     "metadata": {},
     "output_type": "display_data"
    },
    {
     "data": {
      "text/html": [
       "<pre>| 1220      | 113.449212   | 0.987328          | 0.956402            | 0.045914          | 0.110767            |</pre>"
      ],
      "text/plain": [
       "| 1220      | 113.449212   | 0.987328          | 0.956402            | 0.045914          | 0.110767            |"
      ]
     },
     "metadata": {},
     "output_type": "display_data"
    },
    {
     "data": {
      "text/html": [
       "<pre>| 1230      | 114.286521   | 0.987369          | 0.956126            | 0.045614          | 0.110802            |</pre>"
      ],
      "text/plain": [
       "| 1230      | 114.286521   | 0.987369          | 0.956126            | 0.045614          | 0.110802            |"
      ]
     },
     "metadata": {},
     "output_type": "display_data"
    },
    {
     "data": {
      "text/html": [
       "<pre>| 1240      | 115.148314   | 0.987410          | 0.956402            | 0.045401          | 0.110846            |</pre>"
      ],
      "text/plain": [
       "| 1240      | 115.148314   | 0.987410          | 0.956402            | 0.045401          | 0.110846            |"
      ]
     },
     "metadata": {},
     "output_type": "display_data"
    },
    {
     "data": {
      "text/html": [
       "<pre>| 1250      | 115.986038   | 0.987533          | 0.956402            | 0.045233          | 0.110836            |</pre>"
      ],
      "text/plain": [
       "| 1250      | 115.986038   | 0.987533          | 0.956402            | 0.045233          | 0.110836            |"
      ]
     },
     "metadata": {},
     "output_type": "display_data"
    },
    {
     "data": {
      "text/html": [
       "<pre>| 1260      | 116.831454   | 0.987889          | 0.956181            | 0.044846          | 0.110937            |</pre>"
      ],
      "text/plain": [
       "| 1260      | 116.831454   | 0.987889          | 0.956181            | 0.044846          | 0.110937            |"
      ]
     },
     "metadata": {},
     "output_type": "display_data"
    },
    {
     "data": {
      "text/html": [
       "<pre>| 1270      | 117.654152   | 0.987943          | 0.956292            | 0.044702          | 0.110926            |</pre>"
      ],
      "text/plain": [
       "| 1270      | 117.654152   | 0.987943          | 0.956292            | 0.044702          | 0.110926            |"
      ]
     },
     "metadata": {},
     "output_type": "display_data"
    },
    {
     "data": {
      "text/html": [
       "<pre>| 1280      | 118.538297   | 0.987957          | 0.956457            | 0.044573          | 0.110870            |</pre>"
      ],
      "text/plain": [
       "| 1280      | 118.538297   | 0.987957          | 0.956457            | 0.044573          | 0.110870            |"
      ]
     },
     "metadata": {},
     "output_type": "display_data"
    },
    {
     "data": {
      "text/html": [
       "<pre>| 1290      | 119.380390   | 0.987971          | 0.956512            | 0.044398          | 0.110967            |</pre>"
      ],
      "text/plain": [
       "| 1290      | 119.380390   | 0.987971          | 0.956512            | 0.044398          | 0.110967            |"
      ]
     },
     "metadata": {},
     "output_type": "display_data"
    },
    {
     "data": {
      "text/html": [
       "<pre>| 1300      | 120.197532   | 0.988025          | 0.956622            | 0.044292          | 0.110909            |</pre>"
      ],
      "text/plain": [
       "| 1300      | 120.197532   | 0.988025          | 0.956622            | 0.044292          | 0.110909            |"
      ]
     },
     "metadata": {},
     "output_type": "display_data"
    },
    {
     "data": {
      "text/html": [
       "<pre>| 1310      | 121.027543   | 0.988039          | 0.956567            | 0.044137          | 0.110919            |</pre>"
      ],
      "text/plain": [
       "| 1310      | 121.027543   | 0.988039          | 0.956567            | 0.044137          | 0.110919            |"
      ]
     },
     "metadata": {},
     "output_type": "display_data"
    },
    {
     "data": {
      "text/html": [
       "<pre>| 1320      | 121.865655   | 0.988162          | 0.956677            | 0.044003          | 0.110928            |</pre>"
      ],
      "text/plain": [
       "| 1320      | 121.865655   | 0.988162          | 0.956677            | 0.044003          | 0.110928            |"
      ]
     },
     "metadata": {},
     "output_type": "display_data"
    },
    {
     "data": {
      "text/html": [
       "<pre>| 1330      | 122.706402   | 0.988271          | 0.956567            | 0.043747          | 0.110943            |</pre>"
      ],
      "text/plain": [
       "| 1330      | 122.706402   | 0.988271          | 0.956567            | 0.043747          | 0.110943            |"
      ]
     },
     "metadata": {},
     "output_type": "display_data"
    },
    {
     "data": {
      "text/html": [
       "<pre>| 1340      | 123.618338   | 0.988381          | 0.956677            | 0.043644          | 0.110918            |</pre>"
      ],
      "text/plain": [
       "| 1340      | 123.618338   | 0.988381          | 0.956677            | 0.043644          | 0.110918            |"
      ]
     },
     "metadata": {},
     "output_type": "display_data"
    },
    {
     "data": {
      "text/html": [
       "<pre>| 1350      | 124.443186   | 0.988504          | 0.956512            | 0.043531          | 0.110881            |</pre>"
      ],
      "text/plain": [
       "| 1350      | 124.443186   | 0.988504          | 0.956512            | 0.043531          | 0.110881            |"
      ]
     },
     "metadata": {},
     "output_type": "display_data"
    },
    {
     "data": {
      "text/html": [
       "<pre>| 1360      | 125.291464   | 0.988545          | 0.956402            | 0.043373          | 0.110870            |</pre>"
      ],
      "text/plain": [
       "| 1360      | 125.291464   | 0.988545          | 0.956402            | 0.043373          | 0.110870            |"
      ]
     },
     "metadata": {},
     "output_type": "display_data"
    },
    {
     "data": {
      "text/html": [
       "<pre>| 1370      | 126.118526   | 0.988613          | 0.956402            | 0.043248          | 0.110844            |</pre>"
      ],
      "text/plain": [
       "| 1370      | 126.118526   | 0.988613          | 0.956402            | 0.043248          | 0.110844            |"
      ]
     },
     "metadata": {},
     "output_type": "display_data"
    },
    {
     "data": {
      "text/html": [
       "<pre>| 1380      | 127.123001   | 0.988627          | 0.956402            | 0.043130          | 0.110871            |</pre>"
      ],
      "text/plain": [
       "| 1380      | 127.123001   | 0.988627          | 0.956402            | 0.043130          | 0.110871            |"
      ]
     },
     "metadata": {},
     "output_type": "display_data"
    },
    {
     "data": {
      "text/html": [
       "<pre>| 1390      | 128.391320   | 0.988627          | 0.956457            | 0.043020          | 0.110914            |</pre>"
      ],
      "text/plain": [
       "| 1390      | 128.391320   | 0.988627          | 0.956457            | 0.043020          | 0.110914            |"
      ]
     },
     "metadata": {},
     "output_type": "display_data"
    },
    {
     "data": {
      "text/html": [
       "<pre>| 1400      | 129.521376   | 0.988723          | 0.956292            | 0.042898          | 0.110902            |</pre>"
      ],
      "text/plain": [
       "| 1400      | 129.521376   | 0.988723          | 0.956292            | 0.042898          | 0.110902            |"
      ]
     },
     "metadata": {},
     "output_type": "display_data"
    },
    {
     "data": {
      "text/html": [
       "<pre>| 1410      | 130.411413   | 0.988859          | 0.956071            | 0.042549          | 0.110969            |</pre>"
      ],
      "text/plain": [
       "| 1410      | 130.411413   | 0.988859          | 0.956071            | 0.042549          | 0.110969            |"
      ]
     },
     "metadata": {},
     "output_type": "display_data"
    },
    {
     "data": {
      "text/html": [
       "<pre>| 1420      | 131.540299   | 0.988955          | 0.956126            | 0.042348          | 0.111010            |</pre>"
      ],
      "text/plain": [
       "| 1420      | 131.540299   | 0.988955          | 0.956126            | 0.042348          | 0.111010            |"
      ]
     },
     "metadata": {},
     "output_type": "display_data"
    },
    {
     "data": {
      "text/html": [
       "<pre>| 1430      | 132.789399   | 0.988955          | 0.955961            | 0.042207          | 0.111036            |</pre>"
      ],
      "text/plain": [
       "| 1430      | 132.789399   | 0.988955          | 0.955961            | 0.042207          | 0.111036            |"
      ]
     },
     "metadata": {},
     "output_type": "display_data"
    },
    {
     "data": {
      "text/html": [
       "<pre>| 1440      | 133.792990   | 0.989078          | 0.956016            | 0.042054          | 0.111117            |</pre>"
      ],
      "text/plain": [
       "| 1440      | 133.792990   | 0.989078          | 0.956016            | 0.042054          | 0.111117            |"
      ]
     },
     "metadata": {},
     "output_type": "display_data"
    },
    {
     "data": {
      "text/html": [
       "<pre>| 1450      | 134.664037   | 0.989133          | 0.956181            | 0.041865          | 0.111055            |</pre>"
      ],
      "text/plain": [
       "| 1450      | 134.664037   | 0.989133          | 0.956181            | 0.041865          | 0.111055            |"
      ]
     },
     "metadata": {},
     "output_type": "display_data"
    },
    {
     "data": {
      "text/html": [
       "<pre>| 1460      | 135.734635   | 0.989242          | 0.956181            | 0.041627          | 0.111009            |</pre>"
      ],
      "text/plain": [
       "| 1460      | 135.734635   | 0.989242          | 0.956181            | 0.041627          | 0.111009            |"
      ]
     },
     "metadata": {},
     "output_type": "display_data"
    },
    {
     "data": {
      "text/html": [
       "<pre>| 1470      | 137.053996   | 0.989379          | 0.956292            | 0.041399          | 0.110979            |</pre>"
      ],
      "text/plain": [
       "| 1470      | 137.053996   | 0.989379          | 0.956292            | 0.041399          | 0.110979            |"
      ]
     },
     "metadata": {},
     "output_type": "display_data"
    },
    {
     "data": {
      "text/html": [
       "<pre>| 1480      | 138.265749   | 0.989474          | 0.956237            | 0.041146          | 0.111023            |</pre>"
      ],
      "text/plain": [
       "| 1480      | 138.265749   | 0.989474          | 0.956237            | 0.041146          | 0.111023            |"
      ]
     },
     "metadata": {},
     "output_type": "display_data"
    },
    {
     "data": {
      "text/html": [
       "<pre>| 1490      | 139.416151   | 0.989461          | 0.956347            | 0.040932          | 0.111147            |</pre>"
      ],
      "text/plain": [
       "| 1490      | 139.416151   | 0.989461          | 0.956347            | 0.040932          | 0.111147            |"
      ]
     },
     "metadata": {},
     "output_type": "display_data"
    },
    {
     "data": {
      "text/html": [
       "<pre>| 1500      | 140.317898   | 0.989638          | 0.956457            | 0.040637          | 0.111151            |</pre>"
      ],
      "text/plain": [
       "| 1500      | 140.317898   | 0.989638          | 0.956457            | 0.040637          | 0.111151            |"
      ]
     },
     "metadata": {},
     "output_type": "display_data"
    },
    {
     "data": {
      "text/html": [
       "<pre>| 1510      | 141.191417   | 0.989761          | 0.956402            | 0.040485          | 0.111158            |</pre>"
      ],
      "text/plain": [
       "| 1510      | 141.191417   | 0.989761          | 0.956402            | 0.040485          | 0.111158            |"
      ]
     },
     "metadata": {},
     "output_type": "display_data"
    },
    {
     "data": {
      "text/html": [
       "<pre>| 1520      | 142.079377   | 0.989843          | 0.956457            | 0.040352          | 0.111134            |</pre>"
      ],
      "text/plain": [
       "| 1520      | 142.079377   | 0.989843          | 0.956457            | 0.040352          | 0.111134            |"
      ]
     },
     "metadata": {},
     "output_type": "display_data"
    },
    {
     "data": {
      "text/html": [
       "<pre>| 1530      | 142.951312   | 0.989884          | 0.956622            | 0.040255          | 0.111188            |</pre>"
      ],
      "text/plain": [
       "| 1530      | 142.951312   | 0.989884          | 0.956622            | 0.040255          | 0.111188            |"
      ]
     },
     "metadata": {},
     "output_type": "display_data"
    },
    {
     "data": {
      "text/html": [
       "<pre>| 1540      | 143.801875   | 0.989980          | 0.956677            | 0.040170          | 0.111178            |</pre>"
      ],
      "text/plain": [
       "| 1540      | 143.801875   | 0.989980          | 0.956677            | 0.040170          | 0.111178            |"
      ]
     },
     "metadata": {},
     "output_type": "display_data"
    },
    {
     "data": {
      "text/html": [
       "<pre>| 1550      | 144.656043   | 0.990049          | 0.956788            | 0.040020          | 0.111263            |</pre>"
      ],
      "text/plain": [
       "| 1550      | 144.656043   | 0.990049          | 0.956788            | 0.040020          | 0.111263            |"
      ]
     },
     "metadata": {},
     "output_type": "display_data"
    },
    {
     "data": {
      "text/html": [
       "<pre>| 1560      | 145.502378   | 0.990062          | 0.956843            | 0.039891          | 0.111277            |</pre>"
      ],
      "text/plain": [
       "| 1560      | 145.502378   | 0.990062          | 0.956843            | 0.039891          | 0.111277            |"
      ]
     },
     "metadata": {},
     "output_type": "display_data"
    },
    {
     "data": {
      "text/html": [
       "<pre>| 1570      | 146.372824   | 0.990199          | 0.956733            | 0.039696          | 0.111275            |</pre>"
      ],
      "text/plain": [
       "| 1570      | 146.372824   | 0.990199          | 0.956733            | 0.039696          | 0.111275            |"
      ]
     },
     "metadata": {},
     "output_type": "display_data"
    },
    {
     "data": {
      "text/html": [
       "<pre>| 1580      | 147.207881   | 0.990240          | 0.956733            | 0.039546          | 0.111240            |</pre>"
      ],
      "text/plain": [
       "| 1580      | 147.207881   | 0.990240          | 0.956733            | 0.039546          | 0.111240            |"
      ]
     },
     "metadata": {},
     "output_type": "display_data"
    },
    {
     "data": {
      "text/html": [
       "<pre>| 1590      | 148.095230   | 0.990295          | 0.956788            | 0.039464          | 0.111199            |</pre>"
      ],
      "text/plain": [
       "| 1590      | 148.095230   | 0.990295          | 0.956788            | 0.039464          | 0.111199            |"
      ]
     },
     "metadata": {},
     "output_type": "display_data"
    },
    {
     "data": {
      "text/html": [
       "<pre>| 1600      | 148.954550   | 0.990445          | 0.956843            | 0.039276          | 0.111218            |</pre>"
      ],
      "text/plain": [
       "| 1600      | 148.954550   | 0.990445          | 0.956843            | 0.039276          | 0.111218            |"
      ]
     },
     "metadata": {},
     "output_type": "display_data"
    },
    {
     "data": {
      "text/html": [
       "<pre>| 1610      | 149.867575   | 0.990568          | 0.956733            | 0.039110          | 0.111344            |</pre>"
      ],
      "text/plain": [
       "| 1610      | 149.867575   | 0.990568          | 0.956733            | 0.039110          | 0.111344            |"
      ]
     },
     "metadata": {},
     "output_type": "display_data"
    },
    {
     "data": {
      "text/html": [
       "<pre>| 1620      | 150.736214   | 0.990636          | 0.956788            | 0.039014          | 0.111341            |</pre>"
      ],
      "text/plain": [
       "| 1620      | 150.736214   | 0.990636          | 0.956788            | 0.039014          | 0.111341            |"
      ]
     },
     "metadata": {},
     "output_type": "display_data"
    },
    {
     "data": {
      "text/html": [
       "<pre>| 1630      | 151.588914   | 0.990677          | 0.956677            | 0.038876          | 0.111398            |</pre>"
      ],
      "text/plain": [
       "| 1630      | 151.588914   | 0.990677          | 0.956677            | 0.038876          | 0.111398            |"
      ]
     },
     "metadata": {},
     "output_type": "display_data"
    },
    {
     "data": {
      "text/html": [
       "<pre>| 1640      | 152.458396   | 0.990705          | 0.956677            | 0.038782          | 0.111353            |</pre>"
      ],
      "text/plain": [
       "| 1640      | 152.458396   | 0.990705          | 0.956677            | 0.038782          | 0.111353            |"
      ]
     },
     "metadata": {},
     "output_type": "display_data"
    },
    {
     "data": {
      "text/html": [
       "<pre>| 1650      | 153.307793   | 0.990896          | 0.956843            | 0.038552          | 0.111391            |</pre>"
      ],
      "text/plain": [
       "| 1650      | 153.307793   | 0.990896          | 0.956843            | 0.038552          | 0.111391            |"
      ]
     },
     "metadata": {},
     "output_type": "display_data"
    },
    {
     "data": {
      "text/html": [
       "<pre>| 1660      | 154.145718   | 0.991033          | 0.956677            | 0.038378          | 0.111406            |</pre>"
      ],
      "text/plain": [
       "| 1660      | 154.145718   | 0.991033          | 0.956677            | 0.038378          | 0.111406            |"
      ]
     },
     "metadata": {},
     "output_type": "display_data"
    },
    {
     "data": {
      "text/html": [
       "<pre>| 1670      | 155.004570   | 0.991169          | 0.956457            | 0.038174          | 0.111447            |</pre>"
      ],
      "text/plain": [
       "| 1670      | 155.004570   | 0.991169          | 0.956457            | 0.038174          | 0.111447            |"
      ]
     },
     "metadata": {},
     "output_type": "display_data"
    },
    {
     "data": {
      "text/html": [
       "<pre>| 1680      | 155.825782   | 0.991279          | 0.956402            | 0.038075          | 0.111434            |</pre>"
      ],
      "text/plain": [
       "| 1680      | 155.825782   | 0.991279          | 0.956402            | 0.038075          | 0.111434            |"
      ]
     },
     "metadata": {},
     "output_type": "display_data"
    },
    {
     "data": {
      "text/html": [
       "<pre>| 1690      | 156.693512   | 0.991306          | 0.956347            | 0.037910          | 0.111438            |</pre>"
      ],
      "text/plain": [
       "| 1690      | 156.693512   | 0.991306          | 0.956347            | 0.037910          | 0.111438            |"
      ]
     },
     "metadata": {},
     "output_type": "display_data"
    },
    {
     "data": {
      "text/html": [
       "<pre>| 1700      | 157.549850   | 0.991470          | 0.956512            | 0.037763          | 0.111485            |</pre>"
      ],
      "text/plain": [
       "| 1700      | 157.549850   | 0.991470          | 0.956512            | 0.037763          | 0.111485            |"
      ]
     },
     "metadata": {},
     "output_type": "display_data"
    },
    {
     "data": {
      "text/html": [
       "<pre>| 1710      | 158.363529   | 0.991539          | 0.956622            | 0.037628          | 0.111517            |</pre>"
      ],
      "text/plain": [
       "| 1710      | 158.363529   | 0.991539          | 0.956622            | 0.037628          | 0.111517            |"
      ]
     },
     "metadata": {},
     "output_type": "display_data"
    },
    {
     "data": {
      "text/html": [
       "<pre>| 1720      | 159.169189   | 0.991662          | 0.956622            | 0.037521          | 0.111526            |</pre>"
      ],
      "text/plain": [
       "| 1720      | 159.169189   | 0.991662          | 0.956622            | 0.037521          | 0.111526            |"
      ]
     },
     "metadata": {},
     "output_type": "display_data"
    },
    {
     "data": {
      "text/html": [
       "<pre>| 1730      | 160.051543   | 0.992044          | 0.956347            | 0.037306          | 0.111547            |</pre>"
      ],
      "text/plain": [
       "| 1730      | 160.051543   | 0.992044          | 0.956347            | 0.037306          | 0.111547            |"
      ]
     },
     "metadata": {},
     "output_type": "display_data"
    },
    {
     "data": {
      "text/html": [
       "<pre>| 1740      | 161.089343   | 0.992249          | 0.956457            | 0.037212          | 0.111588            |</pre>"
      ],
      "text/plain": [
       "| 1740      | 161.089343   | 0.992249          | 0.956457            | 0.037212          | 0.111588            |"
      ]
     },
     "metadata": {},
     "output_type": "display_data"
    },
    {
     "data": {
      "text/html": [
       "<pre>| 1750      | 162.260584   | 0.992441          | 0.956567            | 0.037083          | 0.111715            |</pre>"
      ],
      "text/plain": [
       "| 1750      | 162.260584   | 0.992441          | 0.956567            | 0.037083          | 0.111715            |"
      ]
     },
     "metadata": {},
     "output_type": "display_data"
    },
    {
     "data": {
      "text/html": [
       "<pre>| 1760      | 163.440996   | 0.992618          | 0.956622            | 0.037004          | 0.111720            |</pre>"
      ],
      "text/plain": [
       "| 1760      | 163.440996   | 0.992618          | 0.956622            | 0.037004          | 0.111720            |"
      ]
     },
     "metadata": {},
     "output_type": "display_data"
    },
    {
     "data": {
      "text/html": [
       "<pre>| 1770      | 164.482239   | 0.992632          | 0.956898            | 0.036870          | 0.111632            |</pre>"
      ],
      "text/plain": [
       "| 1770      | 164.482239   | 0.992632          | 0.956898            | 0.036870          | 0.111632            |"
      ]
     },
     "metadata": {},
     "output_type": "display_data"
    },
    {
     "data": {
      "text/html": [
       "<pre>| 1780      | 165.627823   | 0.992919          | 0.957118            | 0.036725          | 0.111595            |</pre>"
      ],
      "text/plain": [
       "| 1780      | 165.627823   | 0.992919          | 0.957118            | 0.036725          | 0.111595            |"
      ]
     },
     "metadata": {},
     "output_type": "display_data"
    },
    {
     "data": {
      "text/html": [
       "<pre>| 1790      | 166.718618   | 0.993083          | 0.957174            | 0.036526          | 0.111631            |</pre>"
      ],
      "text/plain": [
       "| 1790      | 166.718618   | 0.993083          | 0.957174            | 0.036526          | 0.111631            |"
      ]
     },
     "metadata": {},
     "output_type": "display_data"
    },
    {
     "data": {
      "text/html": [
       "<pre>| 1800      | 167.996058   | 0.993165          | 0.956953            | 0.036280          | 0.111969            |</pre>"
      ],
      "text/plain": [
       "| 1800      | 167.996058   | 0.993165          | 0.956953            | 0.036280          | 0.111969            |"
      ]
     },
     "metadata": {},
     "output_type": "display_data"
    },
    {
     "data": {
      "text/html": [
       "<pre>| 1810      | 169.015105   | 0.993370          | 0.957008            | 0.036178          | 0.111980            |</pre>"
      ],
      "text/plain": [
       "| 1810      | 169.015105   | 0.993370          | 0.957008            | 0.036178          | 0.111980            |"
      ]
     },
     "metadata": {},
     "output_type": "display_data"
    },
    {
     "data": {
      "text/html": [
       "<pre>| 1820      | 169.977109   | 0.993575          | 0.956898            | 0.036074          | 0.111993            |</pre>"
      ],
      "text/plain": [
       "| 1820      | 169.977109   | 0.993575          | 0.956898            | 0.036074          | 0.111993            |"
      ]
     },
     "metadata": {},
     "output_type": "display_data"
    },
    {
     "data": {
      "text/html": [
       "<pre>| 1830      | 171.091718   | 0.993862          | 0.956898            | 0.035957          | 0.112048            |</pre>"
      ],
      "text/plain": [
       "| 1830      | 171.091718   | 0.993862          | 0.956898            | 0.035957          | 0.112048            |"
      ]
     },
     "metadata": {},
     "output_type": "display_data"
    },
    {
     "data": {
      "text/html": [
       "<pre>| 1840      | 172.391972   | 0.994026          | 0.956843            | 0.035794          | 0.112051            |</pre>"
      ],
      "text/plain": [
       "| 1840      | 172.391972   | 0.994026          | 0.956843            | 0.035794          | 0.112051            |"
      ]
     },
     "metadata": {},
     "output_type": "display_data"
    },
    {
     "data": {
      "text/html": [
       "<pre>| 1850      | 173.347453   | 0.994218          | 0.956733            | 0.035670          | 0.112063            |</pre>"
      ],
      "text/plain": [
       "| 1850      | 173.347453   | 0.994218          | 0.956733            | 0.035670          | 0.112063            |"
      ]
     },
     "metadata": {},
     "output_type": "display_data"
    },
    {
     "data": {
      "text/html": [
       "<pre>| 1860      | 174.575736   | 0.994423          | 0.956788            | 0.035593          | 0.112086            |</pre>"
      ],
      "text/plain": [
       "| 1860      | 174.575736   | 0.994423          | 0.956788            | 0.035593          | 0.112086            |"
      ]
     },
     "metadata": {},
     "output_type": "display_data"
    },
    {
     "data": {
      "text/html": [
       "<pre>| 1870      | 175.600779   | 0.994546          | 0.956788            | 0.035475          | 0.112060            |</pre>"
      ],
      "text/plain": [
       "| 1870      | 175.600779   | 0.994546          | 0.956788            | 0.035475          | 0.112060            |"
      ]
     },
     "metadata": {},
     "output_type": "display_data"
    },
    {
     "data": {
      "text/html": [
       "<pre>| 1880      | 176.713422   | 0.994751          | 0.956843            | 0.035382          | 0.112091            |</pre>"
      ],
      "text/plain": [
       "| 1880      | 176.713422   | 0.994751          | 0.956843            | 0.035382          | 0.112091            |"
      ]
     },
     "metadata": {},
     "output_type": "display_data"
    },
    {
     "data": {
      "text/html": [
       "<pre>| 1890      | 177.711331   | 0.994819          | 0.956733            | 0.035273          | 0.112170            |</pre>"
      ],
      "text/plain": [
       "| 1890      | 177.711331   | 0.994819          | 0.956733            | 0.035273          | 0.112170            |"
      ]
     },
     "metadata": {},
     "output_type": "display_data"
    },
    {
     "data": {
      "text/html": [
       "<pre>| 1900      | 179.080269   | 0.994860          | 0.956733            | 0.035205          | 0.112208            |</pre>"
      ],
      "text/plain": [
       "| 1900      | 179.080269   | 0.994860          | 0.956733            | 0.035205          | 0.112208            |"
      ]
     },
     "metadata": {},
     "output_type": "display_data"
    },
    {
     "data": {
      "text/html": [
       "<pre>| 1910      | 180.419423   | 0.994888          | 0.956788            | 0.035079          | 0.112209            |</pre>"
      ],
      "text/plain": [
       "| 1910      | 180.419423   | 0.994888          | 0.956788            | 0.035079          | 0.112209            |"
      ]
     },
     "metadata": {},
     "output_type": "display_data"
    },
    {
     "data": {
      "text/html": [
       "<pre>| 1920      | 181.365972   | 0.994915          | 0.956733            | 0.034978          | 0.112230            |</pre>"
      ],
      "text/plain": [
       "| 1920      | 181.365972   | 0.994915          | 0.956733            | 0.034978          | 0.112230            |"
      ]
     },
     "metadata": {},
     "output_type": "display_data"
    },
    {
     "data": {
      "text/html": [
       "<pre>| 1930      | 182.479218   | 0.994942          | 0.956788            | 0.034894          | 0.112212            |</pre>"
      ],
      "text/plain": [
       "| 1930      | 182.479218   | 0.994942          | 0.956788            | 0.034894          | 0.112212            |"
      ]
     },
     "metadata": {},
     "output_type": "display_data"
    },
    {
     "data": {
      "text/html": [
       "<pre>| 1940      | 183.670373   | 0.994970          | 0.956788            | 0.034699          | 0.112154            |</pre>"
      ],
      "text/plain": [
       "| 1940      | 183.670373   | 0.994970          | 0.956788            | 0.034699          | 0.112154            |"
      ]
     },
     "metadata": {},
     "output_type": "display_data"
    },
    {
     "data": {
      "text/html": [
       "<pre>| 1950      | 184.586816   | 0.995024          | 0.956898            | 0.034456          | 0.112163            |</pre>"
      ],
      "text/plain": [
       "| 1950      | 184.586816   | 0.995024          | 0.956898            | 0.034456          | 0.112163            |"
      ]
     },
     "metadata": {},
     "output_type": "display_data"
    },
    {
     "data": {
      "text/html": [
       "<pre>| 1960      | 185.862345   | 0.995065          | 0.956788            | 0.034364          | 0.112145            |</pre>"
      ],
      "text/plain": [
       "| 1960      | 185.862345   | 0.995065          | 0.956788            | 0.034364          | 0.112145            |"
      ]
     },
     "metadata": {},
     "output_type": "display_data"
    },
    {
     "data": {
      "text/html": [
       "<pre>| 1970      | 187.027061   | 0.995120          | 0.957063            | 0.034163          | 0.112203            |</pre>"
      ],
      "text/plain": [
       "| 1970      | 187.027061   | 0.995120          | 0.957063            | 0.034163          | 0.112203            |"
      ]
     },
     "metadata": {},
     "output_type": "display_data"
    },
    {
     "data": {
      "text/html": [
       "<pre>| 1980      | 188.177099   | 0.995188          | 0.957008            | 0.033960          | 0.112299            |</pre>"
      ],
      "text/plain": [
       "| 1980      | 188.177099   | 0.995188          | 0.957008            | 0.033960          | 0.112299            |"
      ]
     },
     "metadata": {},
     "output_type": "display_data"
    },
    {
     "data": {
      "text/html": [
       "<pre>| 1990      | 189.252811   | 0.995175          | 0.957118            | 0.033868          | 0.112360            |</pre>"
      ],
      "text/plain": [
       "| 1990      | 189.252811   | 0.995175          | 0.957118            | 0.033868          | 0.112360            |"
      ]
     },
     "metadata": {},
     "output_type": "display_data"
    },
    {
     "data": {
      "text/html": [
       "<pre>| 2000      | 190.468025   | 0.995188          | 0.957063            | 0.033781          | 0.112305            |</pre>"
      ],
      "text/plain": [
       "| 2000      | 190.468025   | 0.995188          | 0.957063            | 0.033781          | 0.112305            |"
      ]
     },
     "metadata": {},
     "output_type": "display_data"
    },
    {
     "data": {
      "text/html": [
       "<pre>| 2010      | 191.529141   | 0.995229          | 0.957008            | 0.033686          | 0.112280            |</pre>"
      ],
      "text/plain": [
       "| 2010      | 191.529141   | 0.995229          | 0.957008            | 0.033686          | 0.112280            |"
      ]
     },
     "metadata": {},
     "output_type": "display_data"
    },
    {
     "data": {
      "text/html": [
       "<pre>| 2020      | 192.666621   | 0.995298          | 0.956953            | 0.033595          | 0.112312            |</pre>"
      ],
      "text/plain": [
       "| 2020      | 192.666621   | 0.995298          | 0.956953            | 0.033595          | 0.112312            |"
      ]
     },
     "metadata": {},
     "output_type": "display_data"
    },
    {
     "data": {
      "text/html": [
       "<pre>| 2030      | 193.903497   | 0.995366          | 0.956898            | 0.033480          | 0.112400            |</pre>"
      ],
      "text/plain": [
       "| 2030      | 193.903497   | 0.995366          | 0.956898            | 0.033480          | 0.112400            |"
      ]
     },
     "metadata": {},
     "output_type": "display_data"
    },
    {
     "data": {
      "text/html": [
       "<pre>| 2040      | 194.887400   | 0.995380          | 0.956788            | 0.033388          | 0.112406            |</pre>"
      ],
      "text/plain": [
       "| 2040      | 194.887400   | 0.995380          | 0.956788            | 0.033388          | 0.112406            |"
      ]
     },
     "metadata": {},
     "output_type": "display_data"
    },
    {
     "data": {
      "text/html": [
       "<pre>| 2050      | 196.067930   | 0.995407          | 0.956622            | 0.033291          | 0.112435            |</pre>"
      ],
      "text/plain": [
       "| 2050      | 196.067930   | 0.995407          | 0.956622            | 0.033291          | 0.112435            |"
      ]
     },
     "metadata": {},
     "output_type": "display_data"
    },
    {
     "data": {
      "text/html": [
       "<pre>| 2060      | 197.148867   | 0.995462          | 0.956567            | 0.033163          | 0.112505            |</pre>"
      ],
      "text/plain": [
       "| 2060      | 197.148867   | 0.995462          | 0.956567            | 0.033163          | 0.112505            |"
      ]
     },
     "metadata": {},
     "output_type": "display_data"
    },
    {
     "data": {
      "text/html": [
       "<pre>| 2070      | 198.040771   | 0.995557          | 0.956567            | 0.033097          | 0.112516            |</pre>"
      ],
      "text/plain": [
       "| 2070      | 198.040771   | 0.995557          | 0.956567            | 0.033097          | 0.112516            |"
      ]
     },
     "metadata": {},
     "output_type": "display_data"
    },
    {
     "data": {
      "text/html": [
       "<pre>| 2080      | 198.939886   | 0.995639          | 0.956788            | 0.032964          | 0.112526            |</pre>"
      ],
      "text/plain": [
       "| 2080      | 198.939886   | 0.995639          | 0.956788            | 0.032964          | 0.112526            |"
      ]
     },
     "metadata": {},
     "output_type": "display_data"
    },
    {
     "data": {
      "text/html": [
       "<pre>| 2090      | 199.833358   | 0.995667          | 0.956788            | 0.032892          | 0.112557            |</pre>"
      ],
      "text/plain": [
       "| 2090      | 199.833358   | 0.995667          | 0.956788            | 0.032892          | 0.112557            |"
      ]
     },
     "metadata": {},
     "output_type": "display_data"
    },
    {
     "data": {
      "text/html": [
       "<pre>| 2100      | 200.726081   | 0.995694          | 0.956843            | 0.032821          | 0.112539            |</pre>"
      ],
      "text/plain": [
       "| 2100      | 200.726081   | 0.995694          | 0.956843            | 0.032821          | 0.112539            |"
      ]
     },
     "metadata": {},
     "output_type": "display_data"
    },
    {
     "data": {
      "text/html": [
       "<pre>| 2110      | 201.592644   | 0.995762          | 0.956898            | 0.032705          | 0.112476            |</pre>"
      ],
      "text/plain": [
       "| 2110      | 201.592644   | 0.995762          | 0.956898            | 0.032705          | 0.112476            |"
      ]
     },
     "metadata": {},
     "output_type": "display_data"
    },
    {
     "data": {
      "text/html": [
       "<pre>| 2120      | 202.440130   | 0.995790          | 0.956953            | 0.032629          | 0.112520            |</pre>"
      ],
      "text/plain": [
       "| 2120      | 202.440130   | 0.995790          | 0.956953            | 0.032629          | 0.112520            |"
      ]
     },
     "metadata": {},
     "output_type": "display_data"
    },
    {
     "data": {
      "text/html": [
       "<pre>| 2130      | 203.285514   | 0.995817          | 0.956953            | 0.032524          | 0.112568            |</pre>"
      ],
      "text/plain": [
       "| 2130      | 203.285514   | 0.995817          | 0.956953            | 0.032524          | 0.112568            |"
      ]
     },
     "metadata": {},
     "output_type": "display_data"
    },
    {
     "data": {
      "text/html": [
       "<pre>| 2140      | 204.131504   | 0.995803          | 0.956953            | 0.032409          | 0.112605            |</pre>"
      ],
      "text/plain": [
       "| 2140      | 204.131504   | 0.995803          | 0.956953            | 0.032409          | 0.112605            |"
      ]
     },
     "metadata": {},
     "output_type": "display_data"
    },
    {
     "data": {
      "text/html": [
       "<pre>| 2150      | 204.951596   | 0.995803          | 0.956953            | 0.032330          | 0.112635            |</pre>"
      ],
      "text/plain": [
       "| 2150      | 204.951596   | 0.995803          | 0.956953            | 0.032330          | 0.112635            |"
      ]
     },
     "metadata": {},
     "output_type": "display_data"
    },
    {
     "data": {
      "text/html": [
       "<pre>| 2160      | 205.788981   | 0.995776          | 0.956953            | 0.032247          | 0.112697            |</pre>"
      ],
      "text/plain": [
       "| 2160      | 205.788981   | 0.995776          | 0.956953            | 0.032247          | 0.112697            |"
      ]
     },
     "metadata": {},
     "output_type": "display_data"
    },
    {
     "data": {
      "text/html": [
       "<pre>| 2170      | 206.622864   | 0.995735          | 0.956788            | 0.032149          | 0.112744            |</pre>"
      ],
      "text/plain": [
       "| 2170      | 206.622864   | 0.995735          | 0.956788            | 0.032149          | 0.112744            |"
      ]
     },
     "metadata": {},
     "output_type": "display_data"
    },
    {
     "data": {
      "text/html": [
       "<pre>| 2180      | 207.469861   | 0.995762          | 0.956843            | 0.032069          | 0.112798            |</pre>"
      ],
      "text/plain": [
       "| 2180      | 207.469861   | 0.995762          | 0.956843            | 0.032069          | 0.112798            |"
      ]
     },
     "metadata": {},
     "output_type": "display_data"
    },
    {
     "data": {
      "text/html": [
       "<pre>| 2190      | 208.330365   | 0.995776          | 0.956953            | 0.031974          | 0.112812            |</pre>"
      ],
      "text/plain": [
       "| 2190      | 208.330365   | 0.995776          | 0.956953            | 0.031974          | 0.112812            |"
      ]
     },
     "metadata": {},
     "output_type": "display_data"
    },
    {
     "data": {
      "text/html": [
       "<pre>| 2200      | 209.170846   | 0.995831          | 0.956622            | 0.031580          | 0.112912            |</pre>"
      ],
      "text/plain": [
       "| 2200      | 209.170846   | 0.995831          | 0.956622            | 0.031580          | 0.112912            |"
      ]
     },
     "metadata": {},
     "output_type": "display_data"
    },
    {
     "data": {
      "text/html": [
       "<pre>| 2210      | 210.007183   | 0.995981          | 0.957118            | 0.031145          | 0.112908            |</pre>"
      ],
      "text/plain": [
       "| 2210      | 210.007183   | 0.995981          | 0.957118            | 0.031145          | 0.112908            |"
      ]
     },
     "metadata": {},
     "output_type": "display_data"
    },
    {
     "data": {
      "text/html": [
       "<pre>| 2220      | 210.855021   | 0.996036          | 0.957063            | 0.031058          | 0.112966            |</pre>"
      ],
      "text/plain": [
       "| 2220      | 210.855021   | 0.996036          | 0.957063            | 0.031058          | 0.112966            |"
      ]
     },
     "metadata": {},
     "output_type": "display_data"
    },
    {
     "data": {
      "text/html": [
       "<pre>| 2230      | 211.696093   | 0.996077          | 0.957063            | 0.030976          | 0.112989            |</pre>"
      ],
      "text/plain": [
       "| 2230      | 211.696093   | 0.996077          | 0.957063            | 0.030976          | 0.112989            |"
      ]
     },
     "metadata": {},
     "output_type": "display_data"
    },
    {
     "data": {
      "text/html": [
       "<pre>| 2240      | 212.531720   | 0.996145          | 0.957008            | 0.030779          | 0.112915            |</pre>"
      ],
      "text/plain": [
       "| 2240      | 212.531720   | 0.996145          | 0.957008            | 0.030779          | 0.112915            |"
      ]
     },
     "metadata": {},
     "output_type": "display_data"
    },
    {
     "data": {
      "text/html": [
       "<pre>| 2250      | 213.393344   | 0.996172          | 0.957284            | 0.030648          | 0.112933            |</pre>"
      ],
      "text/plain": [
       "| 2250      | 213.393344   | 0.996172          | 0.957284            | 0.030648          | 0.112933            |"
      ]
     },
     "metadata": {},
     "output_type": "display_data"
    },
    {
     "data": {
      "text/html": [
       "<pre>| 2260      | 214.380343   | 0.996186          | 0.957229            | 0.030578          | 0.112945            |</pre>"
      ],
      "text/plain": [
       "| 2260      | 214.380343   | 0.996186          | 0.957229            | 0.030578          | 0.112945            |"
      ]
     },
     "metadata": {},
     "output_type": "display_data"
    },
    {
     "data": {
      "text/html": [
       "<pre>| 2270      | 215.637530   | 0.996186          | 0.957118            | 0.030485          | 0.112990            |</pre>"
      ],
      "text/plain": [
       "| 2270      | 215.637530   | 0.996186          | 0.957118            | 0.030485          | 0.112990            |"
      ]
     },
     "metadata": {},
     "output_type": "display_data"
    },
    {
     "data": {
      "text/html": [
       "<pre>| 2280      | 216.946294   | 0.996213          | 0.956843            | 0.030273          | 0.113030            |</pre>"
      ],
      "text/plain": [
       "| 2280      | 216.946294   | 0.996213          | 0.956843            | 0.030273          | 0.113030            |"
      ]
     },
     "metadata": {},
     "output_type": "display_data"
    },
    {
     "data": {
      "text/html": [
       "<pre>| 2290      | 217.859282   | 0.996282          | 0.956843            | 0.030155          | 0.113070            |</pre>"
      ],
      "text/plain": [
       "| 2290      | 217.859282   | 0.996282          | 0.956843            | 0.030155          | 0.113070            |"
      ]
     },
     "metadata": {},
     "output_type": "display_data"
    },
    {
     "data": {
      "text/html": [
       "<pre>| 2300      | 218.688965   | 0.996296          | 0.956843            | 0.030044          | 0.113078            |</pre>"
      ],
      "text/plain": [
       "| 2300      | 218.688965   | 0.996296          | 0.956843            | 0.030044          | 0.113078            |"
      ]
     },
     "metadata": {},
     "output_type": "display_data"
    },
    {
     "data": {
      "text/html": [
       "<pre>| 2310      | 219.892640   | 0.996323          | 0.956953            | 0.029951          | 0.113095            |</pre>"
      ],
      "text/plain": [
       "| 2310      | 219.892640   | 0.996323          | 0.956953            | 0.029951          | 0.113095            |"
      ]
     },
     "metadata": {},
     "output_type": "display_data"
    },
    {
     "data": {
      "text/html": [
       "<pre>| 2320      | 220.969943   | 0.996337          | 0.956898            | 0.029869          | 0.113106            |</pre>"
      ],
      "text/plain": [
       "| 2320      | 220.969943   | 0.996337          | 0.956898            | 0.029869          | 0.113106            |"
      ]
     },
     "metadata": {},
     "output_type": "display_data"
    },
    {
     "data": {
      "text/html": [
       "<pre>| 2330      | 222.047692   | 0.996378          | 0.957008            | 0.029761          | 0.113112            |</pre>"
      ],
      "text/plain": [
       "| 2330      | 222.047692   | 0.996378          | 0.957008            | 0.029761          | 0.113112            |"
      ]
     },
     "metadata": {},
     "output_type": "display_data"
    },
    {
     "data": {
      "text/html": [
       "<pre>| 2340      | 223.216330   | 0.996378          | 0.956953            | 0.029690          | 0.113186            |</pre>"
      ],
      "text/plain": [
       "| 2340      | 223.216330   | 0.996378          | 0.956953            | 0.029690          | 0.113186            |"
      ]
     },
     "metadata": {},
     "output_type": "display_data"
    },
    {
     "data": {
      "text/html": [
       "<pre>| 2350      | 224.129822   | 0.996432          | 0.956953            | 0.029600          | 0.113129            |</pre>"
      ],
      "text/plain": [
       "| 2350      | 224.129822   | 0.996432          | 0.956953            | 0.029600          | 0.113129            |"
      ]
     },
     "metadata": {},
     "output_type": "display_data"
    },
    {
     "data": {
      "text/html": [
       "<pre>| 2360      | 225.310589   | 0.996460          | 0.957063            | 0.029316          | 0.113049            |</pre>"
      ],
      "text/plain": [
       "| 2360      | 225.310589   | 0.996460          | 0.957063            | 0.029316          | 0.113049            |"
      ]
     },
     "metadata": {},
     "output_type": "display_data"
    },
    {
     "data": {
      "text/html": [
       "<pre>| 2370      | 226.201159   | 0.996555          | 0.957174            | 0.029143          | 0.113214            |</pre>"
      ],
      "text/plain": [
       "| 2370      | 226.201159   | 0.996555          | 0.957174            | 0.029143          | 0.113214            |"
      ]
     },
     "metadata": {},
     "output_type": "display_data"
    },
    {
     "data": {
      "text/html": [
       "<pre>| 2380      | 227.066527   | 0.996583          | 0.957229            | 0.029045          | 0.113262            |</pre>"
      ],
      "text/plain": [
       "| 2380      | 227.066527   | 0.996583          | 0.957229            | 0.029045          | 0.113262            |"
      ]
     },
     "metadata": {},
     "output_type": "display_data"
    },
    {
     "data": {
      "text/html": [
       "<pre>| 2390      | 228.024106   | 0.996583          | 0.957284            | 0.028991          | 0.113311            |</pre>"
      ],
      "text/plain": [
       "| 2390      | 228.024106   | 0.996583          | 0.957284            | 0.028991          | 0.113311            |"
      ]
     },
     "metadata": {},
     "output_type": "display_data"
    },
    {
     "data": {
      "text/html": [
       "<pre>| 2400      | 229.032086   | 0.996624          | 0.957118            | 0.028839          | 0.113318            |</pre>"
      ],
      "text/plain": [
       "| 2400      | 229.032086   | 0.996624          | 0.957118            | 0.028839          | 0.113318            |"
      ]
     },
     "metadata": {},
     "output_type": "display_data"
    },
    {
     "data": {
      "text/html": [
       "<pre>| 2410      | 230.192203   | 0.996665          | 0.957118            | 0.028645          | 0.113314            |</pre>"
      ],
      "text/plain": [
       "| 2410      | 230.192203   | 0.996665          | 0.957118            | 0.028645          | 0.113314            |"
      ]
     },
     "metadata": {},
     "output_type": "display_data"
    },
    {
     "data": {
      "text/html": [
       "<pre>| 2420      | 231.075825   | 0.996678          | 0.957008            | 0.028575          | 0.113352            |</pre>"
      ],
      "text/plain": [
       "| 2420      | 231.075825   | 0.996678          | 0.957008            | 0.028575          | 0.113352            |"
      ]
     },
     "metadata": {},
     "output_type": "display_data"
    },
    {
     "data": {
      "text/html": [
       "<pre>| 2430      | 231.955614   | 0.996733          | 0.957063            | 0.028498          | 0.113367            |</pre>"
      ],
      "text/plain": [
       "| 2430      | 231.955614   | 0.996733          | 0.957063            | 0.028498          | 0.113367            |"
      ]
     },
     "metadata": {},
     "output_type": "display_data"
    },
    {
     "data": {
      "text/html": [
       "<pre>| 2440      | 232.793609   | 0.996788          | 0.957174            | 0.028434          | 0.113336            |</pre>"
      ],
      "text/plain": [
       "| 2440      | 232.793609   | 0.996788          | 0.957174            | 0.028434          | 0.113336            |"
      ]
     },
     "metadata": {},
     "output_type": "display_data"
    },
    {
     "data": {
      "text/html": [
       "<pre>| 2450      | 233.644880   | 0.996815          | 0.956953            | 0.028254          | 0.113396            |</pre>"
      ],
      "text/plain": [
       "| 2450      | 233.644880   | 0.996815          | 0.956953            | 0.028254          | 0.113396            |"
      ]
     },
     "metadata": {},
     "output_type": "display_data"
    },
    {
     "data": {
      "text/html": [
       "<pre>| 2460      | 234.452067   | 0.996842          | 0.957118            | 0.028144          | 0.113341            |</pre>"
      ],
      "text/plain": [
       "| 2460      | 234.452067   | 0.996842          | 0.957118            | 0.028144          | 0.113341            |"
      ]
     },
     "metadata": {},
     "output_type": "display_data"
    },
    {
     "data": {
      "text/html": [
       "<pre>| 2470      | 235.544947   | 0.996829          | 0.957118            | 0.028042          | 0.113386            |</pre>"
      ],
      "text/plain": [
       "| 2470      | 235.544947   | 0.996829          | 0.957118            | 0.028042          | 0.113386            |"
      ]
     },
     "metadata": {},
     "output_type": "display_data"
    },
    {
     "data": {
      "text/html": [
       "<pre>| 2480      | 236.469102   | 0.996842          | 0.957174            | 0.027994          | 0.113442            |</pre>"
      ],
      "text/plain": [
       "| 2480      | 236.469102   | 0.996842          | 0.957174            | 0.027994          | 0.113442            |"
      ]
     },
     "metadata": {},
     "output_type": "display_data"
    },
    {
     "data": {
      "text/html": [
       "<pre>| 2490      | 237.296969   | 0.996856          | 0.957118            | 0.027938          | 0.113500            |</pre>"
      ],
      "text/plain": [
       "| 2490      | 237.296969   | 0.996856          | 0.957118            | 0.027938          | 0.113500            |"
      ]
     },
     "metadata": {},
     "output_type": "display_data"
    },
    {
     "data": {
      "text/html": [
       "<pre>| 2500      | 238.152769   | 0.996856          | 0.957174            | 0.027880          | 0.113554            |</pre>"
      ],
      "text/plain": [
       "| 2500      | 238.152769   | 0.996856          | 0.957174            | 0.027880          | 0.113554            |"
      ]
     },
     "metadata": {},
     "output_type": "display_data"
    },
    {
     "data": {
      "text/html": [
       "<pre>+-----------+--------------+-------------------+---------------------+-------------------+---------------------+</pre>"
      ],
      "text/plain": [
       "+-----------+--------------+-------------------+---------------------+-------------------+---------------------+"
      ]
     },
     "metadata": {},
     "output_type": "display_data"
    }
   ],
   "source": [
    "# Modelling using GBM\n",
    "model_gbm1 = gl.boosted_trees_classifier.create(train_data, validation_set=val_data,\n",
    "                                         target='label',\n",
    "                                         features=['senti_score','tweet_length','tokens_count','pos_ratio','caps_count','exclaim_count','ques_count','comma_count','quote_count',],\n",
    "                                         max_iterations=2500, max_depth=6, step_size=0.3,\n",
    "                                         min_loss_reduction=1e-6, min_child_weight=0.1,\n",
    "                                         row_subsample=1.0, column_subsample=0.8, random_seed=123,\n",
    "                                         metric='auto')"
   ]
  },
  {
   "cell_type": "code",
   "execution_count": 17,
   "metadata": {
    "collapsed": false
   },
   "outputs": [
    {
     "data": {
      "text/plain": [
       "Class                          : BoostedTreesClassifier\n",
       "\n",
       "Schema\n",
       "------\n",
       "Number of examples             : 73155\n",
       "Number of feature columns      : 9\n",
       "Number of unpacked features    : 29769\n",
       "Number of classes              : 2\n",
       "\n",
       "Settings\n",
       "--------\n",
       "Number of trees                : 2500\n",
       "Max tree depth                 : 6\n",
       "Training time (sec)            : 238.1658\n",
       "Training accuracy              : 0.9969\n",
       "Validation accuracy            : 0.9572\n",
       "Training log_loss              : 0.0279\n",
       "Validation log_loss            : 0.1136"
      ]
     },
     "execution_count": 17,
     "metadata": {},
     "output_type": "execute_result"
    }
   ],
   "source": [
    "model_gbm1"
   ]
  },
  {
   "cell_type": "code",
   "execution_count": 19,
   "metadata": {
    "collapsed": false
   },
   "outputs": [
    {
     "data": {
      "text/plain": [
       "{'accuracy': 0.9571735655624759,\n",
       " 'auc': 0.9908550741143605,\n",
       " 'confusion_matrix': Columns:\n",
       " \ttarget_label\tstr\n",
       " \tpredicted_label\tstr\n",
       " \tcount\tint\n",
       " \n",
       " Rows: 4\n",
       " \n",
       " Data:\n",
       " +---------------+-----------------+-------+\n",
       " |  target_label | predicted_label | count |\n",
       " +---------------+-----------------+-------+\n",
       " |   sarcastic   |    sarcastic    |  9658 |\n",
       " |   sarcastic   |  non-sarcastic  |  570  |\n",
       " | non-sarcastic |    sarcastic    |  207  |\n",
       " | non-sarcastic |  non-sarcastic  |  7708 |\n",
       " +---------------+-----------------+-------+\n",
       " [4 rows x 3 columns],\n",
       " 'f1_score': 0.9613298163539542,\n",
       " 'log_loss': 0.11355411998213585,\n",
       " 'precision': 0.9790167257982767,\n",
       " 'recall': 0.9442706296441142,\n",
       " 'roc_curve': Columns:\n",
       " \tthreshold\tfloat\n",
       " \tfpr\tfloat\n",
       " \ttpr\tfloat\n",
       " \tp\tint\n",
       " \tn\tint\n",
       " \n",
       " Rows: 100001\n",
       " \n",
       " Data:\n",
       " +-----------+----------------+----------------+-------+------+\n",
       " | threshold |      fpr       |      tpr       |   p   |  n   |\n",
       " +-----------+----------------+----------------+-------+------+\n",
       " |    0.0    |      1.0       |      1.0       | 10228 | 7915 |\n",
       " |   1e-05   | 0.956917245736 |      1.0       | 10228 | 7915 |\n",
       " |   2e-05   | 0.942135186355 |      1.0       | 10228 | 7915 |\n",
       " |   3e-05   | 0.928111181301 |      1.0       | 10228 | 7915 |\n",
       " |   4e-05   | 0.919014529375 |      1.0       | 10228 | 7915 |\n",
       " |   5e-05   | 0.909412507896 | 0.999902229175 | 10228 | 7915 |\n",
       " |   6e-05   | 0.902842703727 | 0.999902229175 | 10228 | 7915 |\n",
       " |   7e-05   | 0.897662665824 | 0.999902229175 | 10228 | 7915 |\n",
       " |   8e-05   | 0.891092861655 | 0.999902229175 | 10228 | 7915 |\n",
       " |   9e-05   | 0.885912823752 | 0.99980445835  | 10228 | 7915 |\n",
       " +-----------+----------------+----------------+-------+------+\n",
       " [100001 rows x 5 columns]\n",
       " Note: Only the head of the SFrame is printed.\n",
       " You can use print_rows(num_rows=m, num_columns=n) to print more rows and columns.}"
      ]
     },
     "execution_count": 19,
     "metadata": {},
     "output_type": "execute_result"
    }
   ],
   "source": [
    "model_gbm1.evaluate(val_data)"
   ]
  },
  {
   "cell_type": "code",
   "execution_count": 20,
   "metadata": {
    "collapsed": false
   },
   "outputs": [],
   "source": [
    "# Make Predictions\n",
    "predictions = model_gbm1.classify(test_data)"
   ]
  },
  {
   "cell_type": "code",
   "execution_count": 21,
   "metadata": {
    "collapsed": false
   },
   "outputs": [
    {
     "data": {
      "text/html": [
       "<div style=\"max-height:1000px;max-width:1500px;overflow:auto;\"><table frame=\"box\" rules=\"cols\">\n",
       "    <tr>\n",
       "        <th style=\"padding-left: 1em; padding-right: 1em; text-align: center\">ID</th>\n",
       "        <th style=\"padding-left: 1em; padding-right: 1em; text-align: center\">label</th>\n",
       "    </tr>\n",
       "    <tr>\n",
       "        <td style=\"padding-left: 1em; padding-right: 1em; text-align: center; vertical-align: top\">T000543656</td>\n",
       "        <td style=\"padding-left: 1em; padding-right: 1em; text-align: center; vertical-align: top\">non-sarcastic</td>\n",
       "    </tr>\n",
       "    <tr>\n",
       "        <td style=\"padding-left: 1em; padding-right: 1em; text-align: center; vertical-align: top\">T000543657</td>\n",
       "        <td style=\"padding-left: 1em; padding-right: 1em; text-align: center; vertical-align: top\">sarcastic</td>\n",
       "    </tr>\n",
       "    <tr>\n",
       "        <td style=\"padding-left: 1em; padding-right: 1em; text-align: center; vertical-align: top\">T000543658</td>\n",
       "        <td style=\"padding-left: 1em; padding-right: 1em; text-align: center; vertical-align: top\">sarcastic</td>\n",
       "    </tr>\n",
       "    <tr>\n",
       "        <td style=\"padding-left: 1em; padding-right: 1em; text-align: center; vertical-align: top\">T000543659</td>\n",
       "        <td style=\"padding-left: 1em; padding-right: 1em; text-align: center; vertical-align: top\">non-sarcastic</td>\n",
       "    </tr>\n",
       "    <tr>\n",
       "        <td style=\"padding-left: 1em; padding-right: 1em; text-align: center; vertical-align: top\">T000543660</td>\n",
       "        <td style=\"padding-left: 1em; padding-right: 1em; text-align: center; vertical-align: top\">sarcastic</td>\n",
       "    </tr>\n",
       "    <tr>\n",
       "        <td style=\"padding-left: 1em; padding-right: 1em; text-align: center; vertical-align: top\">T000543661</td>\n",
       "        <td style=\"padding-left: 1em; padding-right: 1em; text-align: center; vertical-align: top\">non-sarcastic</td>\n",
       "    </tr>\n",
       "    <tr>\n",
       "        <td style=\"padding-left: 1em; padding-right: 1em; text-align: center; vertical-align: top\">T000543662</td>\n",
       "        <td style=\"padding-left: 1em; padding-right: 1em; text-align: center; vertical-align: top\">non-sarcastic</td>\n",
       "    </tr>\n",
       "    <tr>\n",
       "        <td style=\"padding-left: 1em; padding-right: 1em; text-align: center; vertical-align: top\">T000543663</td>\n",
       "        <td style=\"padding-left: 1em; padding-right: 1em; text-align: center; vertical-align: top\">non-sarcastic</td>\n",
       "    </tr>\n",
       "    <tr>\n",
       "        <td style=\"padding-left: 1em; padding-right: 1em; text-align: center; vertical-align: top\">T000543664</td>\n",
       "        <td style=\"padding-left: 1em; padding-right: 1em; text-align: center; vertical-align: top\">sarcastic</td>\n",
       "    </tr>\n",
       "    <tr>\n",
       "        <td style=\"padding-left: 1em; padding-right: 1em; text-align: center; vertical-align: top\">T000543665</td>\n",
       "        <td style=\"padding-left: 1em; padding-right: 1em; text-align: center; vertical-align: top\">non-sarcastic</td>\n",
       "    </tr>\n",
       "</table>\n",
       "[10 rows x 2 columns]<br/>\n",
       "</div>"
      ],
      "text/plain": [
       "Columns:\n",
       "\tID\tstr\n",
       "\tlabel\tstr\n",
       "\n",
       "Rows: 10\n",
       "\n",
       "Data:\n",
       "+------------+---------------+\n",
       "|     ID     |     label     |\n",
       "+------------+---------------+\n",
       "| T000543656 | non-sarcastic |\n",
       "| T000543657 |   sarcastic   |\n",
       "| T000543658 |   sarcastic   |\n",
       "| T000543659 | non-sarcastic |\n",
       "| T000543660 |   sarcastic   |\n",
       "| T000543661 | non-sarcastic |\n",
       "| T000543662 | non-sarcastic |\n",
       "| T000543663 | non-sarcastic |\n",
       "| T000543664 |   sarcastic   |\n",
       "| T000543665 | non-sarcastic |\n",
       "+------------+---------------+\n",
       "[10 rows x 2 columns]"
      ]
     },
     "execution_count": 21,
     "metadata": {},
     "output_type": "execute_result"
    }
   ],
   "source": [
    "submit = gl.SFrame({'ID':id,'label':predictions['class']})\n",
    "submit.head()"
   ]
  },
  {
   "cell_type": "code",
   "execution_count": 22,
   "metadata": {
    "collapsed": true
   },
   "outputs": [],
   "source": [
    "submit.save('data/submit.csv', format='csv')"
   ]
  },
  {
   "cell_type": "markdown",
   "metadata": {},
   "source": [
    "This scores the following F1 score,\n",
    "\n",
    "- Validation: 0.96132\n",
    "- Public LB: 0.6642\n",
    "- Private LB: 0.619765\n",
    "\n",
    "As you can see there is a huge gap between Validation and Public LB which makes it tricker.\n",
    "\n",
    "Including higher order n-grams or skip-grams results in an exponential increase in the number of features in the order of millions."
   ]
  }
 ],
 "metadata": {
  "anaconda-cloud": {},
  "kernelspec": {
   "display_name": "Python [conda env:py27]",
   "language": "python",
   "name": "conda-env-py27-py"
  },
  "language_info": {
   "codemirror_mode": {
    "name": "ipython",
    "version": 2
   },
   "file_extension": ".py",
   "mimetype": "text/x-python",
   "name": "python",
   "nbconvert_exporter": "python",
   "pygments_lexer": "ipython2",
   "version": "2.7.12"
  }
 },
 "nbformat": 4,
 "nbformat_minor": 1
}
