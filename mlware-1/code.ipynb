{
 "cells": [
  {
   "cell_type": "markdown",
   "metadata": {},
   "source": [
    "# Problem Statement"
   ]
  },
  {
   "cell_type": "markdown",
   "metadata": {},
   "source": [
    "Shakespeare probably saw a world expressing itself on Twitter before any one did! And he would have known if any one made a sarcastic tweet or not. But for our machines and bots, they need help from data scientists to help them decipher sarcasm. \n",
    "\n",
    "Your ask for this competition is to build a machine learning model that, given a tweet, can classify it correctly as sarcastic or non-sarcastic. This problem is one of the most interesting problems in Natural Language Processing and Text Mining. You never know - the next generation of bots might come and thank you for making them smarter! \n",
    "\n",
    "The prediction has to be made using only the text of the tweet."
   ]
  },
  {
   "cell_type": "markdown",
   "metadata": {},
   "source": [
    "# Dataset"
   ]
  },
  {
   "cell_type": "markdown",
   "metadata": {},
   "source": [
    "Two files - one each for training and testing - are provided.\n",
    "\n",
    "**training.csv**: This file contains three columns -\n",
    "    - ID: ID for each tweet\n",
    "    - tweet: contains the text of the tweet\n",
    "    - label: the label for the tweet (‘sarcastic’ or ‘non-sarcastic’)\n",
    "\n",
    "**test.csv**: This file has two columns containing the ID and tweets. The predictions on this set would be judged.\n",
    "\n",
    "**submission.csv**: This contains the predictions of the model on the test file. The file has to contain a two columns (ID and label). Each label takes one of the two string values, ‘sarcastic’ or ‘non-sarcastic’."
   ]
  },
  {
   "cell_type": "markdown",
   "metadata": {},
   "source": [
    "# Evauation"
   ]
  },
  {
   "cell_type": "markdown",
   "metadata": {},
   "source": [
    "The metric used for evaluating the predictions for this problem is simply the F1-score.\n",
    "\n",
    "Public : Private leaderboard split on test data is 25:75"
   ]
  },
  {
   "cell_type": "markdown",
   "metadata": {},
   "source": [
    "# Import packages"
   ]
  },
  {
   "cell_type": "code",
   "execution_count": 2,
   "metadata": {
    "collapsed": false
   },
   "outputs": [],
   "source": [
    "import graphlab as gl\n",
    "import graphlab.aggregate as agg"
   ]
  },
  {
   "cell_type": "code",
   "execution_count": 3,
   "metadata": {
    "collapsed": false
   },
   "outputs": [
    {
     "data": {
      "text/html": [
       "<pre>Finished parsing file /Users/Karthik/Documents/Contest/AnalyticsVidhya/mlware-1/data/train_MLWARE1.csv</pre>"
      ],
      "text/plain": [
       "Finished parsing file /Users/Karthik/Documents/Contest/AnalyticsVidhya/mlware-1/data/train_MLWARE1.csv"
      ]
     },
     "metadata": {},
     "output_type": "display_data"
    },
    {
     "data": {
      "text/html": [
       "<pre>Parsing completed. Parsed 100 lines in 0.235972 secs.</pre>"
      ],
      "text/plain": [
       "Parsing completed. Parsed 100 lines in 0.235972 secs."
      ]
     },
     "metadata": {},
     "output_type": "display_data"
    },
    {
     "name": "stdout",
     "output_type": "stream",
     "text": [
      "------------------------------------------------------\n",
      "Inferred types from first 100 line(s) of file as \n",
      "column_type_hints=[str,str,str]\n",
      "If parsing fails due to incorrect types, you can correct\n",
      "the inferred type list above and pass it to read_csv in\n",
      "the column_type_hints argument\n",
      "------------------------------------------------------\n"
     ]
    },
    {
     "data": {
      "text/html": [
       "<pre>Finished parsing file /Users/Karthik/Documents/Contest/AnalyticsVidhya/mlware-1/data/train_MLWARE1.csv</pre>"
      ],
      "text/plain": [
       "Finished parsing file /Users/Karthik/Documents/Contest/AnalyticsVidhya/mlware-1/data/train_MLWARE1.csv"
      ]
     },
     "metadata": {},
     "output_type": "display_data"
    },
    {
     "data": {
      "text/html": [
       "<pre>Parsing completed. Parsed 91298 lines in 0.231675 secs.</pre>"
      ],
      "text/plain": [
       "Parsing completed. Parsed 91298 lines in 0.231675 secs."
      ]
     },
     "metadata": {},
     "output_type": "display_data"
    },
    {
     "data": {
      "text/html": [
       "<pre>Finished parsing file /Users/Karthik/Documents/Contest/AnalyticsVidhya/mlware-1/data/test_MLWARE1.csv</pre>"
      ],
      "text/plain": [
       "Finished parsing file /Users/Karthik/Documents/Contest/AnalyticsVidhya/mlware-1/data/test_MLWARE1.csv"
      ]
     },
     "metadata": {},
     "output_type": "display_data"
    },
    {
     "data": {
      "text/html": [
       "<pre>Parsing completed. Parsed 100 lines in 0.081828 secs.</pre>"
      ],
      "text/plain": [
       "Parsing completed. Parsed 100 lines in 0.081828 secs."
      ]
     },
     "metadata": {},
     "output_type": "display_data"
    },
    {
     "name": "stdout",
     "output_type": "stream",
     "text": [
      "------------------------------------------------------\n",
      "Inferred types from first 100 line(s) of file as \n",
      "column_type_hints=[str,str]\n",
      "If parsing fails due to incorrect types, you can correct\n",
      "the inferred type list above and pass it to read_csv in\n",
      "the column_type_hints argument\n",
      "------------------------------------------------------\n"
     ]
    },
    {
     "data": {
      "text/html": [
       "<pre>Finished parsing file /Users/Karthik/Documents/Contest/AnalyticsVidhya/mlware-1/data/test_MLWARE1.csv</pre>"
      ],
      "text/plain": [
       "Finished parsing file /Users/Karthik/Documents/Contest/AnalyticsVidhya/mlware-1/data/test_MLWARE1.csv"
      ]
     },
     "metadata": {},
     "output_type": "display_data"
    },
    {
     "data": {
      "text/html": [
       "<pre>Parsing completed. Parsed 39392 lines in 0.105441 secs.</pre>"
      ],
      "text/plain": [
       "Parsing completed. Parsed 39392 lines in 0.105441 secs."
      ]
     },
     "metadata": {},
     "output_type": "display_data"
    }
   ],
   "source": [
    "train = gl.SFrame('data/train_MLWARE1.csv')\n",
    "test = gl.SFrame('data/test_MLWARE1.csv')"
   ]
  },
  {
   "cell_type": "code",
   "execution_count": 5,
   "metadata": {
    "collapsed": false
   },
   "outputs": [],
   "source": [
    "id = test['ID']\n",
    "label = train['label']\n",
    "train_tweet = train['tweet']\n",
    "test_tweet = test['tweet']"
   ]
  },
  {
   "cell_type": "markdown",
   "metadata": {},
   "source": [
    "# Approach 1"
   ]
  },
  {
   "cell_type": "markdown",
   "metadata": {},
   "source": [
    "This approach involves building simple features using the word count i.e. 1-grams. This results in 37782 features. "
   ]
  },
  {
   "cell_type": "code",
   "execution_count": 6,
   "metadata": {
    "collapsed": false
   },
   "outputs": [],
   "source": [
    "# Building 1-grams / extracting word counts\n",
    "train['ngram1'] = gl.text_analytics.count_ngrams(train['tweet'], 1, to_lower=True)\n",
    "test['ngram1'] = gl.text_analytics.count_ngrams(test['tweet'], 1, to_lower=True)"
   ]
  },
  {
   "cell_type": "code",
   "execution_count": 7,
   "metadata": {
    "collapsed": true
   },
   "outputs": [],
   "source": [
    "# Train-Validation Split\n",
    "train_data,test_data = train.random_split(.8, seed=0)"
   ]
  },
  {
   "cell_type": "code",
   "execution_count": 8,
   "metadata": {
    "collapsed": false
   },
   "outputs": [
    {
     "data": {
      "text/html": [
       "<pre>Boosted trees classifier:</pre>"
      ],
      "text/plain": [
       "Boosted trees classifier:"
      ]
     },
     "metadata": {},
     "output_type": "display_data"
    },
    {
     "data": {
      "text/html": [
       "<pre>--------------------------------------------------------</pre>"
      ],
      "text/plain": [
       "--------------------------------------------------------"
      ]
     },
     "metadata": {},
     "output_type": "display_data"
    },
    {
     "data": {
      "text/html": [
       "<pre>Number of examples          : 72968</pre>"
      ],
      "text/plain": [
       "Number of examples          : 72968"
      ]
     },
     "metadata": {},
     "output_type": "display_data"
    },
    {
     "data": {
      "text/html": [
       "<pre>Number of classes           : 2</pre>"
      ],
      "text/plain": [
       "Number of classes           : 2"
      ]
     },
     "metadata": {},
     "output_type": "display_data"
    },
    {
     "data": {
      "text/html": [
       "<pre>Number of feature columns   : 1</pre>"
      ],
      "text/plain": [
       "Number of feature columns   : 1"
      ]
     },
     "metadata": {},
     "output_type": "display_data"
    },
    {
     "data": {
      "text/html": [
       "<pre>Number of unpacked features : 37782</pre>"
      ],
      "text/plain": [
       "Number of unpacked features : 37782"
      ]
     },
     "metadata": {},
     "output_type": "display_data"
    },
    {
     "data": {
      "text/html": [
       "<pre>+-----------+--------------+-------------------+---------------------+-------------------+---------------------+</pre>"
      ],
      "text/plain": [
       "+-----------+--------------+-------------------+---------------------+-------------------+---------------------+"
      ]
     },
     "metadata": {},
     "output_type": "display_data"
    },
    {
     "data": {
      "text/html": [
       "<pre>| Iteration | Elapsed Time | Training-accuracy | Validation-accuracy | Training-log_loss | Validation-log_loss |</pre>"
      ],
      "text/plain": [
       "| Iteration | Elapsed Time | Training-accuracy | Validation-accuracy | Training-log_loss | Validation-log_loss |"
      ]
     },
     "metadata": {},
     "output_type": "display_data"
    },
    {
     "data": {
      "text/html": [
       "<pre>+-----------+--------------+-------------------+---------------------+-------------------+---------------------+</pre>"
      ],
      "text/plain": [
       "+-----------+--------------+-------------------+---------------------+-------------------+---------------------+"
      ]
     },
     "metadata": {},
     "output_type": "display_data"
    },
    {
     "data": {
      "text/html": [
       "<pre>| 1         | 0.151558     | 0.645543          | 0.640753            | 0.630129          | 0.632315            |</pre>"
      ],
      "text/plain": [
       "| 1         | 0.151558     | 0.645543          | 0.640753            | 0.630129          | 0.632315            |"
      ]
     },
     "metadata": {},
     "output_type": "display_data"
    },
    {
     "data": {
      "text/html": [
       "<pre>| 2         | 0.313920     | 0.722344          | 0.715766            | 0.590452          | 0.593234            |</pre>"
      ],
      "text/plain": [
       "| 2         | 0.313920     | 0.722344          | 0.715766            | 0.590452          | 0.593234            |"
      ]
     },
     "metadata": {},
     "output_type": "display_data"
    },
    {
     "data": {
      "text/html": [
       "<pre>| 3         | 0.411585     | 0.733047          | 0.727169            | 0.563097          | 0.567005            |</pre>"
      ],
      "text/plain": [
       "| 3         | 0.411585     | 0.733047          | 0.727169            | 0.563097          | 0.567005            |"
      ]
     },
     "metadata": {},
     "output_type": "display_data"
    },
    {
     "data": {
      "text/html": [
       "<pre>| 4         | 0.516932     | 0.738255          | 0.731478            | 0.542707          | 0.547781            |</pre>"
      ],
      "text/plain": [
       "| 4         | 0.516932     | 0.738255          | 0.731478            | 0.542707          | 0.547781            |"
      ]
     },
     "metadata": {},
     "output_type": "display_data"
    },
    {
     "data": {
      "text/html": [
       "<pre>| 5         | 0.610916     | 0.739297          | 0.732897            | 0.528455          | 0.533860            |</pre>"
      ],
      "text/plain": [
       "| 5         | 0.610916     | 0.739297          | 0.732897            | 0.528455          | 0.533860            |"
      ]
     },
     "metadata": {},
     "output_type": "display_data"
    },
    {
     "data": {
      "text/html": [
       "<pre>| 6         | 0.728963     | 0.739406          | 0.733006            | 0.514684          | 0.520825            |</pre>"
      ],
      "text/plain": [
       "| 6         | 0.728963     | 0.739406          | 0.733006            | 0.514684          | 0.520825            |"
      ]
     },
     "metadata": {},
     "output_type": "display_data"
    },
    {
     "data": {
      "text/html": [
       "<pre>| 10        | 1.087195     | 0.757688          | 0.748663            | 0.478913          | 0.487569            |</pre>"
      ],
      "text/plain": [
       "| 10        | 1.087195     | 0.757688          | 0.748663            | 0.478913          | 0.487569            |"
      ]
     },
     "metadata": {},
     "output_type": "display_data"
    },
    {
     "data": {
      "text/html": [
       "<pre>| 11        | 1.263372     | 0.764650          | 0.752591            | 0.472370          | 0.481603            |</pre>"
      ],
      "text/plain": [
       "| 11        | 1.263372     | 0.764650          | 0.752591            | 0.472370          | 0.481603            |"
      ]
     },
     "metadata": {},
     "output_type": "display_data"
    },
    {
     "data": {
      "text/html": [
       "<pre>| 20        | 2.141264     | 0.807957          | 0.795254            | 0.430104          | 0.442324            |</pre>"
      ],
      "text/plain": [
       "| 20        | 2.141264     | 0.807957          | 0.795254            | 0.430104          | 0.442324            |"
      ]
     },
     "metadata": {},
     "output_type": "display_data"
    },
    {
     "data": {
      "text/html": [
       "<pre>| 30        | 3.031831     | 0.827445          | 0.813202            | 0.400298          | 0.415433            |</pre>"
      ],
      "text/plain": [
       "| 30        | 3.031831     | 0.827445          | 0.813202            | 0.400298          | 0.415433            |"
      ]
     },
     "metadata": {},
     "output_type": "display_data"
    },
    {
     "data": {
      "text/html": [
       "<pre>| 40        | 3.829366     | 0.837107          | 0.822259            | 0.380589          | 0.397418            |</pre>"
      ],
      "text/plain": [
       "| 40        | 3.829366     | 0.837107          | 0.822259            | 0.380589          | 0.397418            |"
      ]
     },
     "metadata": {},
     "output_type": "display_data"
    },
    {
     "data": {
      "text/html": [
       "<pre>| 50        | 4.651380     | 0.845371          | 0.829405            | 0.364529          | 0.383777            |</pre>"
      ],
      "text/plain": [
       "| 50        | 4.651380     | 0.845371          | 0.829405            | 0.364529          | 0.383777            |"
      ]
     },
     "metadata": {},
     "output_type": "display_data"
    },
    {
     "data": {
      "text/html": [
       "<pre>| 51        | 4.752449     | 0.846083          | 0.830878            | 0.363195          | 0.382775            |</pre>"
      ],
      "text/plain": [
       "| 51        | 4.752449     | 0.846083          | 0.830878            | 0.363195          | 0.382775            |"
      ]
     },
     "metadata": {},
     "output_type": "display_data"
    },
    {
     "data": {
      "text/html": [
       "<pre>| 60        | 5.505991     | 0.851825          | 0.835897            | 0.351831          | 0.373186            |</pre>"
      ],
      "text/plain": [
       "| 60        | 5.505991     | 0.851825          | 0.835897            | 0.351831          | 0.373186            |"
      ]
     },
     "metadata": {},
     "output_type": "display_data"
    },
    {
     "data": {
      "text/html": [
       "<pre>| 70        | 6.331889     | 0.857170          | 0.839880            | 0.340992          | 0.364559            |</pre>"
      ],
      "text/plain": [
       "| 70        | 6.331889     | 0.857170          | 0.839880            | 0.340992          | 0.364559            |"
      ]
     },
     "metadata": {},
     "output_type": "display_data"
    },
    {
     "data": {
      "text/html": [
       "<pre>| 80        | 7.138460     | 0.862474          | 0.843808            | 0.331478          | 0.357478            |</pre>"
      ],
      "text/plain": [
       "| 80        | 7.138460     | 0.862474          | 0.843808            | 0.331478          | 0.357478            |"
      ]
     },
     "metadata": {},
     "output_type": "display_data"
    },
    {
     "data": {
      "text/html": [
       "<pre>| 90        | 7.953886     | 0.865544          | 0.845172            | 0.324453          | 0.351859            |</pre>"
      ],
      "text/plain": [
       "| 90        | 7.953886     | 0.865544          | 0.845172            | 0.324453          | 0.351859            |"
      ]
     },
     "metadata": {},
     "output_type": "display_data"
    },
    {
     "data": {
      "text/html": [
       "<pre>| 100       | 8.781579     | 0.869546          | 0.847900            | 0.317580          | 0.346653            |</pre>"
      ],
      "text/plain": [
       "| 100       | 8.781579     | 0.869546          | 0.847900            | 0.317580          | 0.346653            |"
      ]
     },
     "metadata": {},
     "output_type": "display_data"
    },
    {
     "data": {
      "text/html": [
       "<pre>| 101       | 8.873825     | 0.869614          | 0.847900            | 0.316967          | 0.346076            |</pre>"
      ],
      "text/plain": [
       "| 101       | 8.873825     | 0.869614          | 0.847900            | 0.316967          | 0.346076            |"
      ]
     },
     "metadata": {},
     "output_type": "display_data"
    },
    {
     "data": {
      "text/html": [
       "<pre>| 110       | 9.995005     | 0.872328          | 0.850409            | 0.311480          | 0.342149            |</pre>"
      ],
      "text/plain": [
       "| 110       | 9.995005     | 0.872328          | 0.850409            | 0.311480          | 0.342149            |"
      ]
     },
     "metadata": {},
     "output_type": "display_data"
    },
    {
     "data": {
      "text/html": [
       "<pre>| 120       | 10.861370    | 0.876261          | 0.852100            | 0.306361          | 0.338095            |</pre>"
      ],
      "text/plain": [
       "| 120       | 10.861370    | 0.876261          | 0.852100            | 0.306361          | 0.338095            |"
      ]
     },
     "metadata": {},
     "output_type": "display_data"
    },
    {
     "data": {
      "text/html": [
       "<pre>| 130       | 11.685591    | 0.878974          | 0.853628            | 0.300393          | 0.334435            |</pre>"
      ],
      "text/plain": [
       "| 130       | 11.685591    | 0.878974          | 0.853628            | 0.300393          | 0.334435            |"
      ]
     },
     "metadata": {},
     "output_type": "display_data"
    },
    {
     "data": {
      "text/html": [
       "<pre>| 140       | 12.500123    | 0.881455          | 0.856247            | 0.295494          | 0.330896            |</pre>"
      ],
      "text/plain": [
       "| 140       | 12.500123    | 0.881455          | 0.856247            | 0.295494          | 0.330896            |"
      ]
     },
     "metadata": {},
     "output_type": "display_data"
    },
    {
     "data": {
      "text/html": [
       "<pre>| 150       | 13.334610    | 0.883689          | 0.856956            | 0.291207          | 0.327841            |</pre>"
      ],
      "text/plain": [
       "| 150       | 13.334610    | 0.883689          | 0.856956            | 0.291207          | 0.327841            |"
      ]
     },
     "metadata": {},
     "output_type": "display_data"
    },
    {
     "data": {
      "text/html": [
       "<pre>| 160       | 14.122024    | 0.885662          | 0.858374            | 0.287311          | 0.325062            |</pre>"
      ],
      "text/plain": [
       "| 160       | 14.122024    | 0.885662          | 0.858374            | 0.287311          | 0.325062            |"
      ]
     },
     "metadata": {},
     "output_type": "display_data"
    },
    {
     "data": {
      "text/html": [
       "<pre>| 170       | 14.925888    | 0.888211          | 0.859738            | 0.283431          | 0.322284            |</pre>"
      ],
      "text/plain": [
       "| 170       | 14.925888    | 0.888211          | 0.859738            | 0.283431          | 0.322284            |"
      ]
     },
     "metadata": {},
     "output_type": "display_data"
    },
    {
     "data": {
      "text/html": [
       "<pre>| 180       | 15.736622    | 0.890377          | 0.861047            | 0.279435          | 0.319866            |</pre>"
      ],
      "text/plain": [
       "| 180       | 15.736622    | 0.890377          | 0.861047            | 0.279435          | 0.319866            |"
      ]
     },
     "metadata": {},
     "output_type": "display_data"
    },
    {
     "data": {
      "text/html": [
       "<pre>| 190       | 16.579966    | 0.891884          | 0.862139            | 0.275911          | 0.317681            |</pre>"
      ],
      "text/plain": [
       "| 190       | 16.579966    | 0.891884          | 0.862139            | 0.275911          | 0.317681            |"
      ]
     },
     "metadata": {},
     "output_type": "display_data"
    },
    {
     "data": {
      "text/html": [
       "<pre>| 200       | 17.375621    | 0.893474          | 0.862466            | 0.272889          | 0.316204            |</pre>"
      ],
      "text/plain": [
       "| 200       | 17.375621    | 0.893474          | 0.862466            | 0.272889          | 0.316204            |"
      ]
     },
     "metadata": {},
     "output_type": "display_data"
    },
    {
     "data": {
      "text/html": [
       "<pre>| 210       | 18.548826    | 0.895269          | 0.863502            | 0.269474          | 0.313949            |</pre>"
      ],
      "text/plain": [
       "| 210       | 18.548826    | 0.895269          | 0.863502            | 0.269474          | 0.313949            |"
      ]
     },
     "metadata": {},
     "output_type": "display_data"
    },
    {
     "data": {
      "text/html": [
       "<pre>| 220       | 19.368722    | 0.897462          | 0.864648            | 0.266312          | 0.311800            |</pre>"
      ],
      "text/plain": [
       "| 220       | 19.368722    | 0.897462          | 0.864648            | 0.266312          | 0.311800            |"
      ]
     },
     "metadata": {},
     "output_type": "display_data"
    },
    {
     "data": {
      "text/html": [
       "<pre>| 230       | 20.206757    | 0.898832          | 0.865303            | 0.263701          | 0.310263            |</pre>"
      ],
      "text/plain": [
       "| 230       | 20.206757    | 0.898832          | 0.865303            | 0.263701          | 0.310263            |"
      ]
     },
     "metadata": {},
     "output_type": "display_data"
    },
    {
     "data": {
      "text/html": [
       "<pre>| 240       | 21.030273    | 0.900107          | 0.866448            | 0.261331          | 0.308685            |</pre>"
      ],
      "text/plain": [
       "| 240       | 21.030273    | 0.900107          | 0.866448            | 0.261331          | 0.308685            |"
      ]
     },
     "metadata": {},
     "output_type": "display_data"
    },
    {
     "data": {
      "text/html": [
       "<pre>| 250       | 21.837124    | 0.901176          | 0.867376            | 0.258900          | 0.307323            |</pre>"
      ],
      "text/plain": [
       "| 250       | 21.837124    | 0.901176          | 0.867376            | 0.258900          | 0.307323            |"
      ]
     },
     "metadata": {},
     "output_type": "display_data"
    },
    {
     "data": {
      "text/html": [
       "<pre>| 260       | 22.656824    | 0.902437          | 0.867867            | 0.256504          | 0.305898            |</pre>"
      ],
      "text/plain": [
       "| 260       | 22.656824    | 0.902437          | 0.867867            | 0.256504          | 0.305898            |"
      ]
     },
     "metadata": {},
     "output_type": "display_data"
    },
    {
     "data": {
      "text/html": [
       "<pre>| 270       | 23.465313    | 0.903547          | 0.868249            | 0.254108          | 0.304574            |</pre>"
      ],
      "text/plain": [
       "| 270       | 23.465313    | 0.903547          | 0.868249            | 0.254108          | 0.304574            |"
      ]
     },
     "metadata": {},
     "output_type": "display_data"
    },
    {
     "data": {
      "text/html": [
       "<pre>| 280       | 24.273859    | 0.904725          | 0.868358            | 0.252020          | 0.303477            |</pre>"
      ],
      "text/plain": [
       "| 280       | 24.273859    | 0.904725          | 0.868358            | 0.252020          | 0.303477            |"
      ]
     },
     "metadata": {},
     "output_type": "display_data"
    },
    {
     "data": {
      "text/html": [
       "<pre>| 290       | 25.083365    | 0.905657          | 0.868467            | 0.249666          | 0.302553            |</pre>"
      ],
      "text/plain": [
       "| 290       | 25.083365    | 0.905657          | 0.868467            | 0.249666          | 0.302553            |"
      ]
     },
     "metadata": {},
     "output_type": "display_data"
    },
    {
     "data": {
      "text/html": [
       "<pre>| 300       | 25.908608    | 0.906438          | 0.868249            | 0.246440          | 0.300776            |</pre>"
      ],
      "text/plain": [
       "| 300       | 25.908608    | 0.906438          | 0.868249            | 0.246440          | 0.300776            |"
      ]
     },
     "metadata": {},
     "output_type": "display_data"
    },
    {
     "data": {
      "text/html": [
       "<pre>| 310       | 26.705378    | 0.907946          | 0.868849            | 0.244287          | 0.299633            |</pre>"
      ],
      "text/plain": [
       "| 310       | 26.705378    | 0.907946          | 0.868849            | 0.244287          | 0.299633            |"
      ]
     },
     "metadata": {},
     "output_type": "display_data"
    },
    {
     "data": {
      "text/html": [
       "<pre>| 320       | 27.742826    | 0.909193          | 0.869122            | 0.242314          | 0.298352            |</pre>"
      ],
      "text/plain": [
       "| 320       | 27.742826    | 0.909193          | 0.869122            | 0.242314          | 0.298352            |"
      ]
     },
     "metadata": {},
     "output_type": "display_data"
    },
    {
     "data": {
      "text/html": [
       "<pre>| 330       | 28.652878    | 0.910248          | 0.870049            | 0.240519          | 0.297131            |</pre>"
      ],
      "text/plain": [
       "| 330       | 28.652878    | 0.910248          | 0.870049            | 0.240519          | 0.297131            |"
      ]
     },
     "metadata": {},
     "output_type": "display_data"
    },
    {
     "data": {
      "text/html": [
       "<pre>| 340       | 29.473382    | 0.911441          | 0.870704            | 0.238622          | 0.296130            |</pre>"
      ],
      "text/plain": [
       "| 340       | 29.473382    | 0.911441          | 0.870704            | 0.238622          | 0.296130            |"
      ]
     },
     "metadata": {},
     "output_type": "display_data"
    },
    {
     "data": {
      "text/html": [
       "<pre>| 350       | 30.291073    | 0.912468          | 0.871413            | 0.237106          | 0.295177            |</pre>"
      ],
      "text/plain": [
       "| 350       | 30.291073    | 0.912468          | 0.871413            | 0.237106          | 0.295177            |"
      ]
     },
     "metadata": {},
     "output_type": "display_data"
    },
    {
     "data": {
      "text/html": [
       "<pre>| 360       | 31.467939    | 0.913140          | 0.872122            | 0.235730          | 0.294257            |</pre>"
      ],
      "text/plain": [
       "| 360       | 31.467939    | 0.913140          | 0.872122            | 0.235730          | 0.294257            |"
      ]
     },
     "metadata": {},
     "output_type": "display_data"
    },
    {
     "data": {
      "text/html": [
       "<pre>| 370       | 32.651483    | 0.913894          | 0.872941            | 0.234229          | 0.293305            |</pre>"
      ],
      "text/plain": [
       "| 370       | 32.651483    | 0.913894          | 0.872941            | 0.234229          | 0.293305            |"
      ]
     },
     "metadata": {},
     "output_type": "display_data"
    },
    {
     "data": {
      "text/html": [
       "<pre>| 380       | 33.566968    | 0.914593          | 0.873432            | 0.232558          | 0.292668            |</pre>"
      ],
      "text/plain": [
       "| 380       | 33.566968    | 0.914593          | 0.873432            | 0.232558          | 0.292668            |"
      ]
     },
     "metadata": {},
     "output_type": "display_data"
    },
    {
     "data": {
      "text/html": [
       "<pre>| 390       | 34.714375    | 0.915470          | 0.873759            | 0.230617          | 0.291510            |</pre>"
      ],
      "text/plain": [
       "| 390       | 34.714375    | 0.915470          | 0.873759            | 0.230617          | 0.291510            |"
      ]
     },
     "metadata": {},
     "output_type": "display_data"
    },
    {
     "data": {
      "text/html": [
       "<pre>| 400       | 36.064048    | 0.916361          | 0.875014            | 0.229057          | 0.290404            |</pre>"
      ],
      "text/plain": [
       "| 400       | 36.064048    | 0.916361          | 0.875014            | 0.229057          | 0.290404            |"
      ]
     },
     "metadata": {},
     "output_type": "display_data"
    },
    {
     "data": {
      "text/html": [
       "<pre>| 410       | 37.426400    | 0.917293          | 0.874905            | 0.227378          | 0.289809            |</pre>"
      ],
      "text/plain": [
       "| 410       | 37.426400    | 0.917293          | 0.874905            | 0.227378          | 0.289809            |"
      ]
     },
     "metadata": {},
     "output_type": "display_data"
    },
    {
     "data": {
      "text/html": [
       "<pre>| 420       | 38.264926    | 0.918266          | 0.875505            | 0.225672          | 0.288698            |</pre>"
      ],
      "text/plain": [
       "| 420       | 38.264926    | 0.918266          | 0.875505            | 0.225672          | 0.288698            |"
      ]
     },
     "metadata": {},
     "output_type": "display_data"
    },
    {
     "data": {
      "text/html": [
       "<pre>| 430       | 39.073087    | 0.918800          | 0.875396            | 0.224370          | 0.288061            |</pre>"
      ],
      "text/plain": [
       "| 430       | 39.073087    | 0.918800          | 0.875396            | 0.224370          | 0.288061            |"
      ]
     },
     "metadata": {},
     "output_type": "display_data"
    },
    {
     "data": {
      "text/html": [
       "<pre>| 440       | 39.847824    | 0.919321          | 0.875014            | 0.222808          | 0.287198            |</pre>"
      ],
      "text/plain": [
       "| 440       | 39.847824    | 0.919321          | 0.875014            | 0.222808          | 0.287198            |"
      ]
     },
     "metadata": {},
     "output_type": "display_data"
    },
    {
     "data": {
      "text/html": [
       "<pre>| 450       | 40.662068    | 0.920006          | 0.875177            | 0.221374          | 0.286264            |</pre>"
      ],
      "text/plain": [
       "| 450       | 40.662068    | 0.920006          | 0.875177            | 0.221374          | 0.286264            |"
      ]
     },
     "metadata": {},
     "output_type": "display_data"
    },
    {
     "data": {
      "text/html": [
       "<pre>| 460       | 41.474433    | 0.921308          | 0.875341            | 0.219494          | 0.285587            |</pre>"
      ],
      "text/plain": [
       "| 460       | 41.474433    | 0.921308          | 0.875341            | 0.219494          | 0.285587            |"
      ]
     },
     "metadata": {},
     "output_type": "display_data"
    },
    {
     "data": {
      "text/html": [
       "<pre>| 470       | 42.296254    | 0.922473          | 0.876050            | 0.218148          | 0.285163            |</pre>"
      ],
      "text/plain": [
       "| 470       | 42.296254    | 0.922473          | 0.876050            | 0.218148          | 0.285163            |"
      ]
     },
     "metadata": {},
     "output_type": "display_data"
    },
    {
     "data": {
      "text/html": [
       "<pre>| 480       | 43.120133    | 0.923076          | 0.875996            | 0.216755          | 0.284670            |</pre>"
      ],
      "text/plain": [
       "| 480       | 43.120133    | 0.923076          | 0.875996            | 0.216755          | 0.284670            |"
      ]
     },
     "metadata": {},
     "output_type": "display_data"
    },
    {
     "data": {
      "text/html": [
       "<pre>| 490       | 43.931596    | 0.923487          | 0.875941            | 0.215672          | 0.284187            |</pre>"
      ],
      "text/plain": [
       "| 490       | 43.931596    | 0.923487          | 0.875941            | 0.215672          | 0.284187            |"
      ]
     },
     "metadata": {},
     "output_type": "display_data"
    },
    {
     "data": {
      "text/html": [
       "<pre>| 500       | 44.737452    | 0.924268          | 0.876268            | 0.214447          | 0.283303            |</pre>"
      ],
      "text/plain": [
       "| 500       | 44.737452    | 0.924268          | 0.876268            | 0.214447          | 0.283303            |"
      ]
     },
     "metadata": {},
     "output_type": "display_data"
    },
    {
     "data": {
      "text/html": [
       "<pre>| 501       | 44.833764    | 0.924350          | 0.876432            | 0.214340          | 0.283259            |</pre>"
      ],
      "text/plain": [
       "| 501       | 44.833764    | 0.924350          | 0.876432            | 0.214340          | 0.283259            |"
      ]
     },
     "metadata": {},
     "output_type": "display_data"
    },
    {
     "data": {
      "text/html": [
       "<pre>| 510       | 45.581994    | 0.925241          | 0.876432            | 0.212687          | 0.282612            |</pre>"
      ],
      "text/plain": [
       "| 510       | 45.581994    | 0.925241          | 0.876432            | 0.212687          | 0.282612            |"
      ]
     },
     "metadata": {},
     "output_type": "display_data"
    },
    {
     "data": {
      "text/html": [
       "<pre>| 520       | 46.416488    | 0.925762          | 0.877196            | 0.211586          | 0.282226            |</pre>"
      ],
      "text/plain": [
       "| 520       | 46.416488    | 0.925762          | 0.877196            | 0.211586          | 0.282226            |"
      ]
     },
     "metadata": {},
     "output_type": "display_data"
    },
    {
     "data": {
      "text/html": [
       "<pre>| 530       | 47.211872    | 0.926050          | 0.877578            | 0.210518          | 0.281735            |</pre>"
      ],
      "text/plain": [
       "| 530       | 47.211872    | 0.926050          | 0.877578            | 0.210518          | 0.281735            |"
      ]
     },
     "metadata": {},
     "output_type": "display_data"
    },
    {
     "data": {
      "text/html": [
       "<pre>| 540       | 48.023693    | 0.926804          | 0.877851            | 0.209299          | 0.281047            |</pre>"
      ],
      "text/plain": [
       "| 540       | 48.023693    | 0.926804          | 0.877851            | 0.209299          | 0.281047            |"
      ]
     },
     "metadata": {},
     "output_type": "display_data"
    },
    {
     "data": {
      "text/html": [
       "<pre>| 550       | 48.817061    | 0.927187          | 0.877851            | 0.208409          | 0.280689            |</pre>"
      ],
      "text/plain": [
       "| 550       | 48.817061    | 0.927187          | 0.877851            | 0.208409          | 0.280689            |"
      ]
     },
     "metadata": {},
     "output_type": "display_data"
    },
    {
     "data": {
      "text/html": [
       "<pre>| 560       | 49.624315    | 0.927653          | 0.878560            | 0.207390          | 0.280200            |</pre>"
      ],
      "text/plain": [
       "| 560       | 49.624315    | 0.927653          | 0.878560            | 0.207390          | 0.280200            |"
      ]
     },
     "metadata": {},
     "output_type": "display_data"
    },
    {
     "data": {
      "text/html": [
       "<pre>| 570       | 50.463979    | 0.928311          | 0.879160            | 0.206213          | 0.279785            |</pre>"
      ],
      "text/plain": [
       "| 570       | 50.463979    | 0.928311          | 0.879160            | 0.206213          | 0.279785            |"
      ]
     },
     "metadata": {},
     "output_type": "display_data"
    },
    {
     "data": {
      "text/html": [
       "<pre>| 580       | 51.231748    | 0.928983          | 0.879651            | 0.204988          | 0.279196            |</pre>"
      ],
      "text/plain": [
       "| 580       | 51.231748    | 0.928983          | 0.879651            | 0.204988          | 0.279196            |"
      ]
     },
     "metadata": {},
     "output_type": "display_data"
    },
    {
     "data": {
      "text/html": [
       "<pre>| 590       | 52.000706    | 0.929777          | 0.880142            | 0.203847          | 0.278599            |</pre>"
      ],
      "text/plain": [
       "| 590       | 52.000706    | 0.929777          | 0.880142            | 0.203847          | 0.278599            |"
      ]
     },
     "metadata": {},
     "output_type": "display_data"
    },
    {
     "data": {
      "text/html": [
       "<pre>| 600       | 52.823379    | 0.930380          | 0.880196            | 0.202876          | 0.278371            |</pre>"
      ],
      "text/plain": [
       "| 600       | 52.823379    | 0.930380          | 0.880196            | 0.202876          | 0.278371            |"
      ]
     },
     "metadata": {},
     "output_type": "display_data"
    },
    {
     "data": {
      "text/html": [
       "<pre>| 610       | 53.586198    | 0.931162          | 0.880906            | 0.201808          | 0.277811            |</pre>"
      ],
      "text/plain": [
       "| 610       | 53.586198    | 0.931162          | 0.880906            | 0.201808          | 0.277811            |"
      ]
     },
     "metadata": {},
     "output_type": "display_data"
    },
    {
     "data": {
      "text/html": [
       "<pre>| 620       | 54.426931    | 0.931751          | 0.881724            | 0.200426          | 0.276938            |</pre>"
      ],
      "text/plain": [
       "| 620       | 54.426931    | 0.931751          | 0.881724            | 0.200426          | 0.276938            |"
      ]
     },
     "metadata": {},
     "output_type": "display_data"
    },
    {
     "data": {
      "text/html": [
       "<pre>| 630       | 55.328776    | 0.932162          | 0.881997            | 0.199567          | 0.276528            |</pre>"
      ],
      "text/plain": [
       "| 630       | 55.328776    | 0.932162          | 0.881997            | 0.199567          | 0.276528            |"
      ]
     },
     "metadata": {},
     "output_type": "display_data"
    },
    {
     "data": {
      "text/html": [
       "<pre>| 640       | 56.135064    | 0.932450          | 0.882651            | 0.198469          | 0.276111            |</pre>"
      ],
      "text/plain": [
       "| 640       | 56.135064    | 0.932450          | 0.882651            | 0.198469          | 0.276111            |"
      ]
     },
     "metadata": {},
     "output_type": "display_data"
    },
    {
     "data": {
      "text/html": [
       "<pre>| 650       | 56.990090    | 0.933067          | 0.882433            | 0.197481          | 0.275802            |</pre>"
      ],
      "text/plain": [
       "| 650       | 56.990090    | 0.933067          | 0.882433            | 0.197481          | 0.275802            |"
      ]
     },
     "metadata": {},
     "output_type": "display_data"
    },
    {
     "data": {
      "text/html": [
       "<pre>| 660       | 57.765914    | 0.933313          | 0.882488            | 0.196775          | 0.275440            |</pre>"
      ],
      "text/plain": [
       "| 660       | 57.765914    | 0.933313          | 0.882488            | 0.196775          | 0.275440            |"
      ]
     },
     "metadata": {},
     "output_type": "display_data"
    },
    {
     "data": {
      "text/html": [
       "<pre>| 670       | 58.555365    | 0.933971          | 0.882597            | 0.195970          | 0.275089            |</pre>"
      ],
      "text/plain": [
       "| 670       | 58.555365    | 0.933971          | 0.882597            | 0.195970          | 0.275089            |"
      ]
     },
     "metadata": {},
     "output_type": "display_data"
    },
    {
     "data": {
      "text/html": [
       "<pre>| 680       | 59.416690    | 0.934944          | 0.883033            | 0.193993          | 0.274227            |</pre>"
      ],
      "text/plain": [
       "| 680       | 59.416690    | 0.934944          | 0.883033            | 0.193993          | 0.274227            |"
      ]
     },
     "metadata": {},
     "output_type": "display_data"
    },
    {
     "data": {
      "text/html": [
       "<pre>| 690       | 60.226998    | 0.935163          | 0.882979            | 0.193242          | 0.273865            |</pre>"
      ],
      "text/plain": [
       "| 690       | 60.226998    | 0.935163          | 0.882979            | 0.193242          | 0.273865            |"
      ]
     },
     "metadata": {},
     "output_type": "display_data"
    },
    {
     "data": {
      "text/html": [
       "<pre>| 700       | 61.039008    | 0.935410          | 0.883361            | 0.192377          | 0.273501            |</pre>"
      ],
      "text/plain": [
       "| 700       | 61.039008    | 0.935410          | 0.883361            | 0.192377          | 0.273501            |"
      ]
     },
     "metadata": {},
     "output_type": "display_data"
    },
    {
     "data": {
      "text/html": [
       "<pre>| 710       | 61.824777    | 0.935849          | 0.883688            | 0.191713          | 0.273257            |</pre>"
      ],
      "text/plain": [
       "| 710       | 61.824777    | 0.935849          | 0.883688            | 0.191713          | 0.273257            |"
      ]
     },
     "metadata": {},
     "output_type": "display_data"
    },
    {
     "data": {
      "text/html": [
       "<pre>| 720       | 62.604303    | 0.936424          | 0.884015            | 0.190882          | 0.273007            |</pre>"
      ],
      "text/plain": [
       "| 720       | 62.604303    | 0.936424          | 0.884015            | 0.190882          | 0.273007            |"
      ]
     },
     "metadata": {},
     "output_type": "display_data"
    },
    {
     "data": {
      "text/html": [
       "<pre>| 730       | 63.407536    | 0.936849          | 0.883797            | 0.189762          | 0.272552            |</pre>"
      ],
      "text/plain": [
       "| 730       | 63.407536    | 0.936849          | 0.883797            | 0.189762          | 0.272552            |"
      ]
     },
     "metadata": {},
     "output_type": "display_data"
    },
    {
     "data": {
      "text/html": [
       "<pre>| 740       | 64.282567    | 0.937151          | 0.883743            | 0.188872          | 0.272024            |</pre>"
      ],
      "text/plain": [
       "| 740       | 64.282567    | 0.937151          | 0.883743            | 0.188872          | 0.272024            |"
      ]
     },
     "metadata": {},
     "output_type": "display_data"
    },
    {
     "data": {
      "text/html": [
       "<pre>| 750       | 65.062693    | 0.937411          | 0.883852            | 0.188229          | 0.271807            |</pre>"
      ],
      "text/plain": [
       "| 750       | 65.062693    | 0.937411          | 0.883852            | 0.188229          | 0.271807            |"
      ]
     },
     "metadata": {},
     "output_type": "display_data"
    },
    {
     "data": {
      "text/html": [
       "<pre>| 760       | 65.843934    | 0.937863          | 0.883961            | 0.187451          | 0.271553            |</pre>"
      ],
      "text/plain": [
       "| 760       | 65.843934    | 0.937863          | 0.883961            | 0.187451          | 0.271553            |"
      ]
     },
     "metadata": {},
     "output_type": "display_data"
    },
    {
     "data": {
      "text/html": [
       "<pre>| 770       | 66.607609    | 0.938261          | 0.883579            | 0.186693          | 0.271114            |</pre>"
      ],
      "text/plain": [
       "| 770       | 66.607609    | 0.938261          | 0.883579            | 0.186693          | 0.271114            |"
      ]
     },
     "metadata": {},
     "output_type": "display_data"
    },
    {
     "data": {
      "text/html": [
       "<pre>| 780       | 67.399503    | 0.938672          | 0.883197            | 0.185959          | 0.270915            |</pre>"
      ],
      "text/plain": [
       "| 780       | 67.399503    | 0.938672          | 0.883197            | 0.185959          | 0.270915            |"
      ]
     },
     "metadata": {},
     "output_type": "display_data"
    },
    {
     "data": {
      "text/html": [
       "<pre>| 790       | 68.197359    | 0.939138          | 0.883470            | 0.185041          | 0.270598            |</pre>"
      ],
      "text/plain": [
       "| 790       | 68.197359    | 0.939138          | 0.883470            | 0.185041          | 0.270598            |"
      ]
     },
     "metadata": {},
     "output_type": "display_data"
    },
    {
     "data": {
      "text/html": [
       "<pre>| 800       | 68.989293    | 0.939617          | 0.883961            | 0.184135          | 0.270304            |</pre>"
      ],
      "text/plain": [
       "| 800       | 68.989293    | 0.939617          | 0.883961            | 0.184135          | 0.270304            |"
      ]
     },
     "metadata": {},
     "output_type": "display_data"
    },
    {
     "data": {
      "text/html": [
       "<pre>| 810       | 69.793392    | 0.939946          | 0.883906            | 0.183614          | 0.269959            |</pre>"
      ],
      "text/plain": [
       "| 810       | 69.793392    | 0.939946          | 0.883906            | 0.183614          | 0.269959            |"
      ]
     },
     "metadata": {},
     "output_type": "display_data"
    },
    {
     "data": {
      "text/html": [
       "<pre>| 820       | 70.575959    | 0.940220          | 0.884124            | 0.182922          | 0.269655            |</pre>"
      ],
      "text/plain": [
       "| 820       | 70.575959    | 0.940220          | 0.884124            | 0.182922          | 0.269655            |"
      ]
     },
     "metadata": {},
     "output_type": "display_data"
    },
    {
     "data": {
      "text/html": [
       "<pre>| 830       | 71.354946    | 0.940563          | 0.883906            | 0.182262          | 0.269280            |</pre>"
      ],
      "text/plain": [
       "| 830       | 71.354946    | 0.940563          | 0.883906            | 0.182262          | 0.269280            |"
      ]
     },
     "metadata": {},
     "output_type": "display_data"
    },
    {
     "data": {
      "text/html": [
       "<pre>| 840       | 72.191936    | 0.940823          | 0.883961            | 0.181516          | 0.269127            |</pre>"
      ],
      "text/plain": [
       "| 840       | 72.191936    | 0.940823          | 0.883961            | 0.181516          | 0.269127            |"
      ]
     },
     "metadata": {},
     "output_type": "display_data"
    },
    {
     "data": {
      "text/html": [
       "<pre>| 850       | 72.957978    | 0.941097          | 0.884343            | 0.180856          | 0.268845            |</pre>"
      ],
      "text/plain": [
       "| 850       | 72.957978    | 0.941097          | 0.884343            | 0.180856          | 0.268845            |"
      ]
     },
     "metadata": {},
     "output_type": "display_data"
    },
    {
     "data": {
      "text/html": [
       "<pre>| 860       | 73.733608    | 0.941440          | 0.883743            | 0.180193          | 0.268590            |</pre>"
      ],
      "text/plain": [
       "| 860       | 73.733608    | 0.941440          | 0.883743            | 0.180193          | 0.268590            |"
      ]
     },
     "metadata": {},
     "output_type": "display_data"
    },
    {
     "data": {
      "text/html": [
       "<pre>| 870       | 74.534127    | 0.941920          | 0.883961            | 0.179485          | 0.268150            |</pre>"
      ],
      "text/plain": [
       "| 870       | 74.534127    | 0.941920          | 0.883961            | 0.179485          | 0.268150            |"
      ]
     },
     "metadata": {},
     "output_type": "display_data"
    },
    {
     "data": {
      "text/html": [
       "<pre>| 880       | 75.315306    | 0.942345          | 0.884779            | 0.178875          | 0.267753            |</pre>"
      ],
      "text/plain": [
       "| 880       | 75.315306    | 0.942345          | 0.884779            | 0.178875          | 0.267753            |"
      ]
     },
     "metadata": {},
     "output_type": "display_data"
    },
    {
     "data": {
      "text/html": [
       "<pre>| 890       | 76.101867    | 0.942591          | 0.884452            | 0.178194          | 0.267547            |</pre>"
      ],
      "text/plain": [
       "| 890       | 76.101867    | 0.942591          | 0.884452            | 0.178194          | 0.267547            |"
      ]
     },
     "metadata": {},
     "output_type": "display_data"
    },
    {
     "data": {
      "text/html": [
       "<pre>| 900       | 76.882270    | 0.942865          | 0.885106            | 0.177560          | 0.267101            |</pre>"
      ],
      "text/plain": [
       "| 900       | 76.882270    | 0.942865          | 0.885106            | 0.177560          | 0.267101            |"
      ]
     },
     "metadata": {},
     "output_type": "display_data"
    },
    {
     "data": {
      "text/html": [
       "<pre>| 910       | 77.674229    | 0.943331          | 0.885216            | 0.176752          | 0.266732            |</pre>"
      ],
      "text/plain": [
       "| 910       | 77.674229    | 0.943331          | 0.885216            | 0.176752          | 0.266732            |"
      ]
     },
     "metadata": {},
     "output_type": "display_data"
    },
    {
     "data": {
      "text/html": [
       "<pre>| 920       | 78.494480    | 0.943784          | 0.885161            | 0.176067          | 0.266598            |</pre>"
      ],
      "text/plain": [
       "| 920       | 78.494480    | 0.943784          | 0.885161            | 0.176067          | 0.266598            |"
      ]
     },
     "metadata": {},
     "output_type": "display_data"
    },
    {
     "data": {
      "text/html": [
       "<pre>| 930       | 79.259972    | 0.944140          | 0.885488            | 0.175449          | 0.266351            |</pre>"
      ],
      "text/plain": [
       "| 930       | 79.259972    | 0.944140          | 0.885488            | 0.175449          | 0.266351            |"
      ]
     },
     "metadata": {},
     "output_type": "display_data"
    },
    {
     "data": {
      "text/html": [
       "<pre>| 940       | 80.065875    | 0.944359          | 0.885597            | 0.174958          | 0.266104            |</pre>"
      ],
      "text/plain": [
       "| 940       | 80.065875    | 0.944359          | 0.885597            | 0.174958          | 0.266104            |"
      ]
     },
     "metadata": {},
     "output_type": "display_data"
    },
    {
     "data": {
      "text/html": [
       "<pre>| 950       | 80.847223    | 0.944647          | 0.885543            | 0.174395          | 0.265953            |</pre>"
      ],
      "text/plain": [
       "| 950       | 80.847223    | 0.944647          | 0.885543            | 0.174395          | 0.265953            |"
      ]
     },
     "metadata": {},
     "output_type": "display_data"
    },
    {
     "data": {
      "text/html": [
       "<pre>| 960       | 81.608846    | 0.944866          | 0.885761            | 0.173829          | 0.265750            |</pre>"
      ],
      "text/plain": [
       "| 960       | 81.608846    | 0.944866          | 0.885761            | 0.173829          | 0.265750            |"
      ]
     },
     "metadata": {},
     "output_type": "display_data"
    },
    {
     "data": {
      "text/html": [
       "<pre>| 970       | 82.394537    | 0.945319          | 0.885488            | 0.173230          | 0.265471            |</pre>"
      ],
      "text/plain": [
       "| 970       | 82.394537    | 0.945319          | 0.885488            | 0.173230          | 0.265471            |"
      ]
     },
     "metadata": {},
     "output_type": "display_data"
    },
    {
     "data": {
      "text/html": [
       "<pre>| 980       | 83.186559    | 0.945757          | 0.886088            | 0.172526          | 0.265286            |</pre>"
      ],
      "text/plain": [
       "| 980       | 83.186559    | 0.945757          | 0.886088            | 0.172526          | 0.265286            |"
      ]
     },
     "metadata": {},
     "output_type": "display_data"
    },
    {
     "data": {
      "text/html": [
       "<pre>| 990       | 83.979583    | 0.945921          | 0.886634            | 0.171710          | 0.264962            |</pre>"
      ],
      "text/plain": [
       "| 990       | 83.979583    | 0.945921          | 0.886634            | 0.171710          | 0.264962            |"
      ]
     },
     "metadata": {},
     "output_type": "display_data"
    },
    {
     "data": {
      "text/html": [
       "<pre>| 1000      | 84.785102    | 0.946168          | 0.886634            | 0.171099          | 0.264805            |</pre>"
      ],
      "text/plain": [
       "| 1000      | 84.785102    | 0.946168          | 0.886634            | 0.171099          | 0.264805            |"
      ]
     },
     "metadata": {},
     "output_type": "display_data"
    },
    {
     "data": {
      "text/html": [
       "<pre>| 1001      | 84.864518    | 0.946196          | 0.886579            | 0.171034          | 0.264801            |</pre>"
      ],
      "text/plain": [
       "| 1001      | 84.864518    | 0.946196          | 0.886579            | 0.171034          | 0.264801            |"
      ]
     },
     "metadata": {},
     "output_type": "display_data"
    },
    {
     "data": {
      "text/html": [
       "<pre>| 1010      | 85.569173    | 0.946346          | 0.886143            | 0.170555          | 0.264685            |</pre>"
      ],
      "text/plain": [
       "| 1010      | 85.569173    | 0.946346          | 0.886143            | 0.170555          | 0.264685            |"
      ]
     },
     "metadata": {},
     "output_type": "display_data"
    },
    {
     "data": {
      "text/html": [
       "<pre>| 1020      | 86.358819    | 0.946771          | 0.886198            | 0.170038          | 0.264532            |</pre>"
      ],
      "text/plain": [
       "| 1020      | 86.358819    | 0.946771          | 0.886198            | 0.170038          | 0.264532            |"
      ]
     },
     "metadata": {},
     "output_type": "display_data"
    },
    {
     "data": {
      "text/html": [
       "<pre>| 1030      | 87.135095    | 0.946908          | 0.886470            | 0.169624          | 0.264515            |</pre>"
      ],
      "text/plain": [
       "| 1030      | 87.135095    | 0.946908          | 0.886470            | 0.169624          | 0.264515            |"
      ]
     },
     "metadata": {},
     "output_type": "display_data"
    },
    {
     "data": {
      "text/html": [
       "<pre>| 1040      | 87.940038    | 0.947196          | 0.886852            | 0.169044          | 0.264322            |</pre>"
      ],
      "text/plain": [
       "| 1040      | 87.940038    | 0.947196          | 0.886852            | 0.169044          | 0.264322            |"
      ]
     },
     "metadata": {},
     "output_type": "display_data"
    },
    {
     "data": {
      "text/html": [
       "<pre>| 1050      | 88.748779    | 0.947347          | 0.886961            | 0.168591          | 0.264119            |</pre>"
      ],
      "text/plain": [
       "| 1050      | 88.748779    | 0.947347          | 0.886961            | 0.168591          | 0.264119            |"
      ]
     },
     "metadata": {},
     "output_type": "display_data"
    },
    {
     "data": {
      "text/html": [
       "<pre>| 1060      | 89.526437    | 0.947566          | 0.886579            | 0.167986          | 0.263765            |</pre>"
      ],
      "text/plain": [
       "| 1060      | 89.526437    | 0.947566          | 0.886579            | 0.167986          | 0.263765            |"
      ]
     },
     "metadata": {},
     "output_type": "display_data"
    },
    {
     "data": {
      "text/html": [
       "<pre>| 1070      | 90.307889    | 0.948073          | 0.887070            | 0.166901          | 0.263451            |</pre>"
      ],
      "text/plain": [
       "| 1070      | 90.307889    | 0.948073          | 0.887070            | 0.166901          | 0.263451            |"
      ]
     },
     "metadata": {},
     "output_type": "display_data"
    },
    {
     "data": {
      "text/html": [
       "<pre>| 1080      | 91.111378    | 0.948621          | 0.887179            | 0.166357          | 0.263467            |</pre>"
      ],
      "text/plain": [
       "| 1080      | 91.111378    | 0.948621          | 0.887179            | 0.166357          | 0.263467            |"
      ]
     },
     "metadata": {},
     "output_type": "display_data"
    },
    {
     "data": {
      "text/html": [
       "<pre>| 1090      | 91.915577    | 0.948799          | 0.887070            | 0.165557          | 0.263286            |</pre>"
      ],
      "text/plain": [
       "| 1090      | 91.915577    | 0.948799          | 0.887070            | 0.165557          | 0.263286            |"
      ]
     },
     "metadata": {},
     "output_type": "display_data"
    },
    {
     "data": {
      "text/html": [
       "<pre>| 1100      | 92.698975    | 0.948978          | 0.887070            | 0.165123          | 0.263111            |</pre>"
      ],
      "text/plain": [
       "| 1100      | 92.698975    | 0.948978          | 0.887070            | 0.165123          | 0.263111            |"
      ]
     },
     "metadata": {},
     "output_type": "display_data"
    },
    {
     "data": {
      "text/html": [
       "<pre>| 1110      | 93.480720    | 0.949457          | 0.886961            | 0.164516          | 0.262872            |</pre>"
      ],
      "text/plain": [
       "| 1110      | 93.480720    | 0.949457          | 0.886961            | 0.164516          | 0.262872            |"
      ]
     },
     "metadata": {},
     "output_type": "display_data"
    },
    {
     "data": {
      "text/html": [
       "<pre>| 1120      | 94.259082    | 0.949704          | 0.887179            | 0.163971          | 0.262623            |</pre>"
      ],
      "text/plain": [
       "| 1120      | 94.259082    | 0.949704          | 0.887179            | 0.163971          | 0.262623            |"
      ]
     },
     "metadata": {},
     "output_type": "display_data"
    },
    {
     "data": {
      "text/html": [
       "<pre>| 1130      | 95.034705    | 0.949882          | 0.887452            | 0.163557          | 0.262595            |</pre>"
      ],
      "text/plain": [
       "| 1130      | 95.034705    | 0.949882          | 0.887452            | 0.163557          | 0.262595            |"
      ]
     },
     "metadata": {},
     "output_type": "display_data"
    },
    {
     "data": {
      "text/html": [
       "<pre>| 1140      | 95.797956    | 0.950101          | 0.887834            | 0.163095          | 0.262423            |</pre>"
      ],
      "text/plain": [
       "| 1140      | 95.797956    | 0.950101          | 0.887834            | 0.163095          | 0.262423            |"
      ]
     },
     "metadata": {},
     "output_type": "display_data"
    },
    {
     "data": {
      "text/html": [
       "<pre>| 1150      | 96.545077    | 0.950540          | 0.887834            | 0.162579          | 0.262303            |</pre>"
      ],
      "text/plain": [
       "| 1150      | 96.545077    | 0.950540          | 0.887834            | 0.162579          | 0.262303            |"
      ]
     },
     "metadata": {},
     "output_type": "display_data"
    },
    {
     "data": {
      "text/html": [
       "<pre>| 1160      | 97.289817    | 0.950704          | 0.887616            | 0.162182          | 0.262148            |</pre>"
      ],
      "text/plain": [
       "| 1160      | 97.289817    | 0.950704          | 0.887616            | 0.162182          | 0.262148            |"
      ]
     },
     "metadata": {},
     "output_type": "display_data"
    },
    {
     "data": {
      "text/html": [
       "<pre>| 1170      | 98.074244    | 0.951157          | 0.887507            | 0.161606          | 0.261890            |</pre>"
      ],
      "text/plain": [
       "| 1170      | 98.074244    | 0.951157          | 0.887507            | 0.161606          | 0.261890            |"
      ]
     },
     "metadata": {},
     "output_type": "display_data"
    },
    {
     "data": {
      "text/html": [
       "<pre>| 1180      | 98.859084    | 0.951349          | 0.887507            | 0.161206          | 0.261775            |</pre>"
      ],
      "text/plain": [
       "| 1180      | 98.859084    | 0.951349          | 0.887507            | 0.161206          | 0.261775            |"
      ]
     },
     "metadata": {},
     "output_type": "display_data"
    },
    {
     "data": {
      "text/html": [
       "<pre>| 1190      | 99.646150    | 0.951568          | 0.887616            | 0.160831          | 0.261680            |</pre>"
      ],
      "text/plain": [
       "| 1190      | 99.646150    | 0.951568          | 0.887616            | 0.160831          | 0.261680            |"
      ]
     },
     "metadata": {},
     "output_type": "display_data"
    },
    {
     "data": {
      "text/html": [
       "<pre>| 1200      | 100.437862   | 0.951677          | 0.887507            | 0.160449          | 0.261476            |</pre>"
      ],
      "text/plain": [
       "| 1200      | 100.437862   | 0.951677          | 0.887507            | 0.160449          | 0.261476            |"
      ]
     },
     "metadata": {},
     "output_type": "display_data"
    },
    {
     "data": {
      "text/html": [
       "<pre>| 1210      | 101.234023   | 0.951938          | 0.887725            | 0.159722          | 0.261301            |</pre>"
      ],
      "text/plain": [
       "| 1210      | 101.234023   | 0.951938          | 0.887725            | 0.159722          | 0.261301            |"
      ]
     },
     "metadata": {},
     "output_type": "display_data"
    },
    {
     "data": {
      "text/html": [
       "<pre>| 1220      | 102.018834   | 0.952349          | 0.888543            | 0.158914          | 0.260912            |</pre>"
      ],
      "text/plain": [
       "| 1220      | 102.018834   | 0.952349          | 0.888543            | 0.158914          | 0.260912            |"
      ]
     },
     "metadata": {},
     "output_type": "display_data"
    },
    {
     "data": {
      "text/html": [
       "<pre>| 1230      | 102.814156   | 0.952541          | 0.888325            | 0.158347          | 0.260841            |</pre>"
      ],
      "text/plain": [
       "| 1230      | 102.814156   | 0.952541          | 0.888325            | 0.158347          | 0.260841            |"
      ]
     },
     "metadata": {},
     "output_type": "display_data"
    },
    {
     "data": {
      "text/html": [
       "<pre>| 1240      | 103.619336   | 0.952513          | 0.887998            | 0.157467          | 0.260602            |</pre>"
      ],
      "text/plain": [
       "| 1240      | 103.619336   | 0.952513          | 0.887998            | 0.157467          | 0.260602            |"
      ]
     },
     "metadata": {},
     "output_type": "display_data"
    },
    {
     "data": {
      "text/html": [
       "<pre>| 1250      | 104.406864   | 0.952746          | 0.887889            | 0.156973          | 0.260547            |</pre>"
      ],
      "text/plain": [
       "| 1250      | 104.406864   | 0.952746          | 0.887889            | 0.156973          | 0.260547            |"
      ]
     },
     "metadata": {},
     "output_type": "display_data"
    },
    {
     "data": {
      "text/html": [
       "<pre>| 1260      | 105.189119   | 0.953103          | 0.887834            | 0.156432          | 0.260369            |</pre>"
      ],
      "text/plain": [
       "| 1260      | 105.189119   | 0.953103          | 0.887834            | 0.156432          | 0.260369            |"
      ]
     },
     "metadata": {},
     "output_type": "display_data"
    },
    {
     "data": {
      "text/html": [
       "<pre>| 1270      | 105.968757   | 0.953158          | 0.888871            | 0.155861          | 0.260231            |</pre>"
      ],
      "text/plain": [
       "| 1270      | 105.968757   | 0.953158          | 0.888871            | 0.155861          | 0.260231            |"
      ]
     },
     "metadata": {},
     "output_type": "display_data"
    },
    {
     "data": {
      "text/html": [
       "<pre>| 1280      | 106.762039   | 0.953624          | 0.888434            | 0.155292          | 0.260067            |</pre>"
      ],
      "text/plain": [
       "| 1280      | 106.762039   | 0.953624          | 0.888434            | 0.155292          | 0.260067            |"
      ]
     },
     "metadata": {},
     "output_type": "display_data"
    },
    {
     "data": {
      "text/html": [
       "<pre>| 1290      | 107.543019   | 0.953815          | 0.888325            | 0.154881          | 0.259856            |</pre>"
      ],
      "text/plain": [
       "| 1290      | 107.543019   | 0.953815          | 0.888325            | 0.154881          | 0.259856            |"
      ]
     },
     "metadata": {},
     "output_type": "display_data"
    },
    {
     "data": {
      "text/html": [
       "<pre>| 1300      | 108.534505   | 0.954089          | 0.888434            | 0.154344          | 0.259662            |</pre>"
      ],
      "text/plain": [
       "| 1300      | 108.534505   | 0.954089          | 0.888434            | 0.154344          | 0.259662            |"
      ]
     },
     "metadata": {},
     "output_type": "display_data"
    },
    {
     "data": {
      "text/html": [
       "<pre>| 1310      | 109.468980   | 0.954350          | 0.888434            | 0.153879          | 0.259617            |</pre>"
      ],
      "text/plain": [
       "| 1310      | 109.468980   | 0.954350          | 0.888434            | 0.153879          | 0.259617            |"
      ]
     },
     "metadata": {},
     "output_type": "display_data"
    },
    {
     "data": {
      "text/html": [
       "<pre>| 1320      | 110.263929   | 0.954459          | 0.888653            | 0.153514          | 0.259368            |</pre>"
      ],
      "text/plain": [
       "| 1320      | 110.263929   | 0.954459          | 0.888653            | 0.153514          | 0.259368            |"
      ]
     },
     "metadata": {},
     "output_type": "display_data"
    },
    {
     "data": {
      "text/html": [
       "<pre>| 1330      | 111.132210   | 0.954542          | 0.888707            | 0.153191          | 0.259297            |</pre>"
      ],
      "text/plain": [
       "| 1330      | 111.132210   | 0.954542          | 0.888707            | 0.153191          | 0.259297            |"
      ]
     },
     "metadata": {},
     "output_type": "display_data"
    },
    {
     "data": {
      "text/html": [
       "<pre>| 1340      | 111.919238   | 0.954747          | 0.889143            | 0.152782          | 0.259075            |</pre>"
      ],
      "text/plain": [
       "| 1340      | 111.919238   | 0.954747          | 0.889143            | 0.152782          | 0.259075            |"
      ]
     },
     "metadata": {},
     "output_type": "display_data"
    },
    {
     "data": {
      "text/html": [
       "<pre>| 1350      | 112.683434   | 0.955076          | 0.889416            | 0.152495          | 0.259000            |</pre>"
      ],
      "text/plain": [
       "| 1350      | 112.683434   | 0.955076          | 0.889416            | 0.152495          | 0.259000            |"
      ]
     },
     "metadata": {},
     "output_type": "display_data"
    },
    {
     "data": {
      "text/html": [
       "<pre>| 1360      | 113.726725   | 0.955391          | 0.889471            | 0.152117          | 0.258866            |</pre>"
      ],
      "text/plain": [
       "| 1360      | 113.726725   | 0.955391          | 0.889471            | 0.152117          | 0.258866            |"
      ]
     },
     "metadata": {},
     "output_type": "display_data"
    },
    {
     "data": {
      "text/html": [
       "<pre>| 1370      | 114.588507   | 0.955748          | 0.889634            | 0.151558          | 0.258715            |</pre>"
      ],
      "text/plain": [
       "| 1370      | 114.588507   | 0.955748          | 0.889634            | 0.151558          | 0.258715            |"
      ]
     },
     "metadata": {},
     "output_type": "display_data"
    },
    {
     "data": {
      "text/html": [
       "<pre>| 1380      | 115.378540   | 0.955967          | 0.890016            | 0.151167          | 0.258616            |</pre>"
      ],
      "text/plain": [
       "| 1380      | 115.378540   | 0.955967          | 0.890016            | 0.151167          | 0.258616            |"
      ]
     },
     "metadata": {},
     "output_type": "display_data"
    },
    {
     "data": {
      "text/html": [
       "<pre>| 1390      | 116.205903   | 0.956214          | 0.889962            | 0.150624          | 0.258374            |</pre>"
      ],
      "text/plain": [
       "| 1390      | 116.205903   | 0.956214          | 0.889962            | 0.150624          | 0.258374            |"
      ]
     },
     "metadata": {},
     "output_type": "display_data"
    },
    {
     "data": {
      "text/html": [
       "<pre>| 1400      | 116.976110   | 0.956419          | 0.889907            | 0.150268          | 0.258299            |</pre>"
      ],
      "text/plain": [
       "| 1400      | 116.976110   | 0.956419          | 0.889907            | 0.150268          | 0.258299            |"
      ]
     },
     "metadata": {},
     "output_type": "display_data"
    },
    {
     "data": {
      "text/html": [
       "<pre>| 1410      | 117.788853   | 0.956734          | 0.890071            | 0.149916          | 0.258093            |</pre>"
      ],
      "text/plain": [
       "| 1410      | 117.788853   | 0.956734          | 0.890071            | 0.149916          | 0.258093            |"
      ]
     },
     "metadata": {},
     "output_type": "display_data"
    },
    {
     "data": {
      "text/html": [
       "<pre>| 1420      | 118.587955   | 0.956995          | 0.890289            | 0.149577          | 0.257845            |</pre>"
      ],
      "text/plain": [
       "| 1420      | 118.587955   | 0.956995          | 0.890289            | 0.149577          | 0.257845            |"
      ]
     },
     "metadata": {},
     "output_type": "display_data"
    },
    {
     "data": {
      "text/html": [
       "<pre>| 1430      | 119.389472   | 0.957146          | 0.890071            | 0.149171          | 0.257821            |</pre>"
      ],
      "text/plain": [
       "| 1430      | 119.389472   | 0.957146          | 0.890071            | 0.149171          | 0.257821            |"
      ]
     },
     "metadata": {},
     "output_type": "display_data"
    },
    {
     "data": {
      "text/html": [
       "<pre>| 1440      | 120.207265   | 0.957365          | 0.890235            | 0.148645          | 0.257845            |</pre>"
      ],
      "text/plain": [
       "| 1440      | 120.207265   | 0.957365          | 0.890235            | 0.148645          | 0.257845            |"
      ]
     },
     "metadata": {},
     "output_type": "display_data"
    },
    {
     "data": {
      "text/html": [
       "<pre>| 1450      | 120.990053   | 0.957653          | 0.890180            | 0.148212          | 0.257730            |</pre>"
      ],
      "text/plain": [
       "| 1450      | 120.990053   | 0.957653          | 0.890180            | 0.148212          | 0.257730            |"
      ]
     },
     "metadata": {},
     "output_type": "display_data"
    },
    {
     "data": {
      "text/html": [
       "<pre>| 1460      | 121.778306   | 0.957831          | 0.890180            | 0.147827          | 0.257859            |</pre>"
      ],
      "text/plain": [
       "| 1460      | 121.778306   | 0.957831          | 0.890180            | 0.147827          | 0.257859            |"
      ]
     },
     "metadata": {},
     "output_type": "display_data"
    },
    {
     "data": {
      "text/html": [
       "<pre>| 1470      | 122.581442   | 0.957954          | 0.889962            | 0.147483          | 0.257755            |</pre>"
      ],
      "text/plain": [
       "| 1470      | 122.581442   | 0.957954          | 0.889962            | 0.147483          | 0.257755            |"
      ]
     },
     "metadata": {},
     "output_type": "display_data"
    },
    {
     "data": {
      "text/html": [
       "<pre>| 1480      | 123.348183   | 0.958256          | 0.890071            | 0.147054          | 0.257661            |</pre>"
      ],
      "text/plain": [
       "| 1480      | 123.348183   | 0.958256          | 0.890071            | 0.147054          | 0.257661            |"
      ]
     },
     "metadata": {},
     "output_type": "display_data"
    },
    {
     "data": {
      "text/html": [
       "<pre>| 1490      | 124.125510   | 0.958393          | 0.890071            | 0.146729          | 0.257595            |</pre>"
      ],
      "text/plain": [
       "| 1490      | 124.125510   | 0.958393          | 0.890071            | 0.146729          | 0.257595            |"
      ]
     },
     "metadata": {},
     "output_type": "display_data"
    },
    {
     "data": {
      "text/html": [
       "<pre>| 1500      | 124.926387   | 0.958543          | 0.890071            | 0.146429          | 0.257492            |</pre>"
      ],
      "text/plain": [
       "| 1500      | 124.926387   | 0.958543          | 0.890071            | 0.146429          | 0.257492            |"
      ]
     },
     "metadata": {},
     "output_type": "display_data"
    },
    {
     "data": {
      "text/html": [
       "<pre>| 1510      | 125.730636   | 0.958776          | 0.890016            | 0.146003          | 0.257413            |</pre>"
      ],
      "text/plain": [
       "| 1510      | 125.730636   | 0.958776          | 0.890016            | 0.146003          | 0.257413            |"
      ]
     },
     "metadata": {},
     "output_type": "display_data"
    },
    {
     "data": {
      "text/html": [
       "<pre>| 1520      | 126.521950   | 0.958996          | 0.889853            | 0.145644          | 0.257445            |</pre>"
      ],
      "text/plain": [
       "| 1520      | 126.521950   | 0.958996          | 0.889853            | 0.145644          | 0.257445            |"
      ]
     },
     "metadata": {},
     "output_type": "display_data"
    },
    {
     "data": {
      "text/html": [
       "<pre>| 1530      | 127.529445   | 0.959146          | 0.890016            | 0.145321          | 0.257304            |</pre>"
      ],
      "text/plain": [
       "| 1530      | 127.529445   | 0.959146          | 0.890016            | 0.145321          | 0.257304            |"
      ]
     },
     "metadata": {},
     "output_type": "display_data"
    },
    {
     "data": {
      "text/html": [
       "<pre>| 1540      | 128.534554   | 0.959242          | 0.890016            | 0.144968          | 0.257143            |</pre>"
      ],
      "text/plain": [
       "| 1540      | 128.534554   | 0.959242          | 0.890016            | 0.144968          | 0.257143            |"
      ]
     },
     "metadata": {},
     "output_type": "display_data"
    },
    {
     "data": {
      "text/html": [
       "<pre>| 1550      | 129.369715   | 0.959325          | 0.890180            | 0.144741          | 0.257116            |</pre>"
      ],
      "text/plain": [
       "| 1550      | 129.369715   | 0.959325          | 0.890180            | 0.144741          | 0.257116            |"
      ]
     },
     "metadata": {},
     "output_type": "display_data"
    },
    {
     "data": {
      "text/html": [
       "<pre>| 1560      | 130.164471   | 0.959640          | 0.890453            | 0.144270          | 0.257048            |</pre>"
      ],
      "text/plain": [
       "| 1560      | 130.164471   | 0.959640          | 0.890453            | 0.144270          | 0.257048            |"
      ]
     },
     "metadata": {},
     "output_type": "display_data"
    },
    {
     "data": {
      "text/html": [
       "<pre>| 1570      | 130.957544   | 0.959887          | 0.890180            | 0.143931          | 0.256948            |</pre>"
      ],
      "text/plain": [
       "| 1570      | 130.957544   | 0.959887          | 0.890180            | 0.143931          | 0.256948            |"
      ]
     },
     "metadata": {},
     "output_type": "display_data"
    },
    {
     "data": {
      "text/html": [
       "<pre>| 1580      | 131.782964   | 0.960037          | 0.889853            | 0.143680          | 0.256831            |</pre>"
      ],
      "text/plain": [
       "| 1580      | 131.782964   | 0.960037          | 0.889853            | 0.143680          | 0.256831            |"
      ]
     },
     "metadata": {},
     "output_type": "display_data"
    },
    {
     "data": {
      "text/html": [
       "<pre>| 1590      | 132.577748   | 0.960257          | 0.889853            | 0.143378          | 0.256704            |</pre>"
      ],
      "text/plain": [
       "| 1590      | 132.577748   | 0.960257          | 0.889853            | 0.143378          | 0.256704            |"
      ]
     },
     "metadata": {},
     "output_type": "display_data"
    },
    {
     "data": {
      "text/html": [
       "<pre>| 1600      | 133.365771   | 0.960407          | 0.890235            | 0.143070          | 0.256471            |</pre>"
      ],
      "text/plain": [
       "| 1600      | 133.365771   | 0.960407          | 0.890235            | 0.143070          | 0.256471            |"
      ]
     },
     "metadata": {},
     "output_type": "display_data"
    },
    {
     "data": {
      "text/html": [
       "<pre>| 1610      | 134.167085   | 0.960613          | 0.890180            | 0.142667          | 0.256448            |</pre>"
      ],
      "text/plain": [
       "| 1610      | 134.167085   | 0.960613          | 0.890180            | 0.142667          | 0.256448            |"
      ]
     },
     "metadata": {},
     "output_type": "display_data"
    },
    {
     "data": {
      "text/html": [
       "<pre>| 1620      | 134.965725   | 0.960764          | 0.890125            | 0.142386          | 0.256542            |</pre>"
      ],
      "text/plain": [
       "| 1620      | 134.965725   | 0.960764          | 0.890125            | 0.142386          | 0.256542            |"
      ]
     },
     "metadata": {},
     "output_type": "display_data"
    },
    {
     "data": {
      "text/html": [
       "<pre>| 1630      | 135.762873   | 0.960997          | 0.890071            | 0.142017          | 0.256351            |</pre>"
      ],
      "text/plain": [
       "| 1630      | 135.762873   | 0.960997          | 0.890071            | 0.142017          | 0.256351            |"
      ]
     },
     "metadata": {},
     "output_type": "display_data"
    },
    {
     "data": {
      "text/html": [
       "<pre>| 1640      | 136.578450   | 0.961243          | 0.890289            | 0.141511          | 0.256178            |</pre>"
      ],
      "text/plain": [
       "| 1640      | 136.578450   | 0.961243          | 0.890289            | 0.141511          | 0.256178            |"
      ]
     },
     "metadata": {},
     "output_type": "display_data"
    },
    {
     "data": {
      "text/html": [
       "<pre>| 1650      | 137.350237   | 0.961298          | 0.890125            | 0.141049          | 0.256150            |</pre>"
      ],
      "text/plain": [
       "| 1650      | 137.350237   | 0.961298          | 0.890125            | 0.141049          | 0.256150            |"
      ]
     },
     "metadata": {},
     "output_type": "display_data"
    },
    {
     "data": {
      "text/html": [
       "<pre>| 1660      | 138.149217   | 0.961558          | 0.890016            | 0.140744          | 0.256125            |</pre>"
      ],
      "text/plain": [
       "| 1660      | 138.149217   | 0.961558          | 0.890016            | 0.140744          | 0.256125            |"
      ]
     },
     "metadata": {},
     "output_type": "display_data"
    },
    {
     "data": {
      "text/html": [
       "<pre>| 1670      | 138.949684   | 0.961641          | 0.890180            | 0.140437          | 0.256113            |</pre>"
      ],
      "text/plain": [
       "| 1670      | 138.949684   | 0.961641          | 0.890180            | 0.140437          | 0.256113            |"
      ]
     },
     "metadata": {},
     "output_type": "display_data"
    },
    {
     "data": {
      "text/html": [
       "<pre>| 1680      | 139.742010   | 0.961778          | 0.890016            | 0.140176          | 0.256042            |</pre>"
      ],
      "text/plain": [
       "| 1680      | 139.742010   | 0.961778          | 0.890016            | 0.140176          | 0.256042            |"
      ]
     },
     "metadata": {},
     "output_type": "display_data"
    },
    {
     "data": {
      "text/html": [
       "<pre>| 1690      | 140.553291   | 0.961956          | 0.889907            | 0.139750          | 0.255901            |</pre>"
      ],
      "text/plain": [
       "| 1690      | 140.553291   | 0.961956          | 0.889907            | 0.139750          | 0.255901            |"
      ]
     },
     "metadata": {},
     "output_type": "display_data"
    },
    {
     "data": {
      "text/html": [
       "<pre>| 1700      | 141.362272   | 0.962148          | 0.889798            | 0.139301          | 0.255838            |</pre>"
      ],
      "text/plain": [
       "| 1700      | 141.362272   | 0.962148          | 0.889798            | 0.139301          | 0.255838            |"
      ]
     },
     "metadata": {},
     "output_type": "display_data"
    },
    {
     "data": {
      "text/html": [
       "<pre>| 1710      | 142.170765   | 0.962408          | 0.889689            | 0.138725          | 0.255706            |</pre>"
      ],
      "text/plain": [
       "| 1710      | 142.170765   | 0.962408          | 0.889689            | 0.138725          | 0.255706            |"
      ]
     },
     "metadata": {},
     "output_type": "display_data"
    },
    {
     "data": {
      "text/html": [
       "<pre>| 1720      | 142.981702   | 0.962614          | 0.889689            | 0.138419          | 0.255503            |</pre>"
      ],
      "text/plain": [
       "| 1720      | 142.981702   | 0.962614          | 0.889689            | 0.138419          | 0.255503            |"
      ]
     },
     "metadata": {},
     "output_type": "display_data"
    },
    {
     "data": {
      "text/html": [
       "<pre>| 1730      | 143.785925   | 0.962669          | 0.889471            | 0.138117          | 0.255427            |</pre>"
      ],
      "text/plain": [
       "| 1730      | 143.785925   | 0.962669          | 0.889471            | 0.138117          | 0.255427            |"
      ]
     },
     "metadata": {},
     "output_type": "display_data"
    },
    {
     "data": {
      "text/html": [
       "<pre>| 1740      | 144.594253   | 0.962833          | 0.889307            | 0.137752          | 0.255380            |</pre>"
      ],
      "text/plain": [
       "| 1740      | 144.594253   | 0.962833          | 0.889307            | 0.137752          | 0.255380            |"
      ]
     },
     "metadata": {},
     "output_type": "display_data"
    },
    {
     "data": {
      "text/html": [
       "<pre>| 1750      | 145.412313   | 0.962970          | 0.889253            | 0.137405          | 0.255322            |</pre>"
      ],
      "text/plain": [
       "| 1750      | 145.412313   | 0.962970          | 0.889253            | 0.137405          | 0.255322            |"
      ]
     },
     "metadata": {},
     "output_type": "display_data"
    },
    {
     "data": {
      "text/html": [
       "<pre>| 1760      | 146.190212   | 0.963148          | 0.889362            | 0.137075          | 0.255232            |</pre>"
      ],
      "text/plain": [
       "| 1760      | 146.190212   | 0.963148          | 0.889362            | 0.137075          | 0.255232            |"
      ]
     },
     "metadata": {},
     "output_type": "display_data"
    },
    {
     "data": {
      "text/html": [
       "<pre>| 1770      | 146.991741   | 0.963368          | 0.889471            | 0.136640          | 0.255217            |</pre>"
      ],
      "text/plain": [
       "| 1770      | 146.991741   | 0.963368          | 0.889471            | 0.136640          | 0.255217            |"
      ]
     },
     "metadata": {},
     "output_type": "display_data"
    },
    {
     "data": {
      "text/html": [
       "<pre>| 1780      | 147.777216   | 0.963546          | 0.889089            | 0.136379          | 0.255226            |</pre>"
      ],
      "text/plain": [
       "| 1780      | 147.777216   | 0.963546          | 0.889089            | 0.136379          | 0.255226            |"
      ]
     },
     "metadata": {},
     "output_type": "display_data"
    },
    {
     "data": {
      "text/html": [
       "<pre>| 1790      | 148.533704   | 0.963669          | 0.889143            | 0.136149          | 0.255145            |</pre>"
      ],
      "text/plain": [
       "| 1790      | 148.533704   | 0.963669          | 0.889143            | 0.136149          | 0.255145            |"
      ]
     },
     "metadata": {},
     "output_type": "display_data"
    },
    {
     "data": {
      "text/html": [
       "<pre>| 1800      | 149.400707   | 0.963820          | 0.889307            | 0.135899          | 0.255218            |</pre>"
      ],
      "text/plain": [
       "| 1800      | 149.400707   | 0.963820          | 0.889307            | 0.135899          | 0.255218            |"
      ]
     },
     "metadata": {},
     "output_type": "display_data"
    },
    {
     "data": {
      "text/html": [
       "<pre>| 1810      | 150.184675   | 0.963998          | 0.889362            | 0.135695          | 0.255198            |</pre>"
      ],
      "text/plain": [
       "| 1810      | 150.184675   | 0.963998          | 0.889362            | 0.135695          | 0.255198            |"
      ]
     },
     "metadata": {},
     "output_type": "display_data"
    },
    {
     "data": {
      "text/html": [
       "<pre>| 1820      | 151.013841   | 0.964094          | 0.889525            | 0.135334          | 0.255148            |</pre>"
      ],
      "text/plain": [
       "| 1820      | 151.013841   | 0.964094          | 0.889525            | 0.135334          | 0.255148            |"
      ]
     },
     "metadata": {},
     "output_type": "display_data"
    },
    {
     "data": {
      "text/html": [
       "<pre>| 1830      | 151.800130   | 0.964313          | 0.890289            | 0.134745          | 0.254872            |</pre>"
      ],
      "text/plain": [
       "| 1830      | 151.800130   | 0.964313          | 0.890289            | 0.134745          | 0.254872            |"
      ]
     },
     "metadata": {},
     "output_type": "display_data"
    },
    {
     "data": {
      "text/html": [
       "<pre>| 1840      | 152.569153   | 0.964423          | 0.890453            | 0.134515          | 0.254758            |</pre>"
      ],
      "text/plain": [
       "| 1840      | 152.569153   | 0.964423          | 0.890453            | 0.134515          | 0.254758            |"
      ]
     },
     "metadata": {},
     "output_type": "display_data"
    },
    {
     "data": {
      "text/html": [
       "<pre>| 1850      | 153.330244   | 0.964341          | 0.890344            | 0.134238          | 0.254659            |</pre>"
      ],
      "text/plain": [
       "| 1850      | 153.330244   | 0.964341          | 0.890344            | 0.134238          | 0.254659            |"
      ]
     },
     "metadata": {},
     "output_type": "display_data"
    },
    {
     "data": {
      "text/html": [
       "<pre>| 1860      | 154.125499   | 0.964436          | 0.890344            | 0.134014          | 0.254699            |</pre>"
      ],
      "text/plain": [
       "| 1860      | 154.125499   | 0.964436          | 0.890344            | 0.134014          | 0.254699            |"
      ]
     },
     "metadata": {},
     "output_type": "display_data"
    },
    {
     "data": {
      "text/html": [
       "<pre>| 1870      | 154.934848   | 0.964505          | 0.890453            | 0.133701          | 0.254702            |</pre>"
      ],
      "text/plain": [
       "| 1870      | 154.934848   | 0.964505          | 0.890453            | 0.133701          | 0.254702            |"
      ]
     },
     "metadata": {},
     "output_type": "display_data"
    },
    {
     "data": {
      "text/html": [
       "<pre>| 1880      | 155.735169   | 0.964601          | 0.890344            | 0.133350          | 0.254610            |</pre>"
      ],
      "text/plain": [
       "| 1880      | 155.735169   | 0.964601          | 0.890344            | 0.133350          | 0.254610            |"
      ]
     },
     "metadata": {},
     "output_type": "display_data"
    },
    {
     "data": {
      "text/html": [
       "<pre>| 1890      | 156.552289   | 0.964848          | 0.890180            | 0.132946          | 0.254697            |</pre>"
      ],
      "text/plain": [
       "| 1890      | 156.552289   | 0.964848          | 0.890180            | 0.132946          | 0.254697            |"
      ]
     },
     "metadata": {},
     "output_type": "display_data"
    },
    {
     "data": {
      "text/html": [
       "<pre>| 1900      | 157.341441   | 0.965149          | 0.890125            | 0.132567          | 0.254656            |</pre>"
      ],
      "text/plain": [
       "| 1900      | 157.341441   | 0.965149          | 0.890125            | 0.132567          | 0.254656            |"
      ]
     },
     "metadata": {},
     "output_type": "display_data"
    },
    {
     "data": {
      "text/html": [
       "<pre>| 1910      | 158.131577   | 0.965300          | 0.890235            | 0.132280          | 0.254596            |</pre>"
      ],
      "text/plain": [
       "| 1910      | 158.131577   | 0.965300          | 0.890235            | 0.132280          | 0.254596            |"
      ]
     },
     "metadata": {},
     "output_type": "display_data"
    },
    {
     "data": {
      "text/html": [
       "<pre>| 1920      | 158.895820   | 0.965464          | 0.890507            | 0.131994          | 0.254455            |</pre>"
      ],
      "text/plain": [
       "| 1920      | 158.895820   | 0.965464          | 0.890507            | 0.131994          | 0.254455            |"
      ]
     },
     "metadata": {},
     "output_type": "display_data"
    },
    {
     "data": {
      "text/html": [
       "<pre>| 1930      | 159.734385   | 0.965560          | 0.890616            | 0.131684          | 0.254390            |</pre>"
      ],
      "text/plain": [
       "| 1930      | 159.734385   | 0.965560          | 0.890616            | 0.131684          | 0.254390            |"
      ]
     },
     "metadata": {},
     "output_type": "display_data"
    },
    {
     "data": {
      "text/html": [
       "<pre>| 1940      | 160.550732   | 0.965711          | 0.890780            | 0.131447          | 0.254374            |</pre>"
      ],
      "text/plain": [
       "| 1940      | 160.550732   | 0.965711          | 0.890780            | 0.131447          | 0.254374            |"
      ]
     },
     "metadata": {},
     "output_type": "display_data"
    },
    {
     "data": {
      "text/html": [
       "<pre>| 1950      | 161.381019   | 0.965807          | 0.890398            | 0.131129          | 0.254417            |</pre>"
      ],
      "text/plain": [
       "| 1950      | 161.381019   | 0.965807          | 0.890398            | 0.131129          | 0.254417            |"
      ]
     },
     "metadata": {},
     "output_type": "display_data"
    },
    {
     "data": {
      "text/html": [
       "<pre>| 1960      | 162.195101   | 0.965917          | 0.890562            | 0.130900          | 0.254373            |</pre>"
      ],
      "text/plain": [
       "| 1960      | 162.195101   | 0.965917          | 0.890562            | 0.130900          | 0.254373            |"
      ]
     },
     "metadata": {},
     "output_type": "display_data"
    },
    {
     "data": {
      "text/html": [
       "<pre>| 1970      | 163.006866   | 0.965999          | 0.890671            | 0.130614          | 0.254279            |</pre>"
      ],
      "text/plain": [
       "| 1970      | 163.006866   | 0.965999          | 0.890671            | 0.130614          | 0.254279            |"
      ]
     },
     "metadata": {},
     "output_type": "display_data"
    },
    {
     "data": {
      "text/html": [
       "<pre>| 1980      | 163.789388   | 0.966108          | 0.890998            | 0.130407          | 0.254199            |</pre>"
      ],
      "text/plain": [
       "| 1980      | 163.789388   | 0.966108          | 0.890998            | 0.130407          | 0.254199            |"
      ]
     },
     "metadata": {},
     "output_type": "display_data"
    },
    {
     "data": {
      "text/html": [
       "<pre>| 1990      | 164.617955   | 0.966369          | 0.891435            | 0.129774          | 0.254092            |</pre>"
      ],
      "text/plain": [
       "| 1990      | 164.617955   | 0.966369          | 0.891435            | 0.129774          | 0.254092            |"
      ]
     },
     "metadata": {},
     "output_type": "display_data"
    },
    {
     "data": {
      "text/html": [
       "<pre>| 2000      | 165.438496   | 0.966451          | 0.891598            | 0.129572          | 0.254099            |</pre>"
      ],
      "text/plain": [
       "| 2000      | 165.438496   | 0.966451          | 0.891598            | 0.129572          | 0.254099            |"
      ]
     },
     "metadata": {},
     "output_type": "display_data"
    },
    {
     "data": {
      "text/html": [
       "<pre>| 2010      | 166.268259   | 0.966807          | 0.891926            | 0.128934          | 0.253761            |</pre>"
      ],
      "text/plain": [
       "| 2010      | 166.268259   | 0.966807          | 0.891926            | 0.128934          | 0.253761            |"
      ]
     },
     "metadata": {},
     "output_type": "display_data"
    },
    {
     "data": {
      "text/html": [
       "<pre>| 2020      | 167.047198   | 0.966890          | 0.891598            | 0.128563          | 0.253657            |</pre>"
      ],
      "text/plain": [
       "| 2020      | 167.047198   | 0.966890          | 0.891598            | 0.128563          | 0.253657            |"
      ]
     },
     "metadata": {},
     "output_type": "display_data"
    },
    {
     "data": {
      "text/html": [
       "<pre>| 2030      | 167.827301   | 0.966917          | 0.891817            | 0.128273          | 0.253666            |</pre>"
      ],
      "text/plain": [
       "| 2030      | 167.827301   | 0.966917          | 0.891817            | 0.128273          | 0.253666            |"
      ]
     },
     "metadata": {},
     "output_type": "display_data"
    },
    {
     "data": {
      "text/html": [
       "<pre>| 2040      | 168.602502   | 0.966944          | 0.891980            | 0.128012          | 0.253616            |</pre>"
      ],
      "text/plain": [
       "| 2040      | 168.602502   | 0.966944          | 0.891980            | 0.128012          | 0.253616            |"
      ]
     },
     "metadata": {},
     "output_type": "display_data"
    },
    {
     "data": {
      "text/html": [
       "<pre>| 2050      | 169.449517   | 0.967054          | 0.892144            | 0.127699          | 0.253563            |</pre>"
      ],
      "text/plain": [
       "| 2050      | 169.449517   | 0.967054          | 0.892144            | 0.127699          | 0.253563            |"
      ]
     },
     "metadata": {},
     "output_type": "display_data"
    },
    {
     "data": {
      "text/html": [
       "<pre>| 2060      | 170.243291   | 0.967164          | 0.892308            | 0.127539          | 0.253496            |</pre>"
      ],
      "text/plain": [
       "| 2060      | 170.243291   | 0.967164          | 0.892308            | 0.127539          | 0.253496            |"
      ]
     },
     "metadata": {},
     "output_type": "display_data"
    },
    {
     "data": {
      "text/html": [
       "<pre>| 2070      | 171.036329   | 0.967369          | 0.892362            | 0.127209          | 0.253366            |</pre>"
      ],
      "text/plain": [
       "| 2070      | 171.036329   | 0.967369          | 0.892362            | 0.127209          | 0.253366            |"
      ]
     },
     "metadata": {},
     "output_type": "display_data"
    },
    {
     "data": {
      "text/html": [
       "<pre>| 2080      | 171.838649   | 0.967410          | 0.892199            | 0.126929          | 0.253257            |</pre>"
      ],
      "text/plain": [
       "| 2080      | 171.838649   | 0.967410          | 0.892199            | 0.126929          | 0.253257            |"
      ]
     },
     "metadata": {},
     "output_type": "display_data"
    },
    {
     "data": {
      "text/html": [
       "<pre>| 2090      | 172.636582   | 0.967438          | 0.892308            | 0.126714          | 0.253218            |</pre>"
      ],
      "text/plain": [
       "| 2090      | 172.636582   | 0.967438          | 0.892308            | 0.126714          | 0.253218            |"
      ]
     },
     "metadata": {},
     "output_type": "display_data"
    },
    {
     "data": {
      "text/html": [
       "<pre>| 2100      | 173.425736   | 0.967520          | 0.892308            | 0.126495          | 0.253202            |</pre>"
      ],
      "text/plain": [
       "| 2100      | 173.425736   | 0.967520          | 0.892308            | 0.126495          | 0.253202            |"
      ]
     },
     "metadata": {},
     "output_type": "display_data"
    },
    {
     "data": {
      "text/html": [
       "<pre>| 2110      | 174.212240   | 0.967561          | 0.892362            | 0.126282          | 0.253217            |</pre>"
      ],
      "text/plain": [
       "| 2110      | 174.212240   | 0.967561          | 0.892362            | 0.126282          | 0.253217            |"
      ]
     },
     "metadata": {},
     "output_type": "display_data"
    },
    {
     "data": {
      "text/html": [
       "<pre>| 2120      | 175.007281   | 0.967630          | 0.892308            | 0.126051          | 0.253157            |</pre>"
      ],
      "text/plain": [
       "| 2120      | 175.007281   | 0.967630          | 0.892308            | 0.126051          | 0.253157            |"
      ]
     },
     "metadata": {},
     "output_type": "display_data"
    },
    {
     "data": {
      "text/html": [
       "<pre>| 2130      | 175.825235   | 0.967753          | 0.892144            | 0.125679          | 0.253050            |</pre>"
      ],
      "text/plain": [
       "| 2130      | 175.825235   | 0.967753          | 0.892144            | 0.125679          | 0.253050            |"
      ]
     },
     "metadata": {},
     "output_type": "display_data"
    },
    {
     "data": {
      "text/html": [
       "<pre>| 2140      | 176.616401   | 0.967945          | 0.892253            | 0.125476          | 0.253053            |</pre>"
      ],
      "text/plain": [
       "| 2140      | 176.616401   | 0.967945          | 0.892253            | 0.125476          | 0.253053            |"
      ]
     },
     "metadata": {},
     "output_type": "display_data"
    },
    {
     "data": {
      "text/html": [
       "<pre>| 2150      | 177.447240   | 0.968054          | 0.892362            | 0.125302          | 0.253134            |</pre>"
      ],
      "text/plain": [
       "| 2150      | 177.447240   | 0.968054          | 0.892362            | 0.125302          | 0.253134            |"
      ]
     },
     "metadata": {},
     "output_type": "display_data"
    },
    {
     "data": {
      "text/html": [
       "<pre>| 2160      | 178.258582   | 0.968164          | 0.892035            | 0.125077          | 0.253100            |</pre>"
      ],
      "text/plain": [
       "| 2160      | 178.258582   | 0.968164          | 0.892035            | 0.125077          | 0.253100            |"
      ]
     },
     "metadata": {},
     "output_type": "display_data"
    },
    {
     "data": {
      "text/html": [
       "<pre>| 2170      | 179.045295   | 0.968383          | 0.891653            | 0.124793          | 0.253156            |</pre>"
      ],
      "text/plain": [
       "| 2170      | 179.045295   | 0.968383          | 0.891653            | 0.124793          | 0.253156            |"
      ]
     },
     "metadata": {},
     "output_type": "display_data"
    },
    {
     "data": {
      "text/html": [
       "<pre>| 2180      | 179.828832   | 0.968520          | 0.891762            | 0.124574          | 0.253055            |</pre>"
      ],
      "text/plain": [
       "| 2180      | 179.828832   | 0.968520          | 0.891762            | 0.124574          | 0.253055            |"
      ]
     },
     "metadata": {},
     "output_type": "display_data"
    },
    {
     "data": {
      "text/html": [
       "<pre>| 2190      | 180.634262   | 0.968548          | 0.891926            | 0.124213          | 0.253107            |</pre>"
      ],
      "text/plain": [
       "| 2190      | 180.634262   | 0.968548          | 0.891926            | 0.124213          | 0.253107            |"
      ]
     },
     "metadata": {},
     "output_type": "display_data"
    },
    {
     "data": {
      "text/html": [
       "<pre>| 2200      | 181.465318   | 0.968767          | 0.891871            | 0.123858          | 0.253054            |</pre>"
      ],
      "text/plain": [
       "| 2200      | 181.465318   | 0.968767          | 0.891871            | 0.123858          | 0.253054            |"
      ]
     },
     "metadata": {},
     "output_type": "display_data"
    },
    {
     "data": {
      "text/html": [
       "<pre>| 2210      | 182.238320   | 0.968945          | 0.892035            | 0.123562          | 0.252916            |</pre>"
      ],
      "text/plain": [
       "| 2210      | 182.238320   | 0.968945          | 0.892035            | 0.123562          | 0.252916            |"
      ]
     },
     "metadata": {},
     "output_type": "display_data"
    },
    {
     "data": {
      "text/html": [
       "<pre>| 2220      | 183.009292   | 0.969178          | 0.892089            | 0.123324          | 0.252814            |</pre>"
      ],
      "text/plain": [
       "| 2220      | 183.009292   | 0.969178          | 0.892089            | 0.123324          | 0.252814            |"
      ]
     },
     "metadata": {},
     "output_type": "display_data"
    },
    {
     "data": {
      "text/html": [
       "<pre>| 2230      | 183.808482   | 0.969302          | 0.892035            | 0.123096          | 0.252687            |</pre>"
      ],
      "text/plain": [
       "| 2230      | 183.808482   | 0.969302          | 0.892035            | 0.123096          | 0.252687            |"
      ]
     },
     "metadata": {},
     "output_type": "display_data"
    },
    {
     "data": {
      "text/html": [
       "<pre>| 2240      | 184.635751   | 0.969398          | 0.891980            | 0.122869          | 0.252748            |</pre>"
      ],
      "text/plain": [
       "| 2240      | 184.635751   | 0.969398          | 0.891980            | 0.122869          | 0.252748            |"
      ]
     },
     "metadata": {},
     "output_type": "display_data"
    },
    {
     "data": {
      "text/html": [
       "<pre>| 2250      | 185.446171   | 0.969507          | 0.892417            | 0.122656          | 0.252678            |</pre>"
      ],
      "text/plain": [
       "| 2250      | 185.446171   | 0.969507          | 0.892417            | 0.122656          | 0.252678            |"
      ]
     },
     "metadata": {},
     "output_type": "display_data"
    },
    {
     "data": {
      "text/html": [
       "<pre>| 2260      | 186.204272   | 0.969589          | 0.892253            | 0.122366          | 0.252664            |</pre>"
      ],
      "text/plain": [
       "| 2260      | 186.204272   | 0.969589          | 0.892253            | 0.122366          | 0.252664            |"
      ]
     },
     "metadata": {},
     "output_type": "display_data"
    },
    {
     "data": {
      "text/html": [
       "<pre>| 2270      | 187.091766   | 0.969726          | 0.892199            | 0.122098          | 0.252697            |</pre>"
      ],
      "text/plain": [
       "| 2270      | 187.091766   | 0.969726          | 0.892199            | 0.122098          | 0.252697            |"
      ]
     },
     "metadata": {},
     "output_type": "display_data"
    },
    {
     "data": {
      "text/html": [
       "<pre>| 2280      | 187.916783   | 0.969768          | 0.892144            | 0.121925          | 0.252636            |</pre>"
      ],
      "text/plain": [
       "| 2280      | 187.916783   | 0.969768          | 0.892144            | 0.121925          | 0.252636            |"
      ]
     },
     "metadata": {},
     "output_type": "display_data"
    },
    {
     "data": {
      "text/html": [
       "<pre>| 2290      | 188.709461   | 0.969822          | 0.892308            | 0.121769          | 0.252623            |</pre>"
      ],
      "text/plain": [
       "| 2290      | 188.709461   | 0.969822          | 0.892308            | 0.121769          | 0.252623            |"
      ]
     },
     "metadata": {},
     "output_type": "display_data"
    },
    {
     "data": {
      "text/html": [
       "<pre>| 2300      | 189.470681   | 0.969973          | 0.892308            | 0.121568          | 0.252568            |</pre>"
      ],
      "text/plain": [
       "| 2300      | 189.470681   | 0.969973          | 0.892308            | 0.121568          | 0.252568            |"
      ]
     },
     "metadata": {},
     "output_type": "display_data"
    },
    {
     "data": {
      "text/html": [
       "<pre>| 2310      | 190.232685   | 0.970055          | 0.892308            | 0.121365          | 0.252550            |</pre>"
      ],
      "text/plain": [
       "| 2310      | 190.232685   | 0.970055          | 0.892308            | 0.121365          | 0.252550            |"
      ]
     },
     "metadata": {},
     "output_type": "display_data"
    },
    {
     "data": {
      "text/html": [
       "<pre>| 2320      | 190.989979   | 0.970179          | 0.892471            | 0.121074          | 0.252472            |</pre>"
      ],
      "text/plain": [
       "| 2320      | 190.989979   | 0.970179          | 0.892471            | 0.121074          | 0.252472            |"
      ]
     },
     "metadata": {},
     "output_type": "display_data"
    },
    {
     "data": {
      "text/html": [
       "<pre>| 2330      | 192.139075   | 0.970439          | 0.892362            | 0.120812          | 0.252519            |</pre>"
      ],
      "text/plain": [
       "| 2330      | 192.139075   | 0.970439          | 0.892362            | 0.120812          | 0.252519            |"
      ]
     },
     "metadata": {},
     "output_type": "display_data"
    },
    {
     "data": {
      "text/html": [
       "<pre>| 2340      | 193.504819   | 0.970480          | 0.892526            | 0.120590          | 0.252464            |</pre>"
      ],
      "text/plain": [
       "| 2340      | 193.504819   | 0.970480          | 0.892526            | 0.120590          | 0.252464            |"
      ]
     },
     "metadata": {},
     "output_type": "display_data"
    },
    {
     "data": {
      "text/html": [
       "<pre>| 2350      | 194.862363   | 0.970562          | 0.892362            | 0.120431          | 0.252462            |</pre>"
      ],
      "text/plain": [
       "| 2350      | 194.862363   | 0.970562          | 0.892362            | 0.120431          | 0.252462            |"
      ]
     },
     "metadata": {},
     "output_type": "display_data"
    },
    {
     "data": {
      "text/html": [
       "<pre>| 2360      | 196.294616   | 0.970631          | 0.892471            | 0.120247          | 0.252431            |</pre>"
      ],
      "text/plain": [
       "| 2360      | 196.294616   | 0.970631          | 0.892471            | 0.120247          | 0.252431            |"
      ]
     },
     "metadata": {},
     "output_type": "display_data"
    },
    {
     "data": {
      "text/html": [
       "<pre>| 2370      | 197.406503   | 0.970741          | 0.892635            | 0.120012          | 0.252405            |</pre>"
      ],
      "text/plain": [
       "| 2370      | 197.406503   | 0.970741          | 0.892635            | 0.120012          | 0.252405            |"
      ]
     },
     "metadata": {},
     "output_type": "display_data"
    },
    {
     "data": {
      "text/html": [
       "<pre>| 2380      | 198.497163   | 0.970987          | 0.892580            | 0.119702          | 0.252361            |</pre>"
      ],
      "text/plain": [
       "| 2380      | 198.497163   | 0.970987          | 0.892580            | 0.119702          | 0.252361            |"
      ]
     },
     "metadata": {},
     "output_type": "display_data"
    },
    {
     "data": {
      "text/html": [
       "<pre>| 2390      | 199.358781   | 0.971111          | 0.891926            | 0.119428          | 0.252255            |</pre>"
      ],
      "text/plain": [
       "| 2390      | 199.358781   | 0.971111          | 0.891926            | 0.119428          | 0.252255            |"
      ]
     },
     "metadata": {},
     "output_type": "display_data"
    },
    {
     "data": {
      "text/html": [
       "<pre>| 2400      | 200.209064   | 0.971234          | 0.891926            | 0.119214          | 0.252201            |</pre>"
      ],
      "text/plain": [
       "| 2400      | 200.209064   | 0.971234          | 0.891926            | 0.119214          | 0.252201            |"
      ]
     },
     "metadata": {},
     "output_type": "display_data"
    },
    {
     "data": {
      "text/html": [
       "<pre>| 2410      | 201.111956   | 0.971193          | 0.892144            | 0.118852          | 0.252070            |</pre>"
      ],
      "text/plain": [
       "| 2410      | 201.111956   | 0.971193          | 0.892144            | 0.118852          | 0.252070            |"
      ]
     },
     "metadata": {},
     "output_type": "display_data"
    },
    {
     "data": {
      "text/html": [
       "<pre>| 2420      | 201.915718   | 0.971261          | 0.892417            | 0.118663          | 0.251942            |</pre>"
      ],
      "text/plain": [
       "| 2420      | 201.915718   | 0.971261          | 0.892417            | 0.118663          | 0.251942            |"
      ]
     },
     "metadata": {},
     "output_type": "display_data"
    },
    {
     "data": {
      "text/html": [
       "<pre>| 2430      | 202.775676   | 0.971330          | 0.892308            | 0.118430          | 0.251961            |</pre>"
      ],
      "text/plain": [
       "| 2430      | 202.775676   | 0.971330          | 0.892308            | 0.118430          | 0.251961            |"
      ]
     },
     "metadata": {},
     "output_type": "display_data"
    },
    {
     "data": {
      "text/html": [
       "<pre>| 2440      | 203.625141   | 0.971494          | 0.892144            | 0.118199          | 0.251971            |</pre>"
      ],
      "text/plain": [
       "| 2440      | 203.625141   | 0.971494          | 0.892144            | 0.118199          | 0.251971            |"
      ]
     },
     "metadata": {},
     "output_type": "display_data"
    },
    {
     "data": {
      "text/html": [
       "<pre>| 2450      | 204.514084   | 0.971618          | 0.892253            | 0.117936          | 0.251907            |</pre>"
      ],
      "text/plain": [
       "| 2450      | 204.514084   | 0.971618          | 0.892253            | 0.117936          | 0.251907            |"
      ]
     },
     "metadata": {},
     "output_type": "display_data"
    },
    {
     "data": {
      "text/html": [
       "<pre>| 2460      | 205.269834   | 0.971631          | 0.892199            | 0.117622          | 0.251839            |</pre>"
      ],
      "text/plain": [
       "| 2460      | 205.269834   | 0.971631          | 0.892199            | 0.117622          | 0.251839            |"
      ]
     },
     "metadata": {},
     "output_type": "display_data"
    },
    {
     "data": {
      "text/html": [
       "<pre>| 2470      | 206.125810   | 0.971590          | 0.892362            | 0.117352          | 0.251825            |</pre>"
      ],
      "text/plain": [
       "| 2470      | 206.125810   | 0.971590          | 0.892362            | 0.117352          | 0.251825            |"
      ]
     },
     "metadata": {},
     "output_type": "display_data"
    },
    {
     "data": {
      "text/html": [
       "<pre>| 2480      | 206.908109   | 0.971659          | 0.892253            | 0.117030          | 0.251740            |</pre>"
      ],
      "text/plain": [
       "| 2480      | 206.908109   | 0.971659          | 0.892253            | 0.117030          | 0.251740            |"
      ]
     },
     "metadata": {},
     "output_type": "display_data"
    },
    {
     "data": {
      "text/html": [
       "<pre>| 2490      | 207.742495   | 0.971755          | 0.892526            | 0.116710          | 0.251808            |</pre>"
      ],
      "text/plain": [
       "| 2490      | 207.742495   | 0.971755          | 0.892526            | 0.116710          | 0.251808            |"
      ]
     },
     "metadata": {},
     "output_type": "display_data"
    },
    {
     "data": {
      "text/html": [
       "<pre>| 2500      | 208.589770   | 0.971864          | 0.892580            | 0.116545          | 0.251824            |</pre>"
      ],
      "text/plain": [
       "| 2500      | 208.589770   | 0.971864          | 0.892580            | 0.116545          | 0.251824            |"
      ]
     },
     "metadata": {},
     "output_type": "display_data"
    },
    {
     "data": {
      "text/html": [
       "<pre>+-----------+--------------+-------------------+---------------------+-------------------+---------------------+</pre>"
      ],
      "text/plain": [
       "+-----------+--------------+-------------------+---------------------+-------------------+---------------------+"
      ]
     },
     "metadata": {},
     "output_type": "display_data"
    }
   ],
   "source": [
    "# Modelling using GBM\n",
    "model_gbm1 = gl.boosted_trees_classifier.create(train_data, validation_set=test_data,\n",
    "                                         target='label', features=['ngram1'],\n",
    "                                         max_iterations=2500, max_depth=6, step_size=0.3,\n",
    "                                         min_loss_reduction=1e-6, min_child_weight=0.1,\n",
    "                                         row_subsample=1.0, column_subsample=0.8, random_seed=123,\n",
    "                                         metric='auto')"
   ]
  },
  {
   "cell_type": "code",
   "execution_count": 9,
   "metadata": {
    "collapsed": false
   },
   "outputs": [
    {
     "data": {
      "text/plain": [
       "Class                          : BoostedTreesClassifier\n",
       "\n",
       "Schema\n",
       "------\n",
       "Number of examples             : 72968\n",
       "Number of feature columns      : 1\n",
       "Number of unpacked features    : 37782\n",
       "Number of classes              : 2\n",
       "\n",
       "Settings\n",
       "--------\n",
       "Number of trees                : 2500\n",
       "Max tree depth                 : 6\n",
       "Training time (sec)            : 208.5977\n",
       "Training accuracy              : 0.9719\n",
       "Validation accuracy            : 0.8926\n",
       "Training log_loss              : 0.1165\n",
       "Validation log_loss            : 0.2518"
      ]
     },
     "execution_count": 9,
     "metadata": {},
     "output_type": "execute_result"
    }
   ],
   "source": [
    "model_gbm1"
   ]
  },
  {
   "cell_type": "code",
   "execution_count": 11,
   "metadata": {
    "collapsed": false
   },
   "outputs": [
    {
     "data": {
      "text/plain": [
       "{'accuracy': 0.8925804691762138,\n",
       " 'auc': 0.9609499612714539,\n",
       " 'confusion_matrix': Columns:\n",
       " \ttarget_label\tstr\n",
       " \tpredicted_label\tstr\n",
       " \tcount\tint\n",
       " \n",
       " Rows: 4\n",
       " \n",
       " Data:\n",
       " +---------------+-----------------+-------+\n",
       " |  target_label | predicted_label | count |\n",
       " +---------------+-----------------+-------+\n",
       " |   sarcastic   |    sarcastic    |  9289 |\n",
       " |   sarcastic   |  non-sarcastic  |  946  |\n",
       " | non-sarcastic |    sarcastic    |  1023 |\n",
       " | non-sarcastic |  non-sarcastic  |  7072 |\n",
       " +---------------+-----------------+-------+\n",
       " [4 rows x 3 columns],\n",
       " 'f1_score': 0.9041709251958924,\n",
       " 'log_loss': 0.2518241364558384,\n",
       " 'precision': 0.9007951900698216,\n",
       " 'recall': 0.9075720566682951,\n",
       " 'roc_curve': Columns:\n",
       " \tthreshold\tfloat\n",
       " \tfpr\tfloat\n",
       " \ttpr\tfloat\n",
       " \tp\tint\n",
       " \tn\tint\n",
       " \n",
       " Rows: 100001\n",
       " \n",
       " Data:\n",
       " +-----------+----------------+-----+-------+------+\n",
       " | threshold |      fpr       | tpr |   p   |  n   |\n",
       " +-----------+----------------+-----+-------+------+\n",
       " |    0.0    |      1.0       | 1.0 | 10235 | 8095 |\n",
       " |   1e-05   | 0.984558369364 | 1.0 | 10235 | 8095 |\n",
       " |   2e-05   | 0.977393452749 | 1.0 | 10235 | 8095 |\n",
       " |   3e-05   | 0.972205064855 | 1.0 | 10235 | 8095 |\n",
       " |   4e-05   | 0.969240271773 | 1.0 | 10235 | 8095 |\n",
       " |   5e-05   | 0.96504014824  | 1.0 | 10235 | 8095 |\n",
       " |   6e-05   | 0.962940086473 | 1.0 | 10235 | 8095 |\n",
       " |   7e-05   | 0.961334156887 | 1.0 | 10235 | 8095 |\n",
       " |   8e-05   | 0.959110562075 | 1.0 | 10235 | 8095 |\n",
       " |   9e-05   | 0.956639901174 | 1.0 | 10235 | 8095 |\n",
       " +-----------+----------------+-----+-------+------+\n",
       " [100001 rows x 5 columns]\n",
       " Note: Only the head of the SFrame is printed.\n",
       " You can use print_rows(num_rows=m, num_columns=n) to print more rows and columns.}"
      ]
     },
     "execution_count": 11,
     "metadata": {},
     "output_type": "execute_result"
    }
   ],
   "source": [
    "model_gbm1.evaluate(test_data)"
   ]
  },
  {
   "cell_type": "code",
   "execution_count": 14,
   "metadata": {
    "collapsed": false
   },
   "outputs": [],
   "source": [
    "# Make Predictions\n",
    "predictions = model_gbm1.classify(test)"
   ]
  },
  {
   "cell_type": "code",
   "execution_count": 15,
   "metadata": {
    "collapsed": false
   },
   "outputs": [
    {
     "data": {
      "text/html": [
       "<div style=\"max-height:1000px;max-width:1500px;overflow:auto;\"><table frame=\"box\" rules=\"cols\">\n",
       "    <tr>\n",
       "        <th style=\"padding-left: 1em; padding-right: 1em; text-align: center\">class</th>\n",
       "        <th style=\"padding-left: 1em; padding-right: 1em; text-align: center\">probability</th>\n",
       "    </tr>\n",
       "    <tr>\n",
       "        <td style=\"padding-left: 1em; padding-right: 1em; text-align: center; vertical-align: top\">sarcastic</td>\n",
       "        <td style=\"padding-left: 1em; padding-right: 1em; text-align: center; vertical-align: top\">0.647453010082</td>\n",
       "    </tr>\n",
       "    <tr>\n",
       "        <td style=\"padding-left: 1em; padding-right: 1em; text-align: center; vertical-align: top\">sarcastic</td>\n",
       "        <td style=\"padding-left: 1em; padding-right: 1em; text-align: center; vertical-align: top\">0.996821284294</td>\n",
       "    </tr>\n",
       "    <tr>\n",
       "        <td style=\"padding-left: 1em; padding-right: 1em; text-align: center; vertical-align: top\">sarcastic</td>\n",
       "        <td style=\"padding-left: 1em; padding-right: 1em; text-align: center; vertical-align: top\">0.995850563049</td>\n",
       "    </tr>\n",
       "    <tr>\n",
       "        <td style=\"padding-left: 1em; padding-right: 1em; text-align: center; vertical-align: top\">non-sarcastic</td>\n",
       "        <td style=\"padding-left: 1em; padding-right: 1em; text-align: center; vertical-align: top\">0.511426717043</td>\n",
       "    </tr>\n",
       "    <tr>\n",
       "        <td style=\"padding-left: 1em; padding-right: 1em; text-align: center; vertical-align: top\">sarcastic</td>\n",
       "        <td style=\"padding-left: 1em; padding-right: 1em; text-align: center; vertical-align: top\">0.973896384239</td>\n",
       "    </tr>\n",
       "    <tr>\n",
       "        <td style=\"padding-left: 1em; padding-right: 1em; text-align: center; vertical-align: top\">non-sarcastic</td>\n",
       "        <td style=\"padding-left: 1em; padding-right: 1em; text-align: center; vertical-align: top\">0.980965374038</td>\n",
       "    </tr>\n",
       "    <tr>\n",
       "        <td style=\"padding-left: 1em; padding-right: 1em; text-align: center; vertical-align: top\">non-sarcastic</td>\n",
       "        <td style=\"padding-left: 1em; padding-right: 1em; text-align: center; vertical-align: top\">0.999190053495</td>\n",
       "    </tr>\n",
       "    <tr>\n",
       "        <td style=\"padding-left: 1em; padding-right: 1em; text-align: center; vertical-align: top\">non-sarcastic</td>\n",
       "        <td style=\"padding-left: 1em; padding-right: 1em; text-align: center; vertical-align: top\">0.871518865228</td>\n",
       "    </tr>\n",
       "    <tr>\n",
       "        <td style=\"padding-left: 1em; padding-right: 1em; text-align: center; vertical-align: top\">sarcastic</td>\n",
       "        <td style=\"padding-left: 1em; padding-right: 1em; text-align: center; vertical-align: top\">0.948249518871</td>\n",
       "    </tr>\n",
       "    <tr>\n",
       "        <td style=\"padding-left: 1em; padding-right: 1em; text-align: center; vertical-align: top\">non-sarcastic</td>\n",
       "        <td style=\"padding-left: 1em; padding-right: 1em; text-align: center; vertical-align: top\">0.999989347376</td>\n",
       "    </tr>\n",
       "</table>\n",
       "[10 rows x 2 columns]<br/>\n",
       "</div>"
      ],
      "text/plain": [
       "Columns:\n",
       "\tclass\tstr\n",
       "\tprobability\tfloat\n",
       "\n",
       "Rows: 10\n",
       "\n",
       "Data:\n",
       "+---------------+----------------+\n",
       "|     class     |  probability   |\n",
       "+---------------+----------------+\n",
       "|   sarcastic   | 0.647453010082 |\n",
       "|   sarcastic   | 0.996821284294 |\n",
       "|   sarcastic   | 0.995850563049 |\n",
       "| non-sarcastic | 0.511426717043 |\n",
       "|   sarcastic   | 0.973896384239 |\n",
       "| non-sarcastic | 0.980965374038 |\n",
       "| non-sarcastic | 0.999190053495 |\n",
       "| non-sarcastic | 0.871518865228 |\n",
       "|   sarcastic   | 0.948249518871 |\n",
       "| non-sarcastic | 0.999989347376 |\n",
       "+---------------+----------------+\n",
       "[10 rows x 2 columns]"
      ]
     },
     "execution_count": 15,
     "metadata": {},
     "output_type": "execute_result"
    }
   ],
   "source": [
    "predictions.head()"
   ]
  },
  {
   "cell_type": "code",
   "execution_count": 16,
   "metadata": {
    "collapsed": false
   },
   "outputs": [
    {
     "data": {
      "text/html": [
       "<div style=\"max-height:1000px;max-width:1500px;overflow:auto;\"><table frame=\"box\" rules=\"cols\">\n",
       "    <tr>\n",
       "        <th style=\"padding-left: 1em; padding-right: 1em; text-align: center\">ID</th>\n",
       "        <th style=\"padding-left: 1em; padding-right: 1em; text-align: center\">label</th>\n",
       "    </tr>\n",
       "    <tr>\n",
       "        <td style=\"padding-left: 1em; padding-right: 1em; text-align: center; vertical-align: top\">T000543656</td>\n",
       "        <td style=\"padding-left: 1em; padding-right: 1em; text-align: center; vertical-align: top\">sarcastic</td>\n",
       "    </tr>\n",
       "    <tr>\n",
       "        <td style=\"padding-left: 1em; padding-right: 1em; text-align: center; vertical-align: top\">T000543657</td>\n",
       "        <td style=\"padding-left: 1em; padding-right: 1em; text-align: center; vertical-align: top\">sarcastic</td>\n",
       "    </tr>\n",
       "    <tr>\n",
       "        <td style=\"padding-left: 1em; padding-right: 1em; text-align: center; vertical-align: top\">T000543658</td>\n",
       "        <td style=\"padding-left: 1em; padding-right: 1em; text-align: center; vertical-align: top\">sarcastic</td>\n",
       "    </tr>\n",
       "    <tr>\n",
       "        <td style=\"padding-left: 1em; padding-right: 1em; text-align: center; vertical-align: top\">T000543659</td>\n",
       "        <td style=\"padding-left: 1em; padding-right: 1em; text-align: center; vertical-align: top\">non-sarcastic</td>\n",
       "    </tr>\n",
       "    <tr>\n",
       "        <td style=\"padding-left: 1em; padding-right: 1em; text-align: center; vertical-align: top\">T000543660</td>\n",
       "        <td style=\"padding-left: 1em; padding-right: 1em; text-align: center; vertical-align: top\">sarcastic</td>\n",
       "    </tr>\n",
       "    <tr>\n",
       "        <td style=\"padding-left: 1em; padding-right: 1em; text-align: center; vertical-align: top\">T000543661</td>\n",
       "        <td style=\"padding-left: 1em; padding-right: 1em; text-align: center; vertical-align: top\">non-sarcastic</td>\n",
       "    </tr>\n",
       "    <tr>\n",
       "        <td style=\"padding-left: 1em; padding-right: 1em; text-align: center; vertical-align: top\">T000543662</td>\n",
       "        <td style=\"padding-left: 1em; padding-right: 1em; text-align: center; vertical-align: top\">non-sarcastic</td>\n",
       "    </tr>\n",
       "    <tr>\n",
       "        <td style=\"padding-left: 1em; padding-right: 1em; text-align: center; vertical-align: top\">T000543663</td>\n",
       "        <td style=\"padding-left: 1em; padding-right: 1em; text-align: center; vertical-align: top\">non-sarcastic</td>\n",
       "    </tr>\n",
       "    <tr>\n",
       "        <td style=\"padding-left: 1em; padding-right: 1em; text-align: center; vertical-align: top\">T000543664</td>\n",
       "        <td style=\"padding-left: 1em; padding-right: 1em; text-align: center; vertical-align: top\">sarcastic</td>\n",
       "    </tr>\n",
       "    <tr>\n",
       "        <td style=\"padding-left: 1em; padding-right: 1em; text-align: center; vertical-align: top\">T000543665</td>\n",
       "        <td style=\"padding-left: 1em; padding-right: 1em; text-align: center; vertical-align: top\">non-sarcastic</td>\n",
       "    </tr>\n",
       "</table>\n",
       "[10 rows x 2 columns]<br/>\n",
       "</div>"
      ],
      "text/plain": [
       "Columns:\n",
       "\tID\tstr\n",
       "\tlabel\tstr\n",
       "\n",
       "Rows: 10\n",
       "\n",
       "Data:\n",
       "+------------+---------------+\n",
       "|     ID     |     label     |\n",
       "+------------+---------------+\n",
       "| T000543656 |   sarcastic   |\n",
       "| T000543657 |   sarcastic   |\n",
       "| T000543658 |   sarcastic   |\n",
       "| T000543659 | non-sarcastic |\n",
       "| T000543660 |   sarcastic   |\n",
       "| T000543661 | non-sarcastic |\n",
       "| T000543662 | non-sarcastic |\n",
       "| T000543663 | non-sarcastic |\n",
       "| T000543664 |   sarcastic   |\n",
       "| T000543665 | non-sarcastic |\n",
       "+------------+---------------+\n",
       "[10 rows x 2 columns]"
      ]
     },
     "execution_count": 16,
     "metadata": {},
     "output_type": "execute_result"
    }
   ],
   "source": [
    "submit = gl.SFrame({'ID':test['ID'],'label':predictions['class']})\n",
    "submit.head()"
   ]
  },
  {
   "cell_type": "code",
   "execution_count": 17,
   "metadata": {
    "collapsed": true
   },
   "outputs": [],
   "source": [
    "submit.save('data/submit.csv', format='csv')"
   ]
  },
  {
   "cell_type": "markdown",
   "metadata": {},
   "source": [
    "This scores the following F1 score,\n",
    "\n",
    "- Validation: 0.904171\n",
    "- Public LB: 0.6642\n",
    "- Private LB: 0.619765\n",
    "\n",
    "As you can see there is a huge gap between Validation and Public LB which makes it tricker.\n",
    "\n",
    "Including 2-grams and/or 3-grams results in an exponential increase in the number of features in the order of millions. This doesn't improve the F1 score and infact becomes worse than the simple 1-gram model."
   ]
  },
  {
   "cell_type": "markdown",
   "metadata": {},
   "source": [
    "# Approach 2"
   ]
  },
  {
   "cell_type": "markdown",
   "metadata": {},
   "source": [
    "This approach involves making the 1-gram model more efficient by reducing the number of features by,\n",
    "- Trimming rare words\n",
    "- Extracting Parts of Speech viz. Adjectives"
   ]
  },
  {
   "cell_type": "code",
   "execution_count": 18,
   "metadata": {
    "collapsed": false
   },
   "outputs": [],
   "source": [
    "# Create a RareWordTrimmer transformer\n",
    "from graphlab.toolkits.feature_engineering import RareWordTrimmer\n",
    "trimmer = RareWordTrimmer()\n",
    "\n",
    "# Create a PartOfSpeechExtractor transformer\n",
    "from graphlab.toolkits.feature_engineering import PartOfSpeechExtractor\n",
    "transformer = PartOfSpeechExtractor()"
   ]
  },
  {
   "cell_type": "code",
   "execution_count": 19,
   "metadata": {
    "collapsed": false
   },
   "outputs": [],
   "source": [
    "# RareWordTrimmer\n",
    "train_rare = trimmer.fit_transform(gl.SFrame(train))\n",
    "test_rare = trimmer.fit_transform(gl.SFrame(test))"
   ]
  },
  {
   "cell_type": "code",
   "execution_count": null,
   "metadata": {
    "collapsed": true
   },
   "outputs": [],
   "source": [
    "# PartOfSpeechExtractor\n",
    "train_pos = trimmer.fit_transform(gl.SFrame(train))\n",
    "test_pos = trimmer.fit_transform(gl.SFrame(test))"
   ]
  },
  {
   "cell_type": "markdown",
   "metadata": {},
   "source": [
    "This doesn't improve the F1 score in Validation and Public LB (0.56)."
   ]
  },
  {
   "cell_type": "markdown",
   "metadata": {
    "collapsed": true
   },
   "source": [
    "# Approach 3"
   ]
  },
  {
   "cell_type": "markdown",
   "metadata": {},
   "source": [
    "This approach uses `pandas` and `nltk` to reduce the 1-gram features through stemming"
   ]
  },
  {
   "cell_type": "code",
   "execution_count": 19,
   "metadata": {
    "collapsed": false
   },
   "outputs": [],
   "source": [
    "import pandas as pd\n",
    "import re\n",
    "from __future__ import unicode_literals\n",
    "import nltk\n",
    "from nltk.corpus import stopwords\n",
    "from nltk.stem.snowball import SnowballStemmer\n",
    "stemmer = SnowballStemmer(\"english\")"
   ]
  },
  {
   "cell_type": "code",
   "execution_count": 20,
   "metadata": {
    "collapsed": true
   },
   "outputs": [],
   "source": [
    "def tweet_to_words(raw_tweet):\n",
    "    '''\n",
    "    Funtion to ...\n",
    "       Clean tweets\n",
    "       Extract only text from tweets\n",
    "       Drop stop words\n",
    "       Stem the words\n",
    "       Join words to sentence\n",
    "    '''\n",
    "    doc = re.sub(\"b'\", \"\", raw_tweet)\n",
    "    doc = re.sub('b\"', \"\", doc)\n",
    "    letters_only = re.sub(\"[^a-zA-Z]\", \" \", doc) \n",
    "    words = letters_only.lower().split()\n",
    "    stops = set(stopwords.words(\"english\"))\n",
    "    meaningful_words = [w for w in words if not w in stops] \n",
    "    stem_words = [stemmer.stem(mw) for mw in meaningful_words]\n",
    "    return(str( \" \".join(stem_words)))"
   ]
  },
  {
   "cell_type": "code",
   "execution_count": 8,
   "metadata": {
    "collapsed": false
   },
   "outputs": [],
   "source": [
    "train['tweet'] = train_tweet.apply(lambda x: tweet_to_words(x))\n",
    "test['tweet'] = test_tweet.apply(lambda x: tweet_to_words(x))"
   ]
  },
  {
   "cell_type": "markdown",
   "metadata": {},
   "source": [
    "This doesn't improve the F1 score in Validation and Public LB (0.56)."
   ]
  }
 ],
 "metadata": {
  "anaconda-cloud": {},
  "kernelspec": {
   "display_name": "Python [conda env:py27]",
   "language": "python",
   "name": "conda-env-py27-py"
  },
  "language_info": {
   "codemirror_mode": {
    "name": "ipython",
    "version": 2
   },
   "file_extension": ".py",
   "mimetype": "text/x-python",
   "name": "python",
   "nbconvert_exporter": "python",
   "pygments_lexer": "ipython2",
   "version": "2.7.12"
  }
 },
 "nbformat": 4,
 "nbformat_minor": 1
}
